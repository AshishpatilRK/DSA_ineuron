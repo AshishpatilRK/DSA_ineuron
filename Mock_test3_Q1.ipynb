{
 "cells": [
  {
   "cell_type": "markdown",
   "id": "fa916569",
   "metadata": {},
   "source": [
    "# Question -1"
   ]
  },
  {
   "cell_type": "markdown",
   "id": "d9932799",
   "metadata": {},
   "source": [
    "Implement a stack using a list in Python. Include the necessary methods such as push, pop, and isEmpty."
   ]
  },
  {
   "cell_type": "code",
   "execution_count": 3,
   "id": "25f81824",
   "metadata": {},
   "outputs": [
    {
     "name": "stdout",
     "output_type": "stream",
     "text": [
      "Elements Push in the stack\n",
      "['a', 'b', 'c']\n",
      "c\n",
      "b\n",
      "a\n",
      "Elements Pop from the stack\n",
      "[]\n"
     ]
    }
   ],
   "source": [
    "stack = []\n",
    "stack.append('a')   # append() finction yo push element\n",
    "stack.append('b')\n",
    "stack.append('c')\n",
    "\n",
    "print(\"Elements Push in the stack\")\n",
    "print(stack)\n",
    "\n",
    "print(stack.pop())  # pop function to pop element from stack in LIFO order\n",
    "print(stack.pop())\n",
    "print(stack.pop())\n",
    "\n",
    "print(\"Elements Pop from the stack\")\n",
    "print(stack)\n"
   ]
  },
  {
   "cell_type": "markdown",
   "id": "88e53838",
   "metadata": {},
   "source": [
    "impementation of stack using Singly linked list"
   ]
  },
  {
   "cell_type": "markdown",
   "id": "c8353b7f",
   "metadata": {},
   "source": [
    "* push() - Push the value into head of the stack.\n",
    "* pop()  - Removes and return a value in the head of the stack. If stack is empty , raise exception.\n",
    "* isEmpty()  - Return True if stack is empty. False otherwise."
   ]
  },
  {
   "cell_type": "code",
   "execution_count": 2,
   "id": "75f127dd",
   "metadata": {},
   "outputs": [
    {
     "name": "stdout",
     "output_type": "stream",
     "text": [
      "Stack: 10->9->8->7->6->5->4->3->2->1\n",
      "Pop: 10\n",
      "Pop: 9\n",
      "Pop: 8\n",
      "Pop: 7\n",
      "Pop: 6\n",
      "Stack: 5->4->3->2->1\n"
     ]
    }
   ],
   "source": [
    "class Node:                  # node class\n",
    "    def __init__(self, value):\n",
    "        self.value = value\n",
    "        self.next = None \n",
    "        \n",
    "class Stack:\n",
    "    def __init__(self):                       # Initializing a stack.\n",
    "        self.head = Node(\"head\")\n",
    "        self.size = 0\n",
    "    def __str__(self):                   # String representation of the stack\n",
    "        cur = self.head.next\n",
    "        out = \"\"\n",
    "        while cur:\n",
    "            out += str(cur.value) + \"->\"\n",
    "            cur = cur.next\n",
    "        return out[:-2]\n",
    " \n",
    "    def getSize(self):              # Get the current size of the stack\n",
    "        return self.size\n",
    " \n",
    "    def isEmpty(self):             # Check if the stack is empty\n",
    "        return self.size == 0\n",
    " \n",
    "    def peek(self):                # Get the top item of the stack\n",
    "        if self.isEmpty():\n",
    "            raise Exception(\"Peeking from an empty stack\")\n",
    "        return self.head.next.value\n",
    " \n",
    "    def push(self, value):           # Push a value into the stack.\n",
    "        node = Node(value)\n",
    "        node.next = self.head.next\n",
    "        self.head.next = node\n",
    "        self.size += 1\n",
    " \n",
    "    def pop(self):                 # Remove a value from the stack and return.\n",
    "        if self.isEmpty():\n",
    "            raise Exception(\"Popping from an empty stack\")\n",
    "        remove = self.head.next\n",
    "        self.head.next = self.head.next.next\n",
    "        self.size -= 1\n",
    "        return remove.value\n",
    "\n",
    "    \n",
    "stack = Stack()\n",
    "for i in range(1, 11):\n",
    "        stack.push(i)  # call push function\n",
    "print(f\"Stack: {stack}\")\n",
    " \n",
    "for i in range(1, 6):\n",
    "    remove = stack.pop()   # call pop function\n",
    "    print(f\"Pop: {remove}\")\n",
    "print(f\"Stack: {stack}\")"
   ]
  },
  {
   "cell_type": "code",
   "execution_count": null,
   "id": "74975a53",
   "metadata": {},
   "outputs": [],
   "source": []
  }
 ],
 "metadata": {
  "kernelspec": {
   "display_name": "Python 3 (ipykernel)",
   "language": "python",
   "name": "python3"
  },
  "language_info": {
   "codemirror_mode": {
    "name": "ipython",
    "version": 3
   },
   "file_extension": ".py",
   "mimetype": "text/x-python",
   "name": "python",
   "nbconvert_exporter": "python",
   "pygments_lexer": "ipython3",
   "version": "3.9.13"
  }
 },
 "nbformat": 4,
 "nbformat_minor": 5
}
