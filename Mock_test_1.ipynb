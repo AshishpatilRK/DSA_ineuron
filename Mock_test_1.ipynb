{
 "cells": [
  {
   "cell_type": "markdown",
   "id": "e3135787",
   "metadata": {},
   "source": [
    "Q1.\n",
    "Move Zeroes\n",
    "Given an integer array nums, move all 0's to the end of it while maintaining the relative order of the non-zero elements.\n",
    "\n",
    "Note that you must do this in-place without making a copy of the array.\n",
    "\n",
    "Example 1:\n",
    "Input: nums = [0,1,0,3,12]\n",
    "Output: [1,3,12,0,0]\n",
    "\n",
    "Example 2:\n",
    "Input: nums = [0]\n",
    "Output: [0]\n",
    "\n",
    "Constraints:\n",
    "a. 1 <= nums.length <= 10^4\n",
    "b. -2^31 <= nums[i] <= 2^31 - 1"
   ]
  },
  {
   "cell_type": "code",
   "execution_count": 29,
   "id": "18231555",
   "metadata": {},
   "outputs": [],
   "source": [
    "def move_z(l):            \n",
    "    z = 0                 # initiate z variable to 0\n",
    "    for i in range(len(l)):    # took loop of length of list/array\n",
    "        if l[i] != 0:              # if element in list no equal to zero - \n",
    "            l[i], l[z] = l[z], l[i]     # then reverse list/array\n",
    "            z += 1               \n",
    "        \n",
    "    return l          # get required o/p as all zero to end of list/array"
   ]
  },
  {
   "cell_type": "code",
   "execution_count": 30,
   "id": "04b15224",
   "metadata": {},
   "outputs": [
    {
     "data": {
      "text/plain": [
       "[1, 3, 12, 0, 0]"
      ]
     },
     "execution_count": 30,
     "metadata": {},
     "output_type": "execute_result"
    }
   ],
   "source": [
    "move_z([0,1,0,3,12])"
   ]
  },
  {
   "cell_type": "code",
   "execution_count": 31,
   "id": "8ddd01fd",
   "metadata": {},
   "outputs": [
    {
     "data": {
      "text/plain": [
       "[1, 3, 12, 0, 0, 0]"
      ]
     },
     "execution_count": 31,
     "metadata": {},
     "output_type": "execute_result"
    }
   ],
   "source": [
    "move_z([0,1,0,3,0,12])"
   ]
  },
  {
   "cell_type": "code",
   "execution_count": 32,
   "id": "bfa45400",
   "metadata": {},
   "outputs": [
    {
     "data": {
      "text/plain": [
       "[0]"
      ]
     },
     "execution_count": 32,
     "metadata": {},
     "output_type": "execute_result"
    }
   ],
   "source": [
    "move_z([0])"
   ]
  },
  {
   "cell_type": "markdown",
   "id": "20174b5d",
   "metadata": {},
   "source": [
    "Q2. First Unique Character in a String\n",
    "\n",
    "Given a string s, find the first non-repeating character in it and return its index. If it does not exist, return -1.\n",
    "\n",
    "Example 1:\n",
    "Input: s = \"leetcode\"\n",
    "Output: 0\n",
    "\n",
    "Example 2:\n",
    "Input: s = \"loveleetcode\"\n",
    "Output: 2\n",
    "\n",
    "Example 3:\n",
    "Input: s = \"aabb\"\n",
    "Output: -1\n",
    "\n",
    "Constraints:\n",
    "a. 1 <= s.length <= 10^5\n",
    "b. s consists of only lowercase English letters."
   ]
  },
  {
   "cell_type": "code",
   "execution_count": 23,
   "id": "1ca18ba2",
   "metadata": {},
   "outputs": [],
   "source": [
    "def Non_repeat_c(s):\n",
    "    char_c = {}              # initially took empty dictionary\n",
    "    for c in s:                # looping string\n",
    "        if c in char_c:          # if c in both string and dictionary count increases\n",
    "            char_c[c] += 1\n",
    "        else:\n",
    "            char_c[c] = 1       # otherwise count is 1\n",
    "    for i in range(len(s)):       # looping in range of lenth of string\n",
    "        if char_c[s[i]] == 1:   #   if conut = 1 and it is in string\n",
    "            return i               # then return its index\n",
    "    return -1                     # otherwise return -1"
   ]
  },
  {
   "cell_type": "code",
   "execution_count": 24,
   "id": "d0d05577",
   "metadata": {},
   "outputs": [
    {
     "data": {
      "text/plain": [
       "0"
      ]
     },
     "execution_count": 24,
     "metadata": {},
     "output_type": "execute_result"
    }
   ],
   "source": [
    "Non_repeat_c('leetcode')"
   ]
  },
  {
   "cell_type": "code",
   "execution_count": 25,
   "id": "87c7f142",
   "metadata": {},
   "outputs": [
    {
     "data": {
      "text/plain": [
       "2"
      ]
     },
     "execution_count": 25,
     "metadata": {},
     "output_type": "execute_result"
    }
   ],
   "source": [
    "Non_repeat_c('loveleetcode')"
   ]
  },
  {
   "cell_type": "code",
   "execution_count": 26,
   "id": "2187cb4d",
   "metadata": {},
   "outputs": [
    {
     "data": {
      "text/plain": [
       "-1"
      ]
     },
     "execution_count": 26,
     "metadata": {},
     "output_type": "execute_result"
    }
   ],
   "source": [
    "Non_repeat_c('aabb')"
   ]
  },
  {
   "cell_type": "code",
   "execution_count": null,
   "id": "3e0dc849",
   "metadata": {},
   "outputs": [],
   "source": []
  }
 ],
 "metadata": {
  "kernelspec": {
   "display_name": "Python 3 (ipykernel)",
   "language": "python",
   "name": "python3"
  },
  "language_info": {
   "codemirror_mode": {
    "name": "ipython",
    "version": 3
   },
   "file_extension": ".py",
   "mimetype": "text/x-python",
   "name": "python",
   "nbconvert_exporter": "python",
   "pygments_lexer": "ipython3",
   "version": "3.9.13"
  }
 },
 "nbformat": 4,
 "nbformat_minor": 5
}
