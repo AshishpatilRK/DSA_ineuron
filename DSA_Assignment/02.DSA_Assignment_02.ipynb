{
 "cells": [
  {
   "cell_type": "markdown",
   "id": "2628b071",
   "metadata": {},
   "source": [
    "# DSA_Assignment_02"
   ]
  },
  {
   "cell_type": "markdown",
   "id": "b3da0d18",
   "metadata": {},
   "source": [
    "**Question 1**\n",
    "Given an integer array nums of 2n integers, group these integers into n pairs (a1, b1), (a2, b2),..., (an, bn) such that the sum of min(ai, bi) for all i is maximized. Return the maximized sum.\n",
    "\n",
    "**Example 1:**\n",
    "Input: nums = [1,4,3,2]\n",
    "Output: 4\n",
    "\n",
    "**Explanation:** All possible pairings (ignoring the ordering of elements) are:\n",
    "\n",
    "1. (1, 4), (2, 3) -> min(1, 4) + min(2, 3) = 1 + 2 = 3\n",
    "2. (1, 3), (2, 4) -> min(1, 3) + min(2, 4) = 1 + 2 = 3\n",
    "3. (1, 2), (3, 4) -> min(1, 2) + min(3, 4) = 1 + 3 = 4\n",
    "So the maximum possible sum is 4"
   ]
  },
  {
   "cell_type": "code",
   "execution_count": 1,
   "id": "f769785a",
   "metadata": {},
   "outputs": [],
   "source": [
    "def pair_sum(arr):\n",
    "    arr.sort()\n",
    "    result = 0\n",
    "\n",
    "    for i in range(0, len(arr), 2):\n",
    "        pair_sum = min(arr[i], arr[i+1]) if i+1 < len(arr) else arr[i]\n",
    "        result += pair_sum\n",
    "\n",
    "    return result"
   ]
  },
  {
   "cell_type": "code",
   "execution_count": 2,
   "id": "eed91d6d",
   "metadata": {},
   "outputs": [
    {
     "name": "stdout",
     "output_type": "stream",
     "text": [
      "4\n"
     ]
    }
   ],
   "source": [
    "nums = [1,4,3,2]\n",
    "print(pair_sum(nums))"
   ]
  },
  {
   "cell_type": "code",
   "execution_count": 3,
   "id": "13ccff57",
   "metadata": {},
   "outputs": [
    {
     "name": "stdout",
     "output_type": "stream",
     "text": [
      "9\n"
     ]
    }
   ],
   "source": [
    "nums = [4,2,4,2,4,3]\n",
    "print(pair_sum(nums))"
   ]
  },
  {
   "cell_type": "markdown",
   "id": "d73d940b",
   "metadata": {},
   "source": [
    "Question 2<br>\n",
    "Alice has n candies, where the ith candy is of type candyType[i]. Alice noticed that she started to gain weight, so she visited a doctor. \n",
    "\n",
    "The doctor advised Alice to only eat n / 2 of the candies she has (n is always even). Alice likes her candies very much, and she wants to eat the maximum number of different types of candies while still following the doctor's advice. \n",
    "\n",
    "Given the integer array candyType of length n, return the maximum number of different types of candies she can eat if she only eats n / 2 of them.\n",
    "\n",
    "Example 1:\n",
    "Input: candyType = [1,1,2,2,3,3]\n",
    "Output: 3\n",
    "\n",
    "Explanation: Alice can only eat 6 / 2 = 3 candies. Since there are only 3 types, she can eat one of each type."
   ]
  },
  {
   "cell_type": "code",
   "execution_count": 9,
   "id": "f1a8ba0a",
   "metadata": {},
   "outputs": [],
   "source": [
    "def candies(arr):\n",
    "    n = len(arr)\n",
    "    dic= {}\n",
    "\n",
    "    for i in arr:\n",
    "        if i not in dic:\n",
    "            dic[i] = 1\n",
    "\n",
    "    return min(len(dic), n//2)"
   ]
  },
  {
   "cell_type": "code",
   "execution_count": 10,
   "id": "b78a47e6",
   "metadata": {},
   "outputs": [
    {
     "data": {
      "text/plain": [
       "3"
      ]
     },
     "execution_count": 10,
     "metadata": {},
     "output_type": "execute_result"
    }
   ],
   "source": [
    "candies([1, 1, 2, 2, 3, 3])"
   ]
  },
  {
   "cell_type": "code",
   "execution_count": 11,
   "id": "809ee091",
   "metadata": {},
   "outputs": [
    {
     "data": {
      "text/plain": [
       "4"
      ]
     },
     "execution_count": 11,
     "metadata": {},
     "output_type": "execute_result"
    }
   ],
   "source": [
    "candies([2,3,5,2,6,8,10,5])"
   ]
  },
  {
   "cell_type": "markdown",
   "id": "144d9bb1",
   "metadata": {},
   "source": [
    "Question 3<br>\n",
    "We define a harmonious array as an array where the difference between its maximum value\n",
    "and its minimum value is exactly 1.\n",
    "\n",
    "Given an integer array nums, return the length of its longest harmonious subsequence\n",
    "among all its possible subsequences.\n",
    "\n",
    "A subsequence of an array is a sequence that can be derived from the array by deleting some or no elements without changing the order of the remaining elements.\n",
    "\n",
    "Example 1:\n",
    "Input: nums = [1,3,2,2,5,2,3,7]\n",
    "Output: 5\n",
    "\n",
    "Explanation: The longest harmonious subsequence is [3,2,2,2,3]."
   ]
  },
  {
   "cell_type": "code",
   "execution_count": 15,
   "id": "e13481c0",
   "metadata": {},
   "outputs": [],
   "source": [
    "from collections import Counter\n",
    "\n",
    "def test(nums):\n",
    "    c = Counter(nums)\n",
    "    result = 0\n",
    "\n",
    "    for i in c:\n",
    "        if i+1 in c:\n",
    "            result = max(result, c[i] + c[i+1])\n",
    "\n",
    "    return result"
   ]
  },
  {
   "cell_type": "code",
   "execution_count": 16,
   "id": "887e1c91",
   "metadata": {},
   "outputs": [
    {
     "data": {
      "text/plain": [
       "5"
      ]
     },
     "execution_count": 16,
     "metadata": {},
     "output_type": "execute_result"
    }
   ],
   "source": [
    "nums = [1, 3, 2, 2, 5, 2, 3, 7]\n",
    "test(nums)"
   ]
  },
  {
   "cell_type": "code",
   "execution_count": 17,
   "id": "a027e348",
   "metadata": {},
   "outputs": [
    {
     "data": {
      "text/plain": [
       "4"
      ]
     },
     "execution_count": 17,
     "metadata": {},
     "output_type": "execute_result"
    }
   ],
   "source": [
    "nums = [1,2,3,3,4,4,2,5,6,9]\n",
    "test(nums)"
   ]
  },
  {
   "cell_type": "markdown",
   "id": "a21425e3",
   "metadata": {},
   "source": [
    "Question 4<br>\n",
    "You have a long flowerbed in which some of the plots are planted, and some are not.\n",
    "However, flowers cannot be planted in adjacent plots.\n",
    "Given an integer array flowerbed containing 0's and 1's, where 0 means empty and 1 means not empty, and an integer n, return true if n new flowers can be planted in the flowerbed without violating the no-adjacent-flowers rule and false otherwise.\n",
    "\n",
    "Example 1:\n",
    "Input: flowerbed = [1,0,0,0,1], n = 1\n",
    "Output: true"
   ]
  },
  {
   "cell_type": "code",
   "execution_count": 20,
   "id": "558d2bb0",
   "metadata": {},
   "outputs": [
    {
     "data": {
      "text/plain": [
       "False"
      ]
     },
     "execution_count": 20,
     "metadata": {},
     "output_type": "execute_result"
    }
   ],
   "source": [
    "def Flowers(fl, n):\n",
    "    fl.append(0)  \n",
    "    fl.insert(0, 0)  \n",
    "    count = 0\n",
    "    i = 1\n",
    "    while i < len(fl) - 1:\n",
    "            if fl[i] == 0 and fl[i-1] == 0 and fl[i+1] == 0:\n",
    "                fl[i] = 1  \n",
    "                count += 1\n",
    "                i += 1  \n",
    "            i += 1\n",
    "\n",
    "    return count >= n\n",
    "\n",
    "Flowers([1,0,0,0,1,1],2)"
   ]
  },
  {
   "cell_type": "code",
   "execution_count": 21,
   "id": "c7188448",
   "metadata": {},
   "outputs": [
    {
     "data": {
      "text/plain": [
       "True"
      ]
     },
     "execution_count": 21,
     "metadata": {},
     "output_type": "execute_result"
    }
   ],
   "source": [
    "Flowers([1,0,0,0,1],1)"
   ]
  },
  {
   "cell_type": "markdown",
   "id": "ba4e7e72",
   "metadata": {},
   "source": [
    "Question 5<br>\n",
    "Given an integer array nums, find three numbers whose product is maximum and return the maximum product.\n",
    "\n",
    "Example 1:\n",
    "Input: nums = [1,2,3]\n",
    "Output: 6"
   ]
  },
  {
   "cell_type": "code",
   "execution_count": 22,
   "id": "66828647",
   "metadata": {},
   "outputs": [],
   "source": [
    "def max_prod(lst):\n",
    "    new_lst=sorted(lst)\n",
    "    m=len(new_lst)-1\n",
    "    amt1=new_lst[m]\n",
    "    amt2=new_lst[m-1]\n",
    "    amt3=new_lst[m-2]\n",
    "    p=[amt3,amt2,amt1]\n",
    "    product=amt1*amt2*amt3\n",
    "    print(p)\n",
    "    return (product)"
   ]
  },
  {
   "cell_type": "code",
   "execution_count": 23,
   "id": "8a057173",
   "metadata": {},
   "outputs": [
    {
     "name": "stdout",
     "output_type": "stream",
     "text": [
      "[1, 2, 3]\n"
     ]
    },
    {
     "data": {
      "text/plain": [
       "6"
      ]
     },
     "execution_count": 23,
     "metadata": {},
     "output_type": "execute_result"
    }
   ],
   "source": [
    "nums = [1,2,3]\n",
    "max_prod(nums)"
   ]
  },
  {
   "cell_type": "code",
   "execution_count": 24,
   "id": "bcd00973",
   "metadata": {},
   "outputs": [
    {
     "name": "stdout",
     "output_type": "stream",
     "text": [
      "[9, 10, 22]\n"
     ]
    },
    {
     "data": {
      "text/plain": [
       "1980"
      ]
     },
     "execution_count": 24,
     "metadata": {},
     "output_type": "execute_result"
    }
   ],
   "source": [
    "nums = [1,5,8,22,10,3,4,9]\n",
    "max_prod(nums)"
   ]
  },
  {
   "cell_type": "markdown",
   "id": "5a024cc4",
   "metadata": {},
   "source": [
    "Question 6<br>\n",
    "Given an array of integers nums which is sorted in ascending order, and an integer target,\n",
    "write a function to search target in nums. If target exists, then return its index. Otherwise,\n",
    "return -1.\n",
    "\n",
    "You must write an algorithm with O(log n) runtime complexity.\n",
    "\n",
    "Input: nums = [-1,0,3,5,9,12], target = 9\n",
    "Output: 4\n",
    "\n",
    "Explanation: 9 exists in nums and its index is 4"
   ]
  },
  {
   "cell_type": "code",
   "execution_count": 29,
   "id": "46690814",
   "metadata": {},
   "outputs": [
    {
     "data": {
      "text/plain": [
       "4"
      ]
     },
     "execution_count": 29,
     "metadata": {},
     "output_type": "execute_result"
    }
   ],
   "source": [
    "def search_target(lst,ele):\n",
    "    num=sorted(lst)\n",
    "    for i in range(len(num)):\n",
    "        if num[i]==ele:\n",
    "            t=i\n",
    "            break\n",
    "        else:\n",
    "            t=-1\n",
    "    return t\n",
    "\n",
    "search_target([3,-1,2,5,6,7,81,9],6)"
   ]
  },
  {
   "cell_type": "code",
   "execution_count": 31,
   "id": "060cc427",
   "metadata": {},
   "outputs": [
    {
     "data": {
      "text/plain": [
       "-1"
      ]
     },
     "execution_count": 31,
     "metadata": {},
     "output_type": "execute_result"
    }
   ],
   "source": [
    "search_target( [-7,0,3,5,9,12],4)"
   ]
  },
  {
   "cell_type": "code",
   "execution_count": 32,
   "id": "fc3f3baa",
   "metadata": {},
   "outputs": [
    {
     "data": {
      "text/plain": [
       "4"
      ]
     },
     "execution_count": 32,
     "metadata": {},
     "output_type": "execute_result"
    }
   ],
   "source": [
    "search_target( [-7,0,3,5,9,12],9)"
   ]
  },
  {
   "cell_type": "markdown",
   "id": "b844ad7b",
   "metadata": {},
   "source": [
    "Question 7<br>\n",
    "An array is monotonic if it is either monotone increasing or monotone decreasing.\n",
    "\n",
    "An array nums is monotone increasing if for all i <= j, nums[i] <= nums[j]. An array nums is\n",
    "monotone decreasing if for all i <= j, nums[i] >= nums[j].\n",
    "\n",
    "Given an integer array nums, return true if the given array is monotonic, or false otherwise.\n",
    "\n",
    "Example 1:\n",
    "Input: nums = [1,2,2,3]\n",
    "Output: true"
   ]
  },
  {
   "cell_type": "code",
   "execution_count": 37,
   "id": "aafa424c",
   "metadata": {},
   "outputs": [],
   "source": [
    "def monotonic(nums):\n",
    "    increasing = True\n",
    "    decreasing = True\n",
    "    for i in range(1, len(nums)):\n",
    "        if nums[i] < nums[i - 1]:\n",
    "            increasing = False\n",
    "        if nums[i] > nums[i - 1]:\n",
    "            decreasing = False\n",
    "    return increasing or decreasing"
   ]
  },
  {
   "cell_type": "code",
   "execution_count": 38,
   "id": "cf4d5825",
   "metadata": {},
   "outputs": [
    {
     "data": {
      "text/plain": [
       "False"
      ]
     },
     "execution_count": 38,
     "metadata": {},
     "output_type": "execute_result"
    }
   ],
   "source": [
    "monotonic([4,5,2,1])"
   ]
  },
  {
   "cell_type": "code",
   "execution_count": 39,
   "id": "6b8d22fa",
   "metadata": {},
   "outputs": [
    {
     "data": {
      "text/plain": [
       "True"
      ]
     },
     "execution_count": 39,
     "metadata": {},
     "output_type": "execute_result"
    }
   ],
   "source": [
    "monotonic([1,2,2,3])"
   ]
  },
  {
   "cell_type": "markdown",
   "id": "52f84085",
   "metadata": {},
   "source": [
    "Question 8<br>\n",
    "You are given an integer array nums and an integer k.\n",
    "\n",
    "In one operation, you can choose any index i where 0 <= i < nums.length and change nums[i] to nums[i] + x where x is an integer from the range [-k, k]. You can apply this operation at most once for each index i.\n",
    "\n",
    "The score of nums is the difference between the maximum and minimum elements in nums.\n",
    "\n",
    "Return the minimum score of nums after applying the mentioned operation at most once for each index in it.\n",
    "\n",
    "Example 1:\n",
    "Input: nums = [1], k = 0\n",
    "Output: 0\n",
    "\n",
    "Explanation: The score is max(nums) - min(nums) = 1 - 1 = 0."
   ]
  },
  {
   "cell_type": "code",
   "execution_count": 19,
   "id": "4d007027",
   "metadata": {},
   "outputs": [
    {
     "data": {
      "text/plain": [
       "2"
      ]
     },
     "execution_count": 19,
     "metadata": {},
     "output_type": "execute_result"
    }
   ],
   "source": [
    "def diff_array(lst,x):\n",
    "    a=[]\n",
    "    for i in range(len(lst)):\n",
    "        lst[i]=lst[i]+x\n",
    "        a1=min(lst)\n",
    "        a2=max(lst)\n",
    "        diff=a2-a1\n",
    "        i=i+1\n",
    "        a.append(diff)\n",
    "        score=min(a)\n",
    "    return score\n",
    "\n",
    "#output\n",
    "diff_array([5,5,9,7,8],2) "
   ]
  },
  {
   "cell_type": "code",
   "execution_count": 20,
   "id": "d5b45d43",
   "metadata": {},
   "outputs": [
    {
     "data": {
      "text/plain": [
       "0"
      ]
     },
     "execution_count": 20,
     "metadata": {},
     "output_type": "execute_result"
    }
   ],
   "source": [
    "enter_array([1],0) "
   ]
  },
  {
   "cell_type": "code",
   "execution_count": null,
   "id": "0c26bfde",
   "metadata": {},
   "outputs": [],
   "source": []
  }
 ],
 "metadata": {
  "kernelspec": {
   "display_name": "Python 3 (ipykernel)",
   "language": "python",
   "name": "python3"
  },
  "language_info": {
   "codemirror_mode": {
    "name": "ipython",
    "version": 3
   },
   "file_extension": ".py",
   "mimetype": "text/x-python",
   "name": "python",
   "nbconvert_exporter": "python",
   "pygments_lexer": "ipython3",
   "version": "3.9.13"
  }
 },
 "nbformat": 4,
 "nbformat_minor": 5
}
