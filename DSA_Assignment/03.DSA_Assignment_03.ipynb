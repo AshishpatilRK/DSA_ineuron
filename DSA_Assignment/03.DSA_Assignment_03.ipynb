{
 "cells": [
  {
   "cell_type": "markdown",
   "id": "df127bcc",
   "metadata": {},
   "source": [
    "# DSA_Assignment_03"
   ]
  },
  {
   "cell_type": "markdown",
   "id": "6a508cb5",
   "metadata": {},
   "source": [
    "Question 1<br>\n",
    "Given an integer array nums of length n and an integer target, find three integers\n",
    "in nums such that the sum is closest to the target.\n",
    "Return the sum of the three integers.\n",
    "\n",
    "You may assume that each input would have exactly one solution.\n",
    "\n",
    "Example 1:\n",
    "Input: nums = [-1,2,1,-4], target = 1\n",
    "Output: 2\n",
    "\n",
    "Explanation: The sum that is closest to the target is 2. (-1 + 2 + 1 = 2)."
   ]
  },
  {
   "cell_type": "code",
   "execution_count": 3,
   "id": "e2c55f8d",
   "metadata": {},
   "outputs": [],
   "source": [
    "def closest(nums, target):\n",
    "    nums.sort()\n",
    "    sum = float('inf')\n",
    "\n",
    "    for i in range(len(nums)-2):\n",
    "        left = i+1\n",
    "        right = len(nums)-1\n",
    "\n",
    "        while left < right:\n",
    "            currentsum = nums[i] + nums[left] + nums[right]\n",
    "\n",
    "            if abs(currentsum - target) < abs(sum - target):\n",
    "                sum = currentsum\n",
    "\n",
    "            if currentsum < target:\n",
    "                left += 1\n",
    "\n",
    "            elif currentsum > target:\n",
    "                right -= 1\n",
    "\n",
    "            else:\n",
    "                return currentsum\n",
    "\n",
    "    return sum"
   ]
  },
  {
   "cell_type": "code",
   "execution_count": 4,
   "id": "fcc50973",
   "metadata": {},
   "outputs": [
    {
     "data": {
      "text/plain": [
       "2"
      ]
     },
     "execution_count": 4,
     "metadata": {},
     "output_type": "execute_result"
    }
   ],
   "source": [
    "closest([-1,2,1,-4],1)"
   ]
  },
  {
   "cell_type": "code",
   "execution_count": 5,
   "id": "3415923a",
   "metadata": {},
   "outputs": [
    {
     "data": {
      "text/plain": [
       "5"
      ]
     },
     "execution_count": 5,
     "metadata": {},
     "output_type": "execute_result"
    }
   ],
   "source": [
    "closest([2,4,5,1,2,7],2)"
   ]
  },
  {
   "cell_type": "markdown",
   "id": "d523c8bd",
   "metadata": {},
   "source": [
    "Question 2<br>\n",
    "Given an array nums of n integers, return an array of all the unique quadruplets<br>\n",
    "[nums[a], nums[b], nums[c], nums[d]] such that:<br>\n",
    "               ● 0 <= a, b, c, d < n<br>\n",
    "               ● a, b, c, and d are distinct.<br>\n",
    "               ● nums[a] + nums[b] + nums[c] + nums[d] == target<br>\n",
    "\n",
    "You may return the answer in any order.\n",
    "\n",
    "Example 1:\n",
    "Input: nums = [1,0,-1,0,-2,2], target = 0\n",
    "Output: [[-2,-1,1,2],[-2,0,0,2],[-1,0,0,1]]"
   ]
  },
  {
   "cell_type": "code",
   "execution_count": 14,
   "id": "30e4d57b",
   "metadata": {},
   "outputs": [],
   "source": [
    "def fourSum(nums, target):\n",
    "    nums.sort()\n",
    "    n = len(nums)\n",
    "    result = []\n",
    "\n",
    "    for a in range(n - 3):\n",
    "        if a > 0 and nums[a] == nums[a - 1]:\n",
    "            continue\n",
    "\n",
    "        for b in range(a + 1, n - 2):\n",
    "            if b > a + 1 and nums[b] == nums[b - 1]:\n",
    "                continue\n",
    "\n",
    "            left = b + 1\n",
    "            right = n - 1\n",
    "\n",
    "            while left < right:\n",
    "                currentSum = nums[a] + nums[b] + nums[left] + nums[right]\n",
    "\n",
    "                if currentSum == target:\n",
    "                    result.append([nums[a], nums[b], nums[left], nums[right]])\n",
    "\n",
    "                    while left < right and nums[left] == nums[left + 1]:\n",
    "                        left += 1\n",
    "                    while left < right and nums[right] == nums[right - 1]:\n",
    "                        right -= 1\n",
    "\n",
    "                    left += 1\n",
    "                    right -= 1\n",
    "                elif currentSum > target:\n",
    "                    right -= 1\n",
    "                else:\n",
    "                    left += 1\n",
    "\n",
    "    return result"
   ]
  },
  {
   "cell_type": "code",
   "execution_count": 16,
   "id": "26cc2586",
   "metadata": {},
   "outputs": [
    {
     "data": {
      "text/plain": [
       "[[-2, -1, 1, 2], [-2, 0, 0, 2], [-1, 0, 0, 1]]"
      ]
     },
     "execution_count": 16,
     "metadata": {},
     "output_type": "execute_result"
    }
   ],
   "source": [
    "fourSum([1,0,-1,0,-2,2], 0)"
   ]
  },
  {
   "cell_type": "code",
   "execution_count": 17,
   "id": "930a533b",
   "metadata": {},
   "outputs": [
    {
     "data": {
      "text/plain": [
       "[[-2, 0, 1, 2], [-1, -1, 1, 2], [-1, 0, 0, 2]]"
      ]
     },
     "execution_count": 17,
     "metadata": {},
     "output_type": "execute_result"
    }
   ],
   "source": [
    "fourSum([1,-2,-1,0,0,2,-1],1)"
   ]
  },
  {
   "cell_type": "markdown",
   "id": "625eb6c5",
   "metadata": {},
   "source": [
    "**Question 3**\n",
    "A permutation of an array of integers is an arrangement of its members into a\n",
    "sequence or linear order.\n",
    "\n",
    "For example, for arr = [1,2,3], the following are all the permutations of arr:\n",
    "[1,2,3], [1,3,2], [2, 1, 3], [2, 3, 1], [3,1,2], [3,2,1].\n",
    "\n",
    "The next permutation of an array of integers is the next lexicographically greater\n",
    "permutation of its integer. More formally, if all the permutations of the array are\n",
    "sorted in one container according to their lexicographical order, then the next\n",
    "permutation of that array is the permutation that follows it in the sorted container.\n",
    "\n",
    "If such an arrangement is not possible, the array must be rearranged as the\n",
    "lowest possible order (i.e., sorted in ascending order).\n",
    "\n",
    "● For example, the next permutation of arr = [1,2,3] is [1,3,2].\n",
    "● Similarly, the next permutation of arr = [2,3,1] is [3,1,2].\n",
    "● While the next permutation of arr = [3,2,1] is [1,2,3] because [3,2,1] does not\n",
    "have a lexicographical larger rearrangement.\n",
    "\n",
    "Given an array of integers nums, find the next permutation of nums.\n",
    "The replacement must be in place and use only constant extra memory.\n",
    "\n",
    "**Example 1:**\n",
    "Input: nums = [1,2,3]\n",
    "Output: [1,3,2]\n"
   ]
  },
  {
   "cell_type": "code",
   "execution_count": 18,
   "id": "3d380e35",
   "metadata": {},
   "outputs": [],
   "source": [
    "def nextpermut(nums):\n",
    "    i = len(nums) - 2\n",
    "\n",
    "    while i >= 0 and nums[i] >= nums[i+1]:\n",
    "        i -= 1\n",
    "\n",
    "    if i >= 0:\n",
    "        j = len(nums) - 1\n",
    "\n",
    "        while j >= 0 and nums[j] <= nums[i]:\n",
    "            j -= 1\n",
    "\n",
    "        nums[i], nums[j] = nums[j], nums[i]\n",
    "\n",
    "    nums[i+1:] = reversed(nums[i+1:])\n",
    "    return nums"
   ]
  },
  {
   "cell_type": "code",
   "execution_count": 19,
   "id": "20e25ceb",
   "metadata": {},
   "outputs": [
    {
     "data": {
      "text/plain": [
       "[1, 3, 2]"
      ]
     },
     "execution_count": 19,
     "metadata": {},
     "output_type": "execute_result"
    }
   ],
   "source": [
    "nextpermut([1,2,3])"
   ]
  },
  {
   "cell_type": "code",
   "execution_count": 20,
   "id": "21f80184",
   "metadata": {},
   "outputs": [
    {
     "data": {
      "text/plain": [
       "[8, 2, 1, 5, 6]"
      ]
     },
     "execution_count": 20,
     "metadata": {},
     "output_type": "execute_result"
    }
   ],
   "source": [
    "nextpermut([8,1,6,5,2])"
   ]
  },
  {
   "cell_type": "markdown",
   "id": "38111405",
   "metadata": {},
   "source": [
    "Question 4<br>\n",
    "Given a sorted array of distinct integers and a target value, return the index if the\n",
    "target is found. If not, return the index where it would be if it were inserted in\n",
    "order.\n",
    "\n",
    "You must write an algorithm with O(log n) runtime complexity.\n",
    "\n",
    "Example 1:\n",
    "Input: nums = [1,3,5,6], target = 5\n",
    "Output: 2"
   ]
  },
  {
   "cell_type": "code",
   "execution_count": 25,
   "id": "536e75d6",
   "metadata": {},
   "outputs": [],
   "source": [
    "def insert_targt(nums, target):\n",
    "    ls = []\n",
    "    for i in range(len(nums)):\n",
    "        if nums[i] == target:\n",
    "            idx = i\n",
    "        else:\n",
    "            i = i + 1\n",
    "            nums.append(target)\n",
    "            new_nums = sorted(list(nums))\n",
    "            idx = new_nums.index(target)\n",
    "    return idx\n"
   ]
  },
  {
   "cell_type": "code",
   "execution_count": 26,
   "id": "2ee09ba3",
   "metadata": {},
   "outputs": [
    {
     "data": {
      "text/plain": [
       "2"
      ]
     },
     "execution_count": 26,
     "metadata": {},
     "output_type": "execute_result"
    }
   ],
   "source": [
    "nums = [1,3,5,6]\n",
    "target = 5\n",
    "insert_targt(nums, target)"
   ]
  },
  {
   "cell_type": "code",
   "execution_count": 27,
   "id": "f51fc3c2",
   "metadata": {},
   "outputs": [
    {
     "data": {
      "text/plain": [
       "1"
      ]
     },
     "execution_count": 27,
     "metadata": {},
     "output_type": "execute_result"
    }
   ],
   "source": [
    "nums = [1,3,5,6]\n",
    "target = 2\n",
    "insert_targt(nums, target)"
   ]
  },
  {
   "cell_type": "markdown",
   "id": "fa7f4df4",
   "metadata": {},
   "source": [
    "**Question 5**\n",
    "You are given a large integer represented as an integer array digits, where each\n",
    "digits[i] is the ith digit of the integer. The digits are ordered from most significant\n",
    "to least significant in left-to-right order. The large integer does not contain any\n",
    "leading 0's.\n",
    "\n",
    "Increment the large integer by one and return the resulting array of digits.\n",
    "\n",
    "**Example 1:**\n",
    "Input: digits = [1,2,3]\n",
    "Output: [1,2,4]\n",
    "\n",
    "**Explanation:** The array represents the integer 123.\n",
    "Incrementing by one gives 123 + 1 = 124.\n",
    "Thus, the result should be [1,2,4]."
   ]
  },
  {
   "cell_type": "code",
   "execution_count": 29,
   "id": "1e6988be",
   "metadata": {},
   "outputs": [
    {
     "data": {
      "text/plain": [
       "[1, 2, 4]"
      ]
     },
     "execution_count": 29,
     "metadata": {},
     "output_type": "execute_result"
    }
   ],
   "source": [
    "def add_one(digits):\n",
    "    j=len(digits)-1\n",
    "    if digits[j]==9:\n",
    "        digits[j-1]=digits[j-1]+1\n",
    "        digits[j]=0\n",
    "        new_digits=digits\n",
    "    else:\n",
    "        digits[j]=digits[j]+1\n",
    "        new_digits=digits\n",
    "    return new_digits\n",
    "\n",
    "digits=[1,2,3]\n",
    "add_one(digits)"
   ]
  },
  {
   "cell_type": "code",
   "execution_count": 30,
   "id": "3f019a3e",
   "metadata": {},
   "outputs": [
    {
     "data": {
      "text/plain": [
       "[1, 5, 7]"
      ]
     },
     "execution_count": 30,
     "metadata": {},
     "output_type": "execute_result"
    }
   ],
   "source": [
    "digits=[1,5,6]\n",
    "add_one(digits)"
   ]
  },
  {
   "cell_type": "markdown",
   "id": "279ef0fb",
   "metadata": {},
   "source": [
    "Question 6<br>\n",
    "Given a non-empty array of integers nums, every element appears twice except\n",
    "for one. Find that single one.\n",
    "\n",
    "You must implement a solution with a linear runtime complexity and use only\n",
    "constant extra space.\n",
    "\n",
    "Example 1:\n",
    "Input: nums = [2,2,1]\n",
    "Output: 1"
   ]
  },
  {
   "cell_type": "code",
   "execution_count": 54,
   "id": "cb681ed9",
   "metadata": {},
   "outputs": [
    {
     "name": "stdout",
     "output_type": "stream",
     "text": [
      "2\n"
     ]
    }
   ],
   "source": [
    "def singlelement(arr, n):\n",
    "    mm = {}\n",
    "    for i in range(n):\n",
    "        if arr[i] in mm:\n",
    "            mm[arr[i]] += 1\n",
    "        else:\n",
    "            mm[arr[i]] = 1\n",
    "            \n",
    "    for key, value in mm.items():\n",
    "           if value == 1:\n",
    "                 return key\n",
    "  \n",
    "arr = [2, 3, 5, 4, 5, 3, 4]\n",
    "size = len(arr)\n",
    "arr.sort()\n",
    "print(singleelement(arr, size))"
   ]
  },
  {
   "cell_type": "code",
   "execution_count": 55,
   "id": "6ff19396",
   "metadata": {},
   "outputs": [
    {
     "name": "stdout",
     "output_type": "stream",
     "text": [
      "1\n"
     ]
    }
   ],
   "source": [
    "arr = [2,2,1]\n",
    "size = len(arr)\n",
    "arr.sort()\n",
    "print(singleelement(arr, size))"
   ]
  },
  {
   "cell_type": "markdown",
   "id": "7e5a84ab",
   "metadata": {},
   "source": [
    "Question 7<br>\n",
    "You are given an inclusive range [lower, upper] and a sorted unique integer array\n",
    "nums, where all elements are within the inclusive range.<br>\n",
    "\n",
    "A number x is considered missing if x is in the range [lower, upper] and x is not in\n",
    "nums.<br>\n",
    "\n",
    "Return the shortest sorted list of ranges that exactly covers all the missing\n",
    "numbers. That is, no element of nums is included in any of the ranges, and each\n",
    "missing number is covered by one of the ranges.<br>\n",
    "\n",
    "    Example 1:<br>\n",
    "    Input: nums = [0,1,3,50,75], lower = 0, upper = 99\n",
    "    Output: [[2,2],[4,49],[51,74],[76,99]]\n",
    "\n",
    "    Explanation: The ranges are:\n",
    "    [2,2]\n",
    "    [4,49]\n",
    "    [51,74]\n",
    "    [76,99]"
   ]
  },
  {
   "cell_type": "code",
   "execution_count": 57,
   "id": "8112a26e",
   "metadata": {},
   "outputs": [
    {
     "name": "stdout",
     "output_type": "stream",
     "text": [
      "[[2, 2], [4, 49], [51, 74], [76, 99]]\n"
     ]
    }
   ],
   "source": [
    "def missing_number(nums, lower, upper):\n",
    "    result = []\n",
    "    nums = [lower - 1] + nums + [upper + 1]\n",
    "    n = len(nums)\n",
    "\n",
    "    for i in range(1, n):\n",
    "        if nums[i] - nums[i-1] == 2:\n",
    "            result.append([nums[i-1]+1, nums[i]-1])\n",
    "        elif nums[i] - nums[i-1] > 2:\n",
    "            result.append([nums[i-1]+1, nums[i]-1])\n",
    "\n",
    "    return result\n",
    "\n",
    "\n",
    "nums = [0,1,3,50,75]\n",
    "lower = 0\n",
    "upper = 99\n",
    "print(missing_number(nums,lower,upper))"
   ]
  },
  {
   "cell_type": "markdown",
   "id": "a5bfbf46",
   "metadata": {},
   "source": [
    "Question 8<br>\n",
    "Given an array of meeting time intervals where intervals[i] = [starti, endi],<br>\n",
    "determine if a person could attend all meetings.<br>\n",
    "\n",
    "Example 1:<br>\n",
    "Input: intervals = [[0,30],[5,10],[15,20]]<br>\n",
    "Output: false<br>"
   ]
  },
  {
   "cell_type": "code",
   "execution_count": 59,
   "id": "cb55fbfa",
   "metadata": {},
   "outputs": [
    {
     "data": {
      "text/plain": [
       "False"
      ]
     },
     "execution_count": 59,
     "metadata": {},
     "output_type": "execute_result"
    }
   ],
   "source": [
    "def find_interval(nums):\n",
    "    for i in nums:\n",
    "        if i[0]==i[1]:\n",
    "            x=True\n",
    "           \n",
    "        else:\n",
    "            x=False\n",
    "\n",
    "    return x\n",
    "\n",
    "\n",
    "find_interval([[2,10],[5,9],[7,17]])"
   ]
  },
  {
   "cell_type": "code",
   "execution_count": 60,
   "id": "bed86fd3",
   "metadata": {},
   "outputs": [
    {
     "data": {
      "text/plain": [
       "False"
      ]
     },
     "execution_count": 60,
     "metadata": {},
     "output_type": "execute_result"
    }
   ],
   "source": [
    "find_interval([[0,30],[5,10],[15,20]])"
   ]
  },
  {
   "cell_type": "code",
   "execution_count": 62,
   "id": "c65f251c",
   "metadata": {},
   "outputs": [
    {
     "data": {
      "text/plain": [
       "False"
      ]
     },
     "execution_count": 62,
     "metadata": {},
     "output_type": "execute_result"
    }
   ],
   "source": [
    "meetings([[0,30],[5,10],[15,20]])"
   ]
  },
  {
   "cell_type": "code",
   "execution_count": null,
   "id": "c56cb646",
   "metadata": {},
   "outputs": [],
   "source": []
  }
 ],
 "metadata": {
  "kernelspec": {
   "display_name": "Python 3 (ipykernel)",
   "language": "python",
   "name": "python3"
  },
  "language_info": {
   "codemirror_mode": {
    "name": "ipython",
    "version": 3
   },
   "file_extension": ".py",
   "mimetype": "text/x-python",
   "name": "python",
   "nbconvert_exporter": "python",
   "pygments_lexer": "ipython3",
   "version": "3.9.13"
  }
 },
 "nbformat": 4,
 "nbformat_minor": 5
}
