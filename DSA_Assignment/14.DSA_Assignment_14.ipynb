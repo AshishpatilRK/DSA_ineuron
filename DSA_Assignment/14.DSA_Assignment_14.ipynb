{
 "cells": [
  {
   "cell_type": "markdown",
   "id": "b191cf03",
   "metadata": {},
   "source": [
    "# DSA_Assignment_14"
   ]
  },
  {
   "cell_type": "markdown",
   "id": "c31b6d0f",
   "metadata": {},
   "source": [
    "**Question 1**\n",
    "\n",
    "Given a linked list of **N** nodes such that it may contain a loop.\n",
    "\n",
    "A loop here means that the last node of the link list is connected to the node at position X(1-based index). If the link list does not have any loop, X=0.\n",
    "\n",
    "Remove the loop from the linked list, if it is present, i.e. unlink the last node which is forming the loop.\n"
   ]
  },
  {
   "cell_type": "code",
   "execution_count": 1,
   "id": "b6b53491",
   "metadata": {},
   "outputs": [
    {
     "name": "stdout",
     "output_type": "stream",
     "text": [
      "\n",
      "Loop removed successfully\n",
      "Modified linked list without a loop:\n",
      "1 -> 2 -> 3 -> 4 -> None\n"
     ]
    }
   ],
   "source": [
    "class Node:\n",
    "    def __init__(self, data):\n",
    "        self.data = data\n",
    "        self.next = None\n",
    "\n",
    "def create_list(arr, n):\n",
    "    head = None\n",
    "    tail = None\n",
    "    for i in range(n):\n",
    "        new_node = Node(arr[i])\n",
    "        if head is None:\n",
    "            head = new_node\n",
    "            tail = new_node\n",
    "        else:\n",
    "            tail.next = new_node\n",
    "            tail = new_node\n",
    "    return head\n",
    "\n",
    "def remove_loop(head, x):\n",
    "    if x == 0:\n",
    "        return 1\n",
    "    \n",
    "    loop_node = head\n",
    "    for i in range(x-1):\n",
    "        loop_node = loop_node.next\n",
    "    \n",
    "    slow = head\n",
    "    fast = head\n",
    "    while fast and fast.next:\n",
    "        slow = slow.next\n",
    "        fast = fast.next.next\n",
    "        if slow == fast:\n",
    "            break\n",
    "\n",
    "    if slow != fast:\n",
    "        return 0\n",
    "    \n",
    "\n",
    "    slow = head\n",
    "    while slow != fast:\n",
    "        prev = fast \n",
    "        slow = slow.next\n",
    "        fast = fast.next\n",
    "    \n",
    "    prev.next = None\n",
    "    \n",
    "    return 1\n",
    "\n",
    "n = 4\n",
    "value = [1,2,3,4]\n",
    "x = 1\n",
    "\n",
    "head = create_list(value, n)\n",
    "\n",
    "tail = head\n",
    "while tail.next:\n",
    "    tail = tail.next\n",
    "\n",
    "tail.next = head.next\n",
    "\n",
    "result = remove_loop(head, x)\n",
    "if result == 1:\n",
    "    print(\"\\nLoop removed successfully\")\n",
    "else:\n",
    "    print(\"\\nNo loop found\")\n",
    "\n",
    "print(\"Modified linked list without a loop:\")\n",
    "curr = head\n",
    "while curr:\n",
    "    print(curr.data, end=\" -> \")\n",
    "    curr = curr.next\n",
    "\n",
    "print(\"None\")"
   ]
  },
  {
   "cell_type": "markdown",
   "id": "4c97a419",
   "metadata": {},
   "source": [
    "**Question 2**\n",
    "\n",
    "A number **N** is represented in Linked List such that each digit corresponds to a node in linked list. You need to add 1 to it.\n"
   ]
  },
  {
   "cell_type": "code",
   "execution_count": 4,
   "id": "d3e64728",
   "metadata": {},
   "outputs": [],
   "source": [
    "class Node:\n",
    "    def __init__(self,data):\n",
    "        self.data = data\n",
    "        self.next = None\n",
    "\n",
    "class Linkedlist:\n",
    "    def __init__(self):\n",
    "        self.head = None\n",
    "        \n",
    "    def push(self, data):\n",
    "        new_node = Node(data)\n",
    "        new_node.next = self.head\n",
    "        self.head = new_node\n",
    "    \n",
    "    def __str__(self):\n",
    "        linkedListStr = \"\"\n",
    "        temp = self.head\n",
    "\n",
    "        while temp:\n",
    "            linkedListStr += str(temp.data) + \"->\"\n",
    "            temp = temp.next\n",
    "\n",
    "        return linkedListStr + \"NULL\"\n",
    "\n",
    "def printList(head):\n",
    "    temp = head\n",
    "    \n",
    "    while(temp):\n",
    "        print(temp.data, end = ' ')\n",
    "        temp = temp.next"
   ]
  },
  {
   "cell_type": "code",
   "execution_count": 5,
   "id": "1287e5b9",
   "metadata": {},
   "outputs": [],
   "source": [
    "def reverse_list(head):\n",
    "    if not head:\n",
    "        return\n",
    "    \n",
    "    currn = head\n",
    "    prevn = head\n",
    "    nextn = head.next\n",
    "    currn.next = None\n",
    "\n",
    "    while nextn:\n",
    "        currn = nextn\n",
    "        nextn = nextn.next\n",
    "        currn.next = prevn\n",
    "        prevn = currn\n",
    "        \n",
    "    return currn"
   ]
  },
  {
   "cell_type": "code",
   "execution_count": 6,
   "id": "e1bf44d7",
   "metadata": {},
   "outputs": [],
   "source": [
    "def add_one_to_list(head):\n",
    "    head = reverse_list(head)\n",
    "    k = head\n",
    "    carry = 0\n",
    "    prev = None\n",
    "    head.data+=1\n",
    "\n",
    "    while(head != None) and (head.data > 9 or carry > 0):\n",
    "        prev = head\n",
    "        head.data += carry\n",
    "        carry = head.data // 10\n",
    "        head.data = head.data % 10\n",
    "        head = head.next\n",
    "    \n",
    "    if carry > 0:\n",
    "        prev.next = Node(carry)\n",
    "        \n",
    "    return reverse_list(k)"
   ]
  },
  {
   "cell_type": "code",
   "execution_count": 7,
   "id": "e74335c6",
   "metadata": {},
   "outputs": [
    {
     "name": "stdout",
     "output_type": "stream",
     "text": [
      "1 9 9 9 "
     ]
    }
   ],
   "source": [
    "head = Node(1)\n",
    "head.next = Node(9)\n",
    "head.next.next = Node(9)\n",
    "head.next.next.next = Node(9)\n",
    "\n",
    "printList(head)"
   ]
  },
  {
   "cell_type": "code",
   "execution_count": 8,
   "id": "6de37915",
   "metadata": {},
   "outputs": [
    {
     "name": "stdout",
     "output_type": "stream",
     "text": [
      "2 0 0 0 "
     ]
    }
   ],
   "source": [
    "add_one_to_list(head)\n",
    "printList(head)"
   ]
  },
  {
   "cell_type": "code",
   "execution_count": 9,
   "id": "d2afa1fa",
   "metadata": {},
   "outputs": [
    {
     "name": "stdout",
     "output_type": "stream",
     "text": [
      "1 9 9 1 "
     ]
    }
   ],
   "source": [
    "head = Node(1)\n",
    "head.next = Node(9)\n",
    "head.next.next = Node(9)\n",
    "head.next.next.next = Node(1)\n",
    "\n",
    "printList(head)"
   ]
  },
  {
   "cell_type": "code",
   "execution_count": 10,
   "id": "f2c1741b",
   "metadata": {},
   "outputs": [
    {
     "name": "stdout",
     "output_type": "stream",
     "text": [
      "1 9 9 2 "
     ]
    }
   ],
   "source": [
    "add_one_to_list(head)\n",
    "printList(head)"
   ]
  },
  {
   "cell_type": "markdown",
   "id": "0d4d069c",
   "metadata": {},
   "source": [
    "**Question 3**\n",
    "\n",
    "Given a Linked List of size N, where every node represents a sub-linked-list and contains two pointers:(i) a **next** pointer to the next node,(ii) a **bottom** pointer to a linked list where this node is head.Each of the sub-linked-list is in sorted order.Flatten the Link List such that all the nodes appear in a single level while maintaining the sorted order. **Note:** The flattened list will be printed using the bottom pointer instead of next pointer.\n"
   ]
  },
  {
   "cell_type": "code",
   "execution_count": 11,
   "id": "fc9ccccb",
   "metadata": {},
   "outputs": [],
   "source": [
    "class Node:\n",
    "    def __init__(self, data):\n",
    "        self.data = data\n",
    "        self.next = None\n",
    "        self.bottom = None\n",
    "\n",
    "\n",
    "def merge_lists(a, b):\n",
    "    dummy = Node(0)\n",
    "    merged = dummy\n",
    "\n",
    "    while a and b:\n",
    "        if a.data < b.data:\n",
    "            merged.bottom = a\n",
    "            a = a.bottom\n",
    "\n",
    "        else:\n",
    "            merged.bottom = b\n",
    "            b = b.bottom\n",
    "\n",
    "        merged = merged.bottom\n",
    "\n",
    "    if a:\n",
    "        merged.bottom = a\n",
    "    else:\n",
    "        merged.bottom = b\n",
    "\n",
    "    return dummy.bottom\n",
    "\n",
    "def flatten_list(head):\n",
    "    if not head or not head.next:\n",
    "        return head\n",
    "\n",
    "    head.next = flatten_list(head.next)\n",
    "    head = merge_lists(head, head.next)\n",
    "\n",
    "    return head"
   ]
  },
  {
   "cell_type": "code",
   "execution_count": 12,
   "id": "079a88b9",
   "metadata": {},
   "outputs": [
    {
     "name": "stdout",
     "output_type": "stream",
     "text": [
      "5 7 8 10 19 20 22 28 30 35 40 45 50 "
     ]
    }
   ],
   "source": [
    "head = Node(5)\n",
    "head.next = Node(10)\n",
    "head.next.next = Node(19)\n",
    "head.next.next.next = Node(28)\n",
    "\n",
    "head.bottom = Node(7)\n",
    "head.bottom.bottom = Node(8)\n",
    "head.bottom.bottom.bottom = Node(30)\n",
    "\n",
    "head.next.bottom = Node(20)\n",
    "\n",
    "head.next.next.bottom = Node(22)\n",
    "head.next.next.bottom.bottom = Node(50)\n",
    "\n",
    "head.next.next.next.bottom = Node(35)\n",
    "head.next.next.next.bottom.bottom = Node(40)\n",
    "head.next.next.next.bottom.bottom.bottom = Node(45)\n",
    "\n",
    "flattened_list = flatten_list(head)\n",
    "\n",
    "current = flattened_list\n",
    "while current:\n",
    "    print(current.data, end=\" \")\n",
    "    current = current.bottom"
   ]
  },
  {
   "cell_type": "markdown",
   "id": "dcf04706",
   "metadata": {},
   "source": [
    "**Question 4**\n",
    "\n",
    "You are given a special linked list with **N** nodes where each node has a next pointer pointing to its next node. You are also given **M** random pointers, where you will be given **M** number of pairs denoting two nodes **a** and **b**  **i.e. a->arb = b** (arb is pointer to random node)**.**\n",
    "\n",
    "Construct a copy of the given list. The copy should consist of exactly **N** new nodes, where each new node has its value set to the value of its corresponding original node. Both the next and random pointer of the new nodes should point to new nodes in the copied list such that the pointers in the original list and copied list represent the same list state. None of the pointers in the new list should point to nodes in the original list.\n",
    "\n",
    "For example, if there are two nodes **X** and **Y** in the original list, where **X.arb** **-->** **Y**, then for the corresponding two nodes **x** and **y** in the copied list, **x.arb --> y.**\n",
    "\n",
    "Return the head of the copied linked list.\n"
   ]
  },
  {
   "cell_type": "code",
   "execution_count": 13,
   "id": "c1b20126",
   "metadata": {},
   "outputs": [],
   "source": [
    "class Node:\n",
    "    def __init__(self, data):\n",
    "        self.data = data\n",
    "        self.next = None\n",
    "        self.random = None\n",
    "\n",
    "\n",
    "def copy_special_linked_list(head):\n",
    "    if not head:\n",
    "        return None\n",
    "\n",
    "    current = head\n",
    "\n",
    "    while current:\n",
    "        new_node = Node(current.data)\n",
    "        new_node.next = current.next\n",
    "        current.next = new_node\n",
    "        current = new_node.next\n",
    "\n",
    "    current = head\n",
    "\n",
    "    while current:\n",
    "        if current.random:\n",
    "            current.next.random = current.random.next\n",
    "\n",
    "        current = current.next.next\n",
    "\n",
    "    current = head\n",
    "    new_head = head.next\n",
    "    new_current = new_head\n",
    "\n",
    "    while current:\n",
    "        current.next = current.next.next\n",
    "\n",
    "        if new_current.next:\n",
    "            new_current.next = new_current.next.next\n",
    "            \n",
    "        current = current.next\n",
    "        new_current = new_current.next\n",
    "\n",
    "    return new_head"
   ]
  },
  {
   "cell_type": "code",
   "execution_count": 14,
   "id": "dd2c8f65",
   "metadata": {},
   "outputs": [
    {
     "name": "stdout",
     "output_type": "stream",
     "text": [
      "Node: 1 Random Pointer: 3\n",
      "Node: 2 Random Pointer: 5\n",
      "Node: 3 Random Pointer: 4\n",
      "Node: 4 Random Pointer: 2\n",
      "Node: 5 Random Pointer: 3\n"
     ]
    }
   ],
   "source": [
    "head = Node(1)\n",
    "head.next = Node(2)\n",
    "head.next.next = Node(3)\n",
    "head.next.next.next = Node(4)\n",
    "head.next.next.next.next = Node(5)\n",
    "\n",
    "head.random = head.next.next\n",
    "head.next.random = head.next.next.next.next\n",
    "head.next.next.random = head.next.next.next\n",
    "head.next.next.next.random = head.next\n",
    "head.next.next.next.next.random = head.next.next\n",
    "\n",
    "copied_head = copy_special_linked_list(head)\n",
    "current = copied_head\n",
    "\n",
    "while current:\n",
    "    print(\"Node:\", current.data, end=\" \")\n",
    "\n",
    "    if current.random:\n",
    "        print(\"Random Pointer:\", current.random.data)\n",
    "\n",
    "    else:\n",
    "        print(\"Random Pointer: None\")\n",
    "        \n",
    "    current = current.next"
   ]
  },
  {
   "cell_type": "markdown",
   "id": "b525f0e4",
   "metadata": {},
   "source": [
    "**Question 5**\n",
    "\n",
    "Given the `head` of a singly linked list, group all the nodes with odd indices together followed by the nodes with even indices, and return *the reordered list*.\n",
    "\n",
    "The **first** node is considered **odd**, and the **second** node is **even**, and so on.\n",
    "\n",
    "Note that the relative order inside both the even and odd groups should remain as it was in the input.\n"
   ]
  },
  {
   "cell_type": "code",
   "execution_count": 15,
   "id": "225f401c",
   "metadata": {},
   "outputs": [],
   "source": [
    "class ListNode:\n",
    "    def __init__(self, val=0, next=None):\n",
    "        self.val = val\n",
    "        self.next = next\n",
    "\n",
    "def odd_even_linked_list(head):\n",
    "    if not head or not head.next:\n",
    "        return head\n",
    "\n",
    "    odd_head = odd_tail = head\n",
    "    even_head = even_tail = head.next\n",
    "\n",
    "    while even_tail and even_tail.next:\n",
    "        odd_tail.next = even_tail.next\n",
    "        odd_tail = odd_tail.next\n",
    "        even_tail.next = odd_tail.next\n",
    "        even_tail = even_tail.next\n",
    "\n",
    "    odd_tail.next = even_head\n",
    "    return odd_head"
   ]
  },
  {
   "cell_type": "code",
   "execution_count": 16,
   "id": "1e757886",
   "metadata": {},
   "outputs": [
    {
     "name": "stdout",
     "output_type": "stream",
     "text": [
      "1 3 5 2 4 "
     ]
    }
   ],
   "source": [
    "head = ListNode(1)\n",
    "head.next = ListNode(2)\n",
    "head.next.next = ListNode(3)\n",
    "head.next.next.next = ListNode(4)\n",
    "head.next.next.next.next = ListNode(5)\n",
    "\n",
    "reordered_head = odd_even_linked_list(head)\n",
    "current = reordered_head\n",
    "\n",
    "while current:\n",
    "    print(current.val, end=\" \")\n",
    "    current = current.next"
   ]
  },
  {
   "cell_type": "markdown",
   "id": "8aa1a8e8",
   "metadata": {},
   "source": [
    "**Question 6**\n",
    "\n",
    "Given a singly linked list of size **N**. The task is to **left-shift** the linked list by **k** nodes, where **k** is a given positive integer smaller than or equal to length of the linked list.\n"
   ]
  },
  {
   "cell_type": "code",
   "execution_count": 17,
   "id": "665b2d28",
   "metadata": {},
   "outputs": [],
   "source": [
    "class ListNode:\n",
    "    def __init__(self, val=0, next=None):\n",
    "        self.val = val\n",
    "        self.next = next\n",
    "\n",
    "def left_shift_linked_list(head, k):\n",
    "    if not head or not head.next or k <= 0:\n",
    "        return head\n",
    "\n",
    "    length = 0\n",
    "    current = head\n",
    "\n",
    "    while current:\n",
    "        length += 1\n",
    "        current = current.next\n",
    "\n",
    "    k %= length\n",
    "    if k == 0:\n",
    "        return head\n",
    "\n",
    "    current = head\n",
    "    for _ in range(k - 1):\n",
    "        current = current.next\n",
    "\n",
    "    new_head = current.next\n",
    "    current.next = None\n",
    "    current = new_head\n",
    "\n",
    "    while current.next:\n",
    "        current = current.next\n",
    "\n",
    "    current.next = head\n",
    "    return new_head"
   ]
  },
  {
   "cell_type": "code",
   "execution_count": 18,
   "id": "cd86af4a",
   "metadata": {},
   "outputs": [
    {
     "name": "stdout",
     "output_type": "stream",
     "text": [
      "3 4 5 1 2 "
     ]
    }
   ],
   "source": [
    "head = ListNode(1)\n",
    "head.next = ListNode(2)\n",
    "head.next.next = ListNode(3)\n",
    "head.next.next.next = ListNode(4)\n",
    "head.next.next.next.next = ListNode(5)\n",
    "\n",
    "shifted_head = left_shift_linked_list(head, 2)\n",
    "current = shifted_head\n",
    "\n",
    "while current:\n",
    "    print(current.val, end=\" \")\n",
    "    current = current.next"
   ]
  },
  {
   "cell_type": "markdown",
   "id": "b02e82f3",
   "metadata": {},
   "source": [
    "**Question 7**\n",
    "\n",
    "You are given the `head` of a linked list with `n` nodes.\n",
    "\n",
    "For each node in the list, find the value of the **next greater node**. That is, for each node, find the value of the first node that is next to it and has a **strictly larger** value than it.\n",
    "\n",
    "Return an integer array `answer` where `answer[i]` is the value of the next greater node of the `ith` node (**1-indexed**). If the `ith` node does not have a next greater node, set `answer[i] = 0`.\n"
   ]
  },
  {
   "cell_type": "code",
   "execution_count": 19,
   "id": "6481beab",
   "metadata": {},
   "outputs": [],
   "source": [
    "class ListNode:\n",
    "    def __init__(self, val=0, next=None):\n",
    "        self.val = val\n",
    "        self.next = next\n",
    "\n",
    "def next_greater_node(head):\n",
    "    values = []\n",
    "    current = head\n",
    "\n",
    "    while current:\n",
    "        values.append(current.val)\n",
    "        current = current.next\n",
    "\n",
    "    stack = []\n",
    "    answer = [0] * len(values)\n",
    "\n",
    "    for i in range(len(values) - 1, -1, -1):\n",
    "        while stack and values[i] >= stack[-1]:\n",
    "            stack.pop()\n",
    "\n",
    "        if stack:\n",
    "            answer[i] = stack[-1]\n",
    "            \n",
    "        stack.append(values[i])\n",
    "\n",
    "    return answer"
   ]
  },
  {
   "cell_type": "code",
   "execution_count": 20,
   "id": "c0ed9917",
   "metadata": {},
   "outputs": [
    {
     "name": "stdout",
     "output_type": "stream",
     "text": [
      "[7, 0, 5, 5, 0]\n"
     ]
    }
   ],
   "source": [
    "head = ListNode(2)\n",
    "head.next = ListNode(7)\n",
    "head.next.next = ListNode(4)\n",
    "head.next.next.next = ListNode(3)\n",
    "head.next.next.next.next = ListNode(5)\n",
    "\n",
    "result = next_greater_node(head)\n",
    "print(result)"
   ]
  },
  {
   "cell_type": "markdown",
   "id": "8b5d7fa3",
   "metadata": {},
   "source": [
    "**Question 8**\n",
    "\n",
    "Given the `head` of a linked list, we repeatedly delete consecutive sequences of nodes that sum to `0` until there are no such sequences.\n",
    "\n",
    "After doing so, return the head of the final linked list.  You may return any such answer.\n",
    "\n",
    "(Note that in the examples below, all sequences are serializations of `ListNode` objects.)\n"
   ]
  },
  {
   "cell_type": "code",
   "execution_count": 21,
   "id": "8f0cc184",
   "metadata": {},
   "outputs": [],
   "source": [
    "class ListNode:\n",
    "    def __init__(self, val=0, next=None):\n",
    "        self.val = val\n",
    "        self.next = next\n",
    "\n",
    "\n",
    "def remove_zero_sum_sublists(head):\n",
    "    dummy = ListNode(0)\n",
    "    dummy.next = head\n",
    "\n",
    "    prefix_sum = {}\n",
    "    prefix_sum[0] = dummy\n",
    "\n",
    "    current = dummy\n",
    "    cumulative_sum = 0\n",
    "\n",
    "    while current.next:\n",
    "        cumulative_sum += current.next.val\n",
    "\n",
    "        if cumulative_sum in prefix_sum:\n",
    "            prev = prefix_sum[cumulative_sum]\n",
    "            temp_sum = cumulative_sum\n",
    "            temp = prev.next\n",
    "            \n",
    "            while temp != current.next:\n",
    "                temp_sum += temp.val\n",
    "                del prefix_sum[temp_sum]\n",
    "                temp = temp.next\n",
    "\n",
    "            prev.next = current.next.next\n",
    "\n",
    "        else:\n",
    "            prefix_sum[cumulative_sum] = current.next\n",
    "\n",
    "        current = current.next\n",
    "\n",
    "    return dummy.next"
   ]
  },
  {
   "cell_type": "code",
   "execution_count": 22,
   "id": "db0d3bcf",
   "metadata": {},
   "outputs": [
    {
     "name": "stdout",
     "output_type": "stream",
     "text": [
      "3 1 "
     ]
    }
   ],
   "source": [
    "head = ListNode(1)\n",
    "head.next = ListNode(2)\n",
    "head.next.next = ListNode(-3)\n",
    "head.next.next.next = ListNode(3)\n",
    "head.next.next.next.next = ListNode(1)\n",
    "\n",
    "result = remove_zero_sum_sublists(head)\n",
    "current = result\n",
    "\n",
    "while current:\n",
    "    print(current.val, end=\" \")\n",
    "    current = current.next"
   ]
  },
  {
   "cell_type": "code",
   "execution_count": null,
   "id": "a1c512c8",
   "metadata": {},
   "outputs": [],
   "source": []
  }
 ],
 "metadata": {
  "kernelspec": {
   "display_name": "Python 3 (ipykernel)",
   "language": "python",
   "name": "python3"
  },
  "language_info": {
   "codemirror_mode": {
    "name": "ipython",
    "version": 3
   },
   "file_extension": ".py",
   "mimetype": "text/x-python",
   "name": "python",
   "nbconvert_exporter": "python",
   "pygments_lexer": "ipython3",
   "version": "3.9.13"
  }
 },
 "nbformat": 4,
 "nbformat_minor": 5
}
