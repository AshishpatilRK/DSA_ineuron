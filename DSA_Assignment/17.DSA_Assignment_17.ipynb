{
 "cells": [
  {
   "cell_type": "markdown",
   "id": "d1f182c4",
   "metadata": {},
   "source": [
    "# DSA_Assignment_17"
   ]
  },
  {
   "cell_type": "markdown",
   "id": "0c220c77",
   "metadata": {},
   "source": [
    "**Question 1**\n",
    "\n",
    "Given a string `s`, *find the first non-repeating character in it and return its index*. If it does not exist, return `-1`.\n",
    "         \n",
    "           Input: s = \"leetcode\"\n",
    "           Output: 0\n",
    "                \n",
    "            Input: s = \"loveleetcode\"\n",
    "            Output: 2"
   ]
  },
  {
   "cell_type": "code",
   "execution_count": 4,
   "id": "e55651b0",
   "metadata": {},
   "outputs": [
    {
     "name": "stdout",
     "output_type": "stream",
     "text": [
      "0\n"
     ]
    }
   ],
   "source": [
    "def firstUniqChar(s):\n",
    "    freq_map = {}\n",
    "\n",
    "    # Build frequency map\n",
    "    for ch in s:\n",
    "        freq_map[ch] = freq_map.get(ch, 0) + 1\n",
    "\n",
    "    # Find first non-repeating character\n",
    "    for i, ch in enumerate(s):\n",
    "        if freq_map[ch] == 1:\n",
    "            return i\n",
    "\n",
    "    return -1\n",
    "\n",
    "s = \"leetcode\"\n",
    "result = firstUniqChar(s)\n",
    "print(result)"
   ]
  },
  {
   "cell_type": "code",
   "execution_count": 3,
   "id": "2a4f6bce",
   "metadata": {},
   "outputs": [
    {
     "name": "stdout",
     "output_type": "stream",
     "text": [
      "2\n"
     ]
    }
   ],
   "source": [
    "s = \"loveleetcode\"\n",
    "result = firstUniqChar(s)\n",
    "print(result)"
   ]
  },
  {
   "cell_type": "markdown",
   "id": "0d67d806",
   "metadata": {},
   "source": [
    "**Question 2**\n",
    "\n",
    "Given a **circular integer array** `nums` of length `n`, return *the maximum possible sum of a non-empty **subarray** of* `nums`.\n",
    "\n",
    "A **circular array** means the end of the array connects to the beginning of the array. Formally, the next element of `nums[i]` is `nums[(i + 1) % n]` and the previous element of `nums[i]` is `nums[(i - 1 + n) % n]`.\n",
    "\n",
    "A **subarray** may only include each element of the fixed buffer `nums` at most once. Formally, for a subarray `nums[i], nums[i + 1], ..., nums[j]`, there does not exist `i <= k1`, `k2 <= j` with `k1 % n == k2 % n`.\n",
    "        \n",
    "        Input: nums = [1,-2,3,-2]\n",
    "         Output: 3\n",
    "        Explanation: Subarray [3] has maximum sum 3.\n",
    "\n",
    "\n",
    "</aside>"
   ]
  },
  {
   "cell_type": "code",
   "execution_count": 5,
   "id": "f5a3d13e",
   "metadata": {},
   "outputs": [
    {
     "name": "stdout",
     "output_type": "stream",
     "text": [
      "3\n"
     ]
    }
   ],
   "source": [
    "def maxSubarraySumCircular(nums):\n",
    "    max_sum = float('-inf')\n",
    "    min_sum = float('inf')\n",
    "    current_max = 0\n",
    "    current_min = 0\n",
    "    total_sum = 0\n",
    "\n",
    "    for num in nums:\n",
    "        current_max = max(num, current_max + num)\n",
    "        current_min = min(num, current_min + num)\n",
    "        max_sum = max(max_sum, current_max)\n",
    "        min_sum = min(min_sum, current_min)\n",
    "        total_sum += num\n",
    "\n",
    "    if max_sum > 0:\n",
    "        return max_sum\n",
    "    else:\n",
    "        return max(max_sum, total_sum - min_sum)\n",
    "\n",
    "nums = [1, -2, 3, -2]\n",
    "result = maxSubarraySumCircular(nums)\n",
    "print(result)"
   ]
  },
  {
   "cell_type": "markdown",
   "id": "8a98412a",
   "metadata": {},
   "source": [
    "**Question 3**\n",
    "\n",
    "The school cafeteria offers circular and square sandwiches at lunch break, referred to by numbers `0` and `1` respectively. All students stand in a queue. Each student either prefers square or circular sandwiches.\n",
    "\n",
    "The number of sandwiches in the cafeteria is equal to the number of students. The sandwiches are placed in a **stack**. At each step:\n",
    "\n",
    "- If the student at the front of the queue **prefers** the sandwich on the top of the stack, they will **take it** and leave the queue.\n",
    "- Otherwise, they will **leave it** and go to the queue's end.\n",
    "\n",
    "This continues until none of the queue students want to take the top sandwich and are thus unable to eat.\n",
    "\n",
    "You are given two integer arrays `students` and `sandwiches` where `sandwiches[i]` is the type of the `ith` sandwich in the stack (`i = 0` is the top of the stack) and `students[j]` is the preference of the `jth` student in the initial queue (`j = 0` is the front of the queue). Return *the number of students that are unable to eat.*\n",
    "\n",
    "                       Input: students = [1,1,0,0], sandwiches = [0,1,0,1]\n",
    "                       Output: 0\n",
    "                       \n",
    "                       Input: students = [1,1,1,0,0,1], sandwiches = [1,0,0,0,1,1]\n",
    "                       Output: 3\n"
   ]
  },
  {
   "cell_type": "code",
   "execution_count": 6,
   "id": "4e30d053",
   "metadata": {},
   "outputs": [
    {
     "name": "stdout",
     "output_type": "stream",
     "text": [
      "4\n"
     ]
    }
   ],
   "source": [
    "from collections import deque\n",
    "\n",
    "def countStudents(students, sandwiches):\n",
    "    studentQueue = deque(students)\n",
    "    sandwichQueue = deque(sandwiches)\n",
    "    unableToEat = 0\n",
    "\n",
    "    while studentQueue and sandwichQueue:\n",
    "        if studentQueue[0] == sandwichQueue[0]:\n",
    "            studentQueue.popleft()\n",
    "            sandwichQueue.popleft()\n",
    "        else:\n",
    "            studentQueue.append(studentQueue.popleft())\n",
    "            unableToEat += 1\n",
    "\n",
    "    return unableToEat\n",
    "\n",
    "\n",
    "# Example usage\n",
    "students = [1, 1, 0, 0]\n",
    "sandwiches = [0, 1, 0, 1]\n",
    "result = countStudents(students, sandwiches)\n",
    "print(result)"
   ]
  },
  {
   "cell_type": "markdown",
   "id": "e2da44c6",
   "metadata": {},
   "source": [
    "**Question 4**\n",
    "\n",
    "You have a `RecentCounter` class which counts the number of recent requests within a certain time frame.\n",
    "\n",
    "Implement the `RecentCounter` class:\n",
    "\n",
    "- `RecentCounter()` Initializes the counter with zero recent requests.\n",
    "- `int ping(int t)` Adds a new request at time `t`, where `t` represents some time in milliseconds, and returns the number of requests that has happened in the past `3000` milliseconds (including the new request). Specifically, return the number of requests that have happened in the inclusive range `[t - 3000, t]`.\n",
    "\n",
    "It is **guaranteed** that every call to `ping` uses a strictly larger value of `t` than the previous call.\n",
    "                 \n",
    "                \n",
    "                                      Input\n",
    "                                       [\"RecentCounter\", \"ping\", \"ping\", \"ping\", \"ping\"]\n",
    "                                       [[], [1], [100], [3001], [3002]]\n",
    "                                      Output\n",
    "                                      [null, 1, 2, 3, 3]\n"
   ]
  },
  {
   "cell_type": "code",
   "execution_count": 7,
   "id": "5ec12ec9",
   "metadata": {},
   "outputs": [],
   "source": [
    "from collections import deque\n",
    "\n",
    "class RecentCounter:\n",
    "    def __init__(self):\n",
    "        self.requests = deque()\n",
    "\n",
    "    def ping(self, t: int) -> int:\n",
    "        # Add the new request to the queue\n",
    "        self.requests.append(t)\n",
    "\n",
    "        # Remove requests that are outside the time frame\n",
    "        while self.requests and self.requests[0] < t - 3000:\n",
    "            self.requests.popleft()\n",
    "\n",
    "        # Return the number of requests in the time frame\n",
    "        return len(self.requests)"
   ]
  },
  {
   "cell_type": "code",
   "execution_count": 8,
   "id": "081b1770",
   "metadata": {},
   "outputs": [
    {
     "name": "stdout",
     "output_type": "stream",
     "text": [
      "1\n",
      "2\n",
      "3\n",
      "3\n"
     ]
    }
   ],
   "source": [
    "recentCounter = RecentCounter()\n",
    "print(recentCounter.ping(1))   \n",
    "print(recentCounter.ping(100)) \n",
    "print(recentCounter.ping(3001)) \n",
    "print(recentCounter.ping(3002))"
   ]
  },
  {
   "cell_type": "markdown",
   "id": "42459453",
   "metadata": {},
   "source": [
    "**Question 5**\n",
    "\n",
    "There are `n` friends that are playing a game. The friends are sitting in a circle and are numbered from `1` to `n` in **clockwise order**. More formally, moving clockwise from the `ith` friend brings you to the `(i+1)th` friend for `1 <= i < n`, and moving clockwise from the `nth` friend brings you to the `1st` friend.\n",
    "\n",
    "The rules of the game are as follows:\n",
    "\n",
    "1. **Start** at the `1st` friend.\n",
    "2. Count the next `k` friends in the clockwise direction **including** the friend you started at. The counting wraps around the circle and may count some friends more than once.\n",
    "3. The last friend you counted leaves the circle and loses the game.\n",
    "4. If there is still more than one friend in the circle, go back to step `2` **starting** from the friend **immediately clockwise** of the friend who just lost and repeat.\n",
    "5. Else, the last friend in the circle wins the game.\n",
    "\n",
    "Given the number of friends, `n`, and an integer `k`, return *the winner of the game*.\n",
    "                         \n",
    "                       Input: n = 5, k = 2\n",
    "                       Output: 3\n",
    "                       \n",
    "                       Input: n = 6, k = 5\n",
    "                       Output: 1\n",
    "                       Explanation: The friends leave in this order: 5, 4, 6, 2, 3. The winner is friend 1."
   ]
  },
  {
   "cell_type": "code",
   "execution_count": 9,
   "id": "f1ddda71",
   "metadata": {},
   "outputs": [
    {
     "name": "stdout",
     "output_type": "stream",
     "text": [
      "The winner is: 3\n"
     ]
    }
   ],
   "source": [
    "class ListNode:\n",
    "    def __init__(self, val=0, next=None):\n",
    "        self.val = val\n",
    "        self.next = next\n",
    "\n",
    "\n",
    "def findTheWinner(n, k):\n",
    "    # Create circular linked list\n",
    "    head = ListNode(1)\n",
    "    curr = head\n",
    "    for i in range(2, n+1):\n",
    "        curr.next = ListNode(i)\n",
    "        curr = curr.next\n",
    "    curr.next = head\n",
    "\n",
    "    # Traverse the linked list until only one friend is left\n",
    "    while curr.next != curr:\n",
    "        # Move k-1 steps forward\n",
    "        for _ in range(k-1):\n",
    "            curr = curr.next\n",
    "        # Remove the friend at the kth position\n",
    "        curr.next = curr.next.next\n",
    "\n",
    "    return curr.val\n",
    "\n",
    "n = 5\n",
    "k = 2\n",
    "winner = findTheWinner(n, k)\n",
    "print(\"The winner is:\", winner)"
   ]
  },
  {
   "cell_type": "markdown",
   "id": "ce8bd665",
   "metadata": {},
   "source": [
    "**Question 6**\n",
    "\n",
    "You are given an integer array `deck`. There is a deck of cards where every card has a unique integer. The integer on the `ith` card is `deck[i]`.\n",
    "\n",
    "You can order the deck in any order you want. Initially, all the cards start face down (unrevealed) in one deck.\n",
    "\n",
    "You will do the following steps repeatedly until all cards are revealed:\n",
    "\n",
    "1. Take the top card of the deck, reveal it, and take it out of the deck.\n",
    "2. If there are still cards in the deck then put the next top card of the deck at the bottom of the deck.\n",
    "3. If there are still unrevealed cards, go back to step 1. Otherwise, stop.\n",
    "\n",
    "Return *an ordering of the deck that would reveal the cards in increasing order*\n",
    "            \n",
    "            Input: deck = [17,13,11,2,3,5,7]\n",
    "            Output: [2,13,3,11,5,17,7]\n",
    "\n",
    "</aside>"
   ]
  },
  {
   "cell_type": "code",
   "execution_count": 10,
   "id": "d972ae62",
   "metadata": {},
   "outputs": [
    {
     "name": "stdout",
     "output_type": "stream",
     "text": [
      "Ordered deck: [2, 13, 3, 11, 5, 17, 7]\n"
     ]
    }
   ],
   "source": [
    "def deckRevealedIncreasing(deck):\n",
    "    n = len(deck)\n",
    "    deck.sort(reverse=True)  # Sort the deck in descending order\n",
    "    result = []\n",
    "\n",
    "    for card in deck:\n",
    "        if result:\n",
    "            result.insert(0, result.pop())  # Move the last card to the beginning\n",
    "        result.insert(0, card)  # Add the current card to the beginning\n",
    "\n",
    "    return result\n",
    "\n",
    "deck = [17, 13, 11, 2, 3, 5, 7]\n",
    "ordered_deck = deckRevealedIncreasing(deck)\n",
    "print(\"Ordered deck:\", ordered_deck)"
   ]
  },
  {
   "cell_type": "markdown",
   "id": "247b3fde",
   "metadata": {},
   "source": [
    "**Question 7**\n",
    "\n",
    "Design a queue that supports `push` and `pop` operations in the front, middle, and back.\n",
    "\n",
    "Implement the `FrontMiddleBack` class:\n",
    "\n",
    "- `FrontMiddleBack()` Initializes the queue.\n",
    "- `void pushFront(int val)` Adds `val` to the **front** of the queue.\n",
    "- `void pushMiddle(int val)` Adds `val` to the **middle** of the queue.\n",
    "- `void pushBack(int val)` Adds `val` to the **back** of the queue.\n",
    "- `int popFront()` Removes the **front** element of the queue and returns it. If the queue is empty, return `1`.\n",
    "- `int popMiddle()` Removes the **middle** element of the queue and returns it. If the queue is empty, return `1`.\n",
    "- `int popBack()` Removes the **back** element of the queue and returns it. If the queue is empty, return `1`.\n",
    "\n",
    "**Notice** that when there are **two** middle position choices, the operation is performed on the **frontmost** middle position choice. For example:\n",
    "\n",
    "- Pushing `6` into the middle of `[1, 2, 3, 4, 5]` results in `[1, 2, 6, 3, 4, 5]`.\n",
    "- Popping the middle from `[1, 2, 3, 4, 5, 6]` returns `3` and results in `[1, 2, 4, 5, 6]`.\n",
    "\n",
    "          Input:\n",
    "                [\"FrontMiddleBackQueue\", \"pushFront\", \"pushBack\", \"pushMiddle\", \"pushMiddle\", \"popFront\", \"popMiddle\", \"popMiddle\", \"popBack\", \"popFront\"]\n",
    "                [[], [1], [2], [3], [4], [], [], [], [], []]\n",
    "                Output:\n",
    "                [null, null, null, null, null, 1, 3, 4, 2, -1]\n",
    "</aside>"
   ]
  },
  {
   "cell_type": "code",
   "execution_count": 11,
   "id": "14fd0f5f",
   "metadata": {},
   "outputs": [],
   "source": [
    "from collections import deque\n",
    "\n",
    "class FrontMiddleBackQueue:\n",
    "    def __init__(self):\n",
    "        self.front = deque()  # Deque for elements before the middle\n",
    "        self.back = deque()  # Deque for elements after the middle\n",
    "\n",
    "    def pushFront(self, val: int) -> None:\n",
    "        self.front.appendleft(val)\n",
    "        self._balance()  # Balance the deque sizes\n",
    "\n",
    "    def pushMiddle(self, val: int) -> None:\n",
    "        if len(self.front) > len(self.back):\n",
    "            self.back.appendleft(self.front.pop())\n",
    "        self.front.append(val)\n",
    "        self._balance()  # Balance the deque sizes\n",
    "\n",
    "    def pushBack(self, val: int) -> None:\n",
    "        self.back.append(val)\n",
    "        self._balance()  # Balance the deque sizes\n",
    "\n",
    "    def popFront(self) -> int:\n",
    "        if self.front:\n",
    "            return self.front.popleft()\n",
    "        elif self.back:\n",
    "            return self.back.popleft()\n",
    "        else:\n",
    "            return -1  # Queue is empty\n",
    "\n",
    "    def popMiddle(self) -> int:\n",
    "        if self.front:\n",
    "            return self.front.pop()\n",
    "        elif self.back:\n",
    "            return self.back.popleft()\n",
    "        else:\n",
    "            return -1  # Queue is empty\n",
    "\n",
    "    def popBack(self) -> int:\n",
    "        if self.back:\n",
    "            return self.back.pop()\n",
    "        elif self.front:\n",
    "            return self.front.pop()\n",
    "        else:\n",
    "            return -1  # Queue is empty\n",
    "\n",
    "    def _balance(self):\n",
    "        if len(self.front) > len(self.back) + 1:\n",
    "            self.back.appendleft(self.front.pop())\n",
    "        elif len(self.back) > len(self.front):\n",
    "            self.front.append(self.back.popleft())"
   ]
  },
  {
   "cell_type": "code",
   "execution_count": 12,
   "id": "d5d84549",
   "metadata": {},
   "outputs": [
    {
     "data": {
      "text/plain": [
       "[[], [1], [2], [3], [4], [], [], [], [], []]"
      ]
     },
     "execution_count": 12,
     "metadata": {},
     "output_type": "execute_result"
    }
   ],
   "source": [
    "Input:[\"FrontMiddleBackQueue\", \"pushFront\", \"pushBack\", \"pushMiddle\", \"pushMiddle\", \"popFront\", \"popMiddle\", \"popMiddle\", \"popBack\", \"popFront\"]\n",
    "[[], [1], [2], [3], [4], [], [], [], [], []]"
   ]
  },
  {
   "cell_type": "markdown",
   "id": "a05e1b54",
   "metadata": {},
   "source": [
    "**Question 8**\n",
    "\n",
    "For a stream of integers, implement a data structure that checks if the last `k` integers parsed in the stream are **equal** to `value`.\n",
    "\n",
    "Implement the **DataStream** class:\n",
    "\n",
    "- `DataStream(int value, int k)` Initializes the object with an empty integer stream and the two integers `value` and `k`.\n",
    "- `boolean consec(int num)` Adds `num` to the stream of integers. Returns `true` if the last `k` integers are equal to `value`, and `false` otherwise. If there are less than `k` integers, the condition does not hold true, so returns `false`.\n",
    "\n",
    "\n",
    "            Input\n",
    "                [\"DataStream\", \"consec\", \"consec\", \"consec\", \"consec\"]\n",
    "                [[4, 3], [4], [4], [4], [3]]\n",
    "                Output\n",
    "                [null, false, false, true, false]\n",
    "</aside>"
   ]
  },
  {
   "cell_type": "code",
   "execution_count": 13,
   "id": "c4514790",
   "metadata": {},
   "outputs": [],
   "source": [
    "class DataStream:\n",
    "    def __init__(self, value, k):\n",
    "        self.buffer = [None] * k\n",
    "        self.count = 0\n",
    "        self.value = value\n",
    "        self.k = k\n",
    "\n",
    "    def consec(self, num):\n",
    "        self.count += 1\n",
    "        index = (self.count - 1) % self.k\n",
    "        self.buffer[index] = num\n",
    "\n",
    "        if self.count < self.k:\n",
    "            return False\n",
    "\n",
    "        for i in range(self.k):\n",
    "            if self.buffer[i] != self.value:\n",
    "                return False\n",
    "\n",
    "        return True"
   ]
  },
  {
   "cell_type": "code",
   "execution_count": 14,
   "id": "41fa6c63",
   "metadata": {},
   "outputs": [
    {
     "name": "stdout",
     "output_type": "stream",
     "text": [
      "False\n",
      "False\n",
      "True\n",
      "False\n"
     ]
    }
   ],
   "source": [
    "dataStream = DataStream(4, 3)\n",
    "print(dataStream.consec(4))  \n",
    "print(dataStream.consec(4))  \n",
    "print(dataStream.consec(4)) \n",
    "print(dataStream.consec(3)) "
   ]
  },
  {
   "cell_type": "code",
   "execution_count": null,
   "id": "da0909f0",
   "metadata": {},
   "outputs": [],
   "source": []
  }
 ],
 "metadata": {
  "kernelspec": {
   "display_name": "Python 3 (ipykernel)",
   "language": "python",
   "name": "python3"
  },
  "language_info": {
   "codemirror_mode": {
    "name": "ipython",
    "version": 3
   },
   "file_extension": ".py",
   "mimetype": "text/x-python",
   "name": "python",
   "nbconvert_exporter": "python",
   "pygments_lexer": "ipython3",
   "version": "3.9.13"
  }
 },
 "nbformat": 4,
 "nbformat_minor": 5
}
