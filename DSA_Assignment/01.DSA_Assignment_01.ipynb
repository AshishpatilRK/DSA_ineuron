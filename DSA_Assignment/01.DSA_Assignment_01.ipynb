{
 "cells": [
  {
   "cell_type": "markdown",
   "id": "170bc529",
   "metadata": {},
   "source": [
    "## DSA_Assignment_01"
   ]
  },
  {
   "cell_type": "markdown",
   "id": "d906914d",
   "metadata": {},
   "source": [
    "**Q1.** Given an array of integers nums and an integer target, return indices of the two numbers such that they add up to target.\n",
    "\n",
    "You may assume that each input would have exactly one solution, and you may not use the same element twice.\n",
    "\n",
    "You can return the answer in any order.\n",
    "\n",
    "**Example:**\n",
    "Input: nums = [2,7,11,15], target = 9\n",
    "Output0 [0,1]\n",
    "\n",
    "**Explanation:** Because nums[0] + nums[1] == 9, we return [0, 1]\n",
    "\n"
   ]
  },
  {
   "cell_type": "code",
   "execution_count": 1,
   "id": "1c2731cb",
   "metadata": {},
   "outputs": [
    {
     "data": {
      "text/plain": [
       "[0, 1]"
      ]
     },
     "execution_count": 1,
     "metadata": {},
     "output_type": "execute_result"
    }
   ],
   "source": [
    "def Sum_indx(nums, target):\n",
    "    ls = []\n",
    "    for i in range(len(nums)):\n",
    "        for j in range(i+1,len(nums)):\n",
    "            sum = nums[i] + nums[j]\n",
    "            if sum == target:\n",
    "                idx = [i, j]\n",
    "            else:\n",
    "                j = j+1\n",
    "    return idx\n",
    "nums = [2,7,11,15]\n",
    "target = 9\n",
    "Sum_indx(nums, target)"
   ]
  },
  {
   "cell_type": "markdown",
   "id": "c4f43ff4",
   "metadata": {},
   "source": [
    "**Q2.** Given an integer array nums and an integer val, remove all occurrences of val in nums in-place. The order of the elements may be changed. Then return the number of elements in nums which are not equal to val.\n",
    "\n",
    "Consider the number of elements in nums which are not equal to val be k, to get accepted, you need to do the following things:\n",
    "\n",
    "- Change the array nums such that the first k elements of nums contain the elements which are not equal to val. The remaining elements of nums are not important as well as the size of nums.\n",
    "- Return k.\n",
    "\n",
    "**Example :**\n",
    "Input: nums = [3,2,2,3], val = 3\n",
    "Output: 2, nums = [2,2, _*, _*]\n"
   ]
  },
  {
   "cell_type": "code",
   "execution_count": 3,
   "id": "19bb4304",
   "metadata": {},
   "outputs": [
    {
     "data": {
      "text/plain": [
       "('k = 2', [2, 2, '_', '_'])"
      ]
     },
     "execution_count": 3,
     "metadata": {},
     "output_type": "execute_result"
    }
   ],
   "source": [
    "def remove_same(nums, val):\n",
    "    count = 0\n",
    "    i = 0\n",
    "    j = len(nums)\n",
    "\n",
    "    while i<j:\n",
    "        if nums[i] == val:\n",
    "            nums.pop(i)\n",
    "            count += 1\n",
    "            i -= 1\n",
    "\n",
    "            nums.append('_')\n",
    "            j = len(nums)\n",
    "\n",
    "        elif i <= len(nums):\n",
    "            i += 1\n",
    "\n",
    "    return f'k = {len(nums) - count}',nums\n",
    "\n",
    "nums = [3,2,2,3]\n",
    "val = 3 \n",
    "remove_same(nums, val)"
   ]
  },
  {
   "cell_type": "markdown",
   "id": "2ce433ba",
   "metadata": {},
   "source": [
    "**Q3.** Given a sorted array of distinct integers and a target value, return the index if the target is found. If not, return the index where it would be if it were inserted in order.\n",
    "\n",
    "**Example 1:**\n",
    "Input: nums = [1,3,5,6], target = 5\n",
    "\n",
    "Output: 2"
   ]
  },
  {
   "cell_type": "code",
   "execution_count": 5,
   "id": "0e50969e",
   "metadata": {},
   "outputs": [],
   "source": [
    "def insert_targt(nums, target):\n",
    "    ls = []\n",
    "    for i in range(len(nums)):\n",
    "        if nums[i] == target:\n",
    "            idx = i\n",
    "        else:\n",
    "            i = i + 1\n",
    "            nums.append(target)\n",
    "            new_nums = sorted(list(nums))\n",
    "            idx = new_nums.index(target)\n",
    "    return idx\n"
   ]
  },
  {
   "cell_type": "code",
   "execution_count": 6,
   "id": "d60f6956",
   "metadata": {},
   "outputs": [
    {
     "data": {
      "text/plain": [
       "2"
      ]
     },
     "execution_count": 6,
     "metadata": {},
     "output_type": "execute_result"
    }
   ],
   "source": [
    "nums = [1,3,5,6]\n",
    "target = 5\n",
    "insert_targt(nums, target)"
   ]
  },
  {
   "cell_type": "code",
   "execution_count": 7,
   "id": "b13f186e",
   "metadata": {},
   "outputs": [
    {
     "data": {
      "text/plain": [
       "1"
      ]
     },
     "execution_count": 7,
     "metadata": {},
     "output_type": "execute_result"
    }
   ],
   "source": [
    "nums = [1,3,5,6]\n",
    "target = 2\n",
    "insert_targt(nums, target)"
   ]
  },
  {
   "cell_type": "markdown",
   "id": "f0df392f",
   "metadata": {},
   "source": [
    "**Q4.** You are given a large integer represented as an integer array digits, where each digits[i] is the ith digit of the integer. The digits are ordered from most significant to least significant in left-to-right order. The large integer does not contain any leading 0's.\n",
    "\n",
    "Increment the large integer by one and return the resulting array of digits.\n",
    "\n",
    "**Example 1:**\n",
    "Input: digits = [1,2,3]\n",
    "Output: [1,2,4]\n",
    "\n",
    "**Explanation:** The array represents the integer 123.\n",
    "\n",
    "Incrementing by one gives 123 + 1 = 124.\n",
    "Thus, the result should be [1,2,4]"
   ]
  },
  {
   "cell_type": "code",
   "execution_count": 16,
   "id": "9a6bd122",
   "metadata": {},
   "outputs": [
    {
     "data": {
      "text/plain": [
       "[1, 2, 4]"
      ]
     },
     "execution_count": 16,
     "metadata": {},
     "output_type": "execute_result"
    }
   ],
   "source": [
    "def add_one(digits):\n",
    "    j=len(digits)-1\n",
    "    if digits[j]==9:\n",
    "        digits[j-1]=digits[j-1]+1\n",
    "        digits[j]=0\n",
    "        new_digits=digits\n",
    "    else:\n",
    "        digits[j]=digits[j]+1\n",
    "        new_digits=digits\n",
    "    return new_digits\n",
    "\n",
    "digits=[1,2,3]\n",
    "add_one(digits)"
   ]
  },
  {
   "cell_type": "markdown",
   "id": "91493525",
   "metadata": {},
   "source": [
    "**Q5.** You are given two integer arrays nums1 and nums2, sorted in non-decreasing order, and two integers m and n, representing the number of elements in nums1 and nums2 respectively.\n",
    "\n",
    "Merge nums1 and nums2 into a single array sorted in non-decreasing order.\n",
    "\n",
    "The final sorted array should not be returned by the function, but instead be stored inside the array nums1. To accommodate this, nums1 has a length of m + n, where the first m elements denote the elements that should be merged, and the last n elements are set to 0 and should be ignored. nums2 has a length of n.\n",
    "\n",
    "**Example 1:**\n",
    "Input: nums1 = [1,2,3,0,0,0], m = 3, nums2 = [2,5,6], n = 3\n",
    "Output: [1,2,2,3,5,6]\n",
    "\n",
    "**Explanation:** The arrays we are merging are [1,2,3] and [2,5,6].\n",
    "The result of the merge is [1,2,2,3,5,6] with the underlined elements coming from nums1.\n"
   ]
  },
  {
   "cell_type": "code",
   "execution_count": 20,
   "id": "b226bad2",
   "metadata": {},
   "outputs": [],
   "source": [
    "def add_arry(nums1, m, nums2, n):\n",
    "    a = m-1\n",
    "    b = n-1\n",
    "\n",
    "    for i in range(m+n-1, -1, -1):\n",
    "        if a >= 0 and n >= 0:\n",
    "            if nums1[a] > nums2[b]:\n",
    "                nums1[i] = nums1[a]\n",
    "                a -= 1\n",
    "\n",
    "            elif b >= 0:\n",
    "                nums1[i] = nums2[b]\n",
    "                b -= 1\n",
    "\n",
    "            else:\n",
    "                break\n",
    "\n",
    "    return nums1"
   ]
  },
  {
   "cell_type": "code",
   "execution_count": 21,
   "id": "6b00d1a3",
   "metadata": {},
   "outputs": [
    {
     "data": {
      "text/plain": [
       "[1, 2, 2, 3, 5, 6]"
      ]
     },
     "execution_count": 21,
     "metadata": {},
     "output_type": "execute_result"
    }
   ],
   "source": [
    "add_arry([1,2,3,0,0,0], 3, [2,5,6], 3)"
   ]
  },
  {
   "cell_type": "markdown",
   "id": "43f72357",
   "metadata": {},
   "source": [
    "**Q6.** Given an integer array nums, return true if any value appears at least twice in the array, and return false if every element is distinct.\n",
    "\n",
    "**Example 1:**\n",
    "Input: nums = [1,2,3,1]\n",
    "\n",
    "Output: true\n"
   ]
  },
  {
   "cell_type": "code",
   "execution_count": 26,
   "id": "973819e2",
   "metadata": {},
   "outputs": [],
   "source": [
    "def test(nums):\n",
    "    for i in range(len(nums)):\n",
    "        cnt=nums.count(nums[i])\n",
    "        if cnt>1:\n",
    "            p=True\n",
    "            break\n",
    "        else:\n",
    "            i=i+1\n",
    "            p=False\n",
    "    return p\n"
   ]
  },
  {
   "cell_type": "code",
   "execution_count": 27,
   "id": "51b34019",
   "metadata": {},
   "outputs": [
    {
     "data": {
      "text/plain": [
       "True"
      ]
     },
     "execution_count": 27,
     "metadata": {},
     "output_type": "execute_result"
    }
   ],
   "source": [
    "test([1,5,6,2,2])"
   ]
  },
  {
   "cell_type": "code",
   "execution_count": 28,
   "id": "a915ce2b",
   "metadata": {},
   "outputs": [
    {
     "data": {
      "text/plain": [
       "False"
      ]
     },
     "execution_count": 28,
     "metadata": {},
     "output_type": "execute_result"
    }
   ],
   "source": [
    "test([1,5,6,2])"
   ]
  },
  {
   "cell_type": "markdown",
   "id": "91f7ff45",
   "metadata": {},
   "source": [
    "**Q7.** Given an integer array nums, move all 0's to the end of it while maintaining the relative order of the nonzero elements.\n",
    "\n",
    "Note that you must do this in-place without making a copy of the array.\n",
    "\n",
    "**Example 1:**\n",
    "Input: nums = [0,1,0,3,12]\n",
    "Output: [1,3,12,0,0]"
   ]
  },
  {
   "cell_type": "code",
   "execution_count": 29,
   "id": "8f924621",
   "metadata": {},
   "outputs": [],
   "source": [
    "def move_zeros(nums):\n",
    "    z = 0\n",
    "    for i in range(len(nums)):\n",
    "        if nums[i] != 0:\n",
    "            nums[i], nums[z] = nums[z], nums[i]\n",
    "            z += 1\n",
    "    return nums"
   ]
  },
  {
   "cell_type": "code",
   "execution_count": 30,
   "id": "974d8263",
   "metadata": {},
   "outputs": [
    {
     "data": {
      "text/plain": [
       "[1, 3, 12, 0, 0]"
      ]
     },
     "execution_count": 30,
     "metadata": {},
     "output_type": "execute_result"
    }
   ],
   "source": [
    "move_zeros([0,1,0,3,12])"
   ]
  },
  {
   "cell_type": "code",
   "execution_count": 31,
   "id": "9cb39cb9",
   "metadata": {},
   "outputs": [
    {
     "data": {
      "text/plain": [
       "[1, 2, 4, 9, 1, 2, 4, 0, 0, 0, 0]"
      ]
     },
     "execution_count": 31,
     "metadata": {},
     "output_type": "execute_result"
    }
   ],
   "source": [
    "move_zeros([1,2,0,4,9,1,0,0,2,4,0])"
   ]
  },
  {
   "cell_type": "markdown",
   "id": "ada15a72",
   "metadata": {},
   "source": [
    "**Q8.** You have a set of integers s, which originally contains all the numbers from 1 to n. Unfortunately, due to some error, one of the numbers in s got duplicated to another number in the set, which results in repetition of one number and loss of another number.\n",
    "\n",
    "You are given an integer array nums representing the data status of this set after the error.\n",
    "\n",
    "Find the number that occurs twice and the number that is missing and return them in the form of an array.\n",
    "\n",
    "**Example 1:**\n",
    "Input: nums = [1,2,2,4]\n",
    "Output: [2,3]"
   ]
  },
  {
   "cell_type": "code",
   "execution_count": 33,
   "id": "867b405a",
   "metadata": {},
   "outputs": [],
   "source": [
    "def test(nums):\n",
    "    n = len(nums)\n",
    "    dic = {}\n",
    "\n",
    "    for i in nums:\n",
    "        if i in dic:\n",
    "            duplicate = i\n",
    "\n",
    "        else:\n",
    "            dic[i] = 1\n",
    "\n",
    "    for j in range(1, n+1):\n",
    "        if j not in dic:\n",
    "            missing = j\n",
    "        \n",
    "    return [duplicate, missing]"
   ]
  },
  {
   "cell_type": "code",
   "execution_count": 34,
   "id": "ed269e53",
   "metadata": {},
   "outputs": [
    {
     "data": {
      "text/plain": [
       "[2, 3]"
      ]
     },
     "execution_count": 34,
     "metadata": {},
     "output_type": "execute_result"
    }
   ],
   "source": [
    "test([1,2,2,4])"
   ]
  },
  {
   "cell_type": "code",
   "execution_count": 35,
   "id": "e105a158",
   "metadata": {},
   "outputs": [
    {
     "data": {
      "text/plain": [
       "[6, 5]"
      ]
     },
     "execution_count": 35,
     "metadata": {},
     "output_type": "execute_result"
    }
   ],
   "source": [
    "test([1,2,3,4,6,6,7])"
   ]
  },
  {
   "cell_type": "code",
   "execution_count": null,
   "id": "a809af01",
   "metadata": {},
   "outputs": [],
   "source": []
  }
 ],
 "metadata": {
  "kernelspec": {
   "display_name": "Python 3 (ipykernel)",
   "language": "python",
   "name": "python3"
  },
  "language_info": {
   "codemirror_mode": {
    "name": "ipython",
    "version": 3
   },
   "file_extension": ".py",
   "mimetype": "text/x-python",
   "name": "python",
   "nbconvert_exporter": "python",
   "pygments_lexer": "ipython3",
   "version": "3.9.13"
  }
 },
 "nbformat": 4,
 "nbformat_minor": 5
}
