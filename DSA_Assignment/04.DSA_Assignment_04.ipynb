{
 "cells": [
  {
   "cell_type": "markdown",
   "id": "7c09d614",
   "metadata": {},
   "source": [
    "# DSA_Assignment_04"
   ]
  },
  {
   "cell_type": "markdown",
   "id": "e53f4b9d",
   "metadata": {},
   "source": [
    "**Question 1**\n",
    "Given three integer arrays arr1, arr2 and arr3 **sorted** in **strictly increasing** order, return a sorted array of **only** the integers that appeared in **all** three arrays.\n",
    "\n",
    "**Example 1:**\n",
    "\n",
    "Input: arr1 = [1,2,3,4,5], arr2 = [1,2,5,7,9], arr3 = [1,3,4,5,8]\n",
    "\n",
    "Output: [1,5]\n",
    "\n",
    "**Explanation:** Only 1 and 5 appeared in the three arrays."
   ]
  },
  {
   "cell_type": "code",
   "execution_count": 1,
   "id": "9649a5f0",
   "metadata": {},
   "outputs": [],
   "source": [
    "def common(arr1, arr2, arr3):\n",
    "    res = []\n",
    "\n",
    "    for i in range(len(arr1)):\n",
    "        if arr1[i] in arr2 and arr1[i] in arr3:\n",
    "            res.append(arr1[i])\n",
    "\n",
    "    return res"
   ]
  },
  {
   "cell_type": "code",
   "execution_count": 2,
   "id": "7a041201",
   "metadata": {},
   "outputs": [
    {
     "data": {
      "text/plain": [
       "[1, 5]"
      ]
     },
     "execution_count": 2,
     "metadata": {},
     "output_type": "execute_result"
    }
   ],
   "source": [
    "common([1,2,3,4,5], [1,2,5,7,9], [1,3,4,5,8])"
   ]
  },
  {
   "cell_type": "code",
   "execution_count": 4,
   "id": "15e80a76",
   "metadata": {},
   "outputs": [
    {
     "data": {
      "text/plain": [
       "[1, 2, 3, 4]"
      ]
     },
     "execution_count": 4,
     "metadata": {},
     "output_type": "execute_result"
    }
   ],
   "source": [
    "common([1,2,3,4,6,8],[1,2,3,4,5,7],[1,2,3,4,8,9])"
   ]
  },
  {
   "cell_type": "markdown",
   "id": "1c3761bb",
   "metadata": {},
   "source": [
    "**Question 2**\n",
    "\n",
    "Given two **0-indexed** integer arrays nums1 and nums2, return *a list* answer *of size* 2 *where:*\n",
    "\n",
    "- answer[0] *is a list of all **distinct** integers in* nums1 *which are **not** present in* nums2*.*\n",
    "- answer[1] *is a list of all **distinct** integers in* nums2 *which are **not** present in* nums1.\n",
    "\n",
    "**Note** that the integers in the lists may be returned in **any** order.\n",
    "\n",
    "**Example 1:**\n",
    "\n",
    "**Input:** nums1 = [1,2,3], nums2 = [2,4,6]\n",
    "\n",
    "**Output:** [[1,3],[4,6]]"
   ]
  },
  {
   "cell_type": "code",
   "execution_count": 6,
   "id": "2cfd2bba",
   "metadata": {},
   "outputs": [],
   "source": [
    "def distinct(nums1, nums2):\n",
    "    set1 = set(nums1)\n",
    "    set2 = set(nums2)\n",
    "\n",
    "    return [list(set1 - set2), list(set2 - set1)]"
   ]
  },
  {
   "cell_type": "code",
   "execution_count": 7,
   "id": "3b246f29",
   "metadata": {},
   "outputs": [
    {
     "data": {
      "text/plain": [
       "[[1, 3], [4, 6]]"
      ]
     },
     "execution_count": 7,
     "metadata": {},
     "output_type": "execute_result"
    }
   ],
   "source": [
    "distinct([1,2,3], [2,4,6])"
   ]
  },
  {
   "cell_type": "markdown",
   "id": "0c58e4bf",
   "metadata": {},
   "source": [
    "**Question 3**<br>\n",
    "Given a 2D integer array matrix, return *the **transpose** of* matrix.\n",
    "\n",
    "The **transpose** of a matrix is the matrix flipped over its main diagonal, switching the matrix's row and column indices."
   ]
  },
  {
   "cell_type": "code",
   "execution_count": 9,
   "id": "30226932",
   "metadata": {},
   "outputs": [],
   "source": [
    "def transpose(matrix):\n",
    "    \n",
    "    return [[matrix[j][i] for j in range(len(matrix))] for i in range(len(matrix[0]))]"
   ]
  },
  {
   "cell_type": "code",
   "execution_count": 10,
   "id": "a9ca60e1",
   "metadata": {},
   "outputs": [
    {
     "data": {
      "text/plain": [
       "[[1, 4, 7], [2, 5, 8], [3, 6, 9]]"
      ]
     },
     "execution_count": 10,
     "metadata": {},
     "output_type": "execute_result"
    }
   ],
   "source": [
    "transpose([[1,2,3], [4,5,6], [7,8,9]])"
   ]
  },
  {
   "cell_type": "markdown",
   "id": "444b9b3b",
   "metadata": {},
   "source": [
    "**Question 4**\n",
    "Given an integer array nums of 2n integers, group these integers into n pairs (a1, b1), (a2, b2), ..., (an, bn) such that the sum of min(ai, bi) for all i is **maximized**. Return *the maximized sum*.\n",
    "\n",
    "**Example 1:**\n",
    "\n",
    "Input: nums = [1,4,3,2]\n",
    "\n",
    "Output: 4\n",
    "\n",
    "**Explanation:** All possible pairings (ignoring the ordering of elements) are:\n",
    "\n",
    "1. (1, 4), (2, 3) -> min(1, 4) + min(2, 3) = 1 + 2 = 3\n",
    "\n",
    "2. (1, 3), (2, 4) -> min(1, 3) + min(2, 4) = 1 + 2 = 3\n",
    "\n",
    "3. (1, 2), (3, 4) -> min(1, 2) + min(3, 4) = 1 + 3 = 4\n",
    "\n",
    "So the maximum possible sum is 4."
   ]
  },
  {
   "cell_type": "code",
   "execution_count": 12,
   "id": "e95746af",
   "metadata": {},
   "outputs": [],
   "source": [
    "def pair_sum(arr):\n",
    "    arr.sort()\n",
    "    result = 0\n",
    "\n",
    "    for i in range(0, len(arr), 2):\n",
    "        pair_sum = min(arr[i], arr[i+1]) if i+1 < len(arr) else arr[i]\n",
    "        result += pair_sum\n",
    "\n",
    "    return result"
   ]
  },
  {
   "cell_type": "code",
   "execution_count": 13,
   "id": "101d41e4",
   "metadata": {},
   "outputs": [
    {
     "name": "stdout",
     "output_type": "stream",
     "text": [
      "4\n"
     ]
    }
   ],
   "source": [
    "nums = [1,4,3,2]\n",
    "print(pair_sum(nums))"
   ]
  },
  {
   "cell_type": "code",
   "execution_count": 14,
   "id": "495267ef",
   "metadata": {},
   "outputs": [
    {
     "name": "stdout",
     "output_type": "stream",
     "text": [
      "9\n"
     ]
    }
   ],
   "source": [
    "nums = [4,2,4,2,4,3]\n",
    "print(pair_sum(nums))"
   ]
  },
  {
   "cell_type": "markdown",
   "id": "81f2a91d",
   "metadata": {},
   "source": [
    "**Question 5**\n",
    "You have n coins and you want to build a staircase with these coins. The staircase consists of k rows where the ith row has exactly i coins. The last row of the staircase **may be** incomplete.\n",
    "\n",
    "Given the integer n, return *the number of **complete rows** of the staircase you will build*.\n",
    "\n",
    "**Example 1:**\n",
    "**Input:** n = 5\n",
    "\n",
    "**Output:** 2"
   ]
  },
  {
   "cell_type": "code",
   "execution_count": 16,
   "id": "350676b9",
   "metadata": {},
   "outputs": [],
   "source": [
    "def staircase(n):\n",
    "    row = 1\n",
    "    d = {}\n",
    "\n",
    "    while row <= n:\n",
    "        d[row] = row\n",
    "        n = n-row\n",
    "        row += 1\n",
    "\n",
    "    return max(d)"
   ]
  },
  {
   "cell_type": "code",
   "execution_count": 17,
   "id": "67a64ffb",
   "metadata": {},
   "outputs": [
    {
     "data": {
      "text/plain": [
       "2"
      ]
     },
     "execution_count": 17,
     "metadata": {},
     "output_type": "execute_result"
    }
   ],
   "source": [
    "staircase(5)"
   ]
  },
  {
   "cell_type": "code",
   "execution_count": 18,
   "id": "f9064596",
   "metadata": {},
   "outputs": [
    {
     "data": {
      "text/plain": [
       "4"
      ]
     },
     "execution_count": 18,
     "metadata": {},
     "output_type": "execute_result"
    }
   ],
   "source": [
    "staircase(10)"
   ]
  },
  {
   "cell_type": "markdown",
   "id": "2eec7629",
   "metadata": {},
   "source": [
    "**Question 6**\n",
    "Given an integer array nums sorted in **non-decreasing** order, return *an array of **the squares of each number** sorted in non-decreasing order*.\n",
    "\n",
    "**Example 1:**\n",
    "\n",
    "Input: nums = [-4,-1,0,3,10]\n",
    "\n",
    "Output: [0,1,9,16,100]\n",
    "\n",
    "**Explanation:** After squaring, the array becomes [16,1,0,9,100].\n",
    "After sorting, it becomes [0,1,9,16,100]"
   ]
  },
  {
   "cell_type": "code",
   "execution_count": 20,
   "id": "76c9752a",
   "metadata": {},
   "outputs": [],
   "source": [
    "def squre_num(nums):\n",
    "    result=[]\n",
    "    for i in nums:\n",
    "        result.append(i*i)\n",
    "    return sorted(result)"
   ]
  },
  {
   "cell_type": "code",
   "execution_count": 21,
   "id": "765e7c5f",
   "metadata": {},
   "outputs": [
    {
     "data": {
      "text/plain": [
       "[0, 1, 9, 16, 100]"
      ]
     },
     "execution_count": 21,
     "metadata": {},
     "output_type": "execute_result"
    }
   ],
   "source": [
    "nums = [-4,-1,0,3,10]\n",
    "squre_num(nums)"
   ]
  },
  {
   "cell_type": "markdown",
   "id": "0d3eb62e",
   "metadata": {},
   "source": [
    "**Question 7**\n",
    "You are given an m x n matrix M initialized with all 0's and an array of operations ops, where ops[i] = [ai, bi] means M[x][y] should be incremented by one for all 0 <= x < ai and 0 <= y < bi.\n",
    "\n",
    "Count and return *the number of maximum integers in the matrix after performing all the operations*\n",
    "\n",
    "**Example 1:**\n",
    "\n",
    "\n",
    "**Input:** m = 3, n = 3, ops = [[2,2],[3,3]]\n",
    "\n",
    "**Output:** 4\n",
    "\n",
    "**Explanation:** The maximum integer in M is 2, and there are four of it in M. So return 4.\n"
   ]
  },
  {
   "cell_type": "code",
   "execution_count": 23,
   "id": "74e99a73",
   "metadata": {},
   "outputs": [],
   "source": [
    "def max_count(m, n, ops):\n",
    "    if not ops:\n",
    "        return m * n\n",
    "    min_row = min(op[0] for op in ops)\n",
    "    min_col = min(op[1] for op in ops)\n",
    "    return min_row * min_col"
   ]
  },
  {
   "cell_type": "code",
   "execution_count": 24,
   "id": "9b3a4b62",
   "metadata": {},
   "outputs": [
    {
     "data": {
      "text/plain": [
       "4"
      ]
     },
     "execution_count": 24,
     "metadata": {},
     "output_type": "execute_result"
    }
   ],
   "source": [
    "m = 3\n",
    "n = 3\n",
    "ops = [[2,2],[3,3]]\n",
    "\n",
    "max_count(m,n,ops)"
   ]
  },
  {
   "cell_type": "markdown",
   "id": "d5c9c19a",
   "metadata": {},
   "source": [
    "**Question 8**\n",
    "\n",
    "Given the array nums consisting of 2n elements in the form [x1,x2,...,xn,y1,y2,...,yn].\n",
    "\n",
    "*Return the array in the form* [x1,y1,x2,y2,...,xn,yn].\n",
    "\n",
    "**Example 1:**\n",
    "\n",
    "**Input:** nums = [2,5,1,3,4,7], n = 3\n",
    "\n",
    "**Output:** [2,3,5,4,1,7]\n",
    "\n",
    "**Explanation:** Since x1=2, x2=5, x3=1, y1=3, y2=4, y3=7 then the answer is [2,3,5,4,1,7].\n"
   ]
  },
  {
   "cell_type": "code",
   "execution_count": 26,
   "id": "40a285eb",
   "metadata": {},
   "outputs": [],
   "source": [
    "def shuffle(nums, n):\n",
    "    result = []\n",
    "    for i in range(n):\n",
    "        result.append(nums[i])\n",
    "        result.append(nums[i + n])\n",
    "    return result"
   ]
  },
  {
   "cell_type": "code",
   "execution_count": 27,
   "id": "6757bfe0",
   "metadata": {},
   "outputs": [
    {
     "data": {
      "text/plain": [
       "[2, 3, 5, 4, 1, 7]"
      ]
     },
     "execution_count": 27,
     "metadata": {},
     "output_type": "execute_result"
    }
   ],
   "source": [
    "nums = [2,5,1,3,4,7]\n",
    "n = 3\n",
    "\n",
    "shuffle(nums,n)"
   ]
  },
  {
   "cell_type": "code",
   "execution_count": null,
   "id": "4a0c2ea1",
   "metadata": {},
   "outputs": [],
   "source": []
  }
 ],
 "metadata": {
  "kernelspec": {
   "display_name": "Python 3 (ipykernel)",
   "language": "python",
   "name": "python3"
  },
  "language_info": {
   "codemirror_mode": {
    "name": "ipython",
    "version": 3
   },
   "file_extension": ".py",
   "mimetype": "text/x-python",
   "name": "python",
   "nbconvert_exporter": "python",
   "pygments_lexer": "ipython3",
   "version": "3.9.13"
  }
 },
 "nbformat": 4,
 "nbformat_minor": 5
}
