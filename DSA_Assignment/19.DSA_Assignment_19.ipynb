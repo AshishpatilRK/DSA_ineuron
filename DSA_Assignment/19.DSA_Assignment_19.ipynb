{
 "cells": [
  {
   "cell_type": "markdown",
   "id": "1eac7604",
   "metadata": {},
   "source": [
    "# DSA_Assignment_19"
   ]
  },
  {
   "cell_type": "markdown",
   "id": "c7c3ea67",
   "metadata": {},
   "source": [
    "1. **Merge k Sorted Lists**\n",
    "\n",
    "You are given an array of `k` linked-lists `lists`, each linked-list is sorted in ascending order.\n",
    "\n",
    "*Merge all the linked-lists into one sorted linked-list and return it.*\n",
    "          \n",
    "           Input: lists = [[1,4,5],[1,3,4],[2,6]]\n",
    "            Output: [1,1,2,3,4,4,5,6]\n",
    "            Explanation: The linked-lists are:\n",
    "            [\n",
    "              1->4->5,\n",
    "              1->3->4,\n",
    "              2->6\n",
    "            ]\n",
    "            merging them into one sorted list:\n",
    "            1->1->2->3->4->4->5->6\n",
    "\n",
    "\n",
    "</aside>"
   ]
  },
  {
   "cell_type": "code",
   "execution_count": 6,
   "id": "62886200",
   "metadata": {},
   "outputs": [],
   "source": [
    "class ListNode:\n",
    "    def __init__(self, val=0, next=None):\n",
    "        self.val = val\n",
    "        self.next = next\n",
    "\n",
    "def mergeTwoLists(l1, l2):\n",
    "    dummy = ListNode()\n",
    "    current = dummy\n",
    "\n",
    "    while l1 and l2:\n",
    "        if l1.val < l2.val:\n",
    "            current.next = l1\n",
    "            l1 = l1.next\n",
    "        else:\n",
    "            current.next = l2\n",
    "            l2 = l2.next\n",
    "\n",
    "        current = current.next\n",
    "\n",
    "    if l1:\n",
    "        current.next = l1\n",
    "    elif l2:\n",
    "        current.next = l2\n",
    "\n",
    "    return dummy.next\n",
    "\n",
    "def mergeKLists(lists):\n",
    "    if not lists:\n",
    "        return None\n",
    "\n",
    "    while len(lists) > 1:\n",
    "        new_lists = []\n",
    "\n",
    "        for i in range(0, len(lists), 2):\n",
    "            l1 = lists[i]\n",
    "            l2 = lists[i + 1] if i + 1 < len(lists) else None\n",
    "            merged = mergeTwoLists(l1, l2)\n",
    "            new_lists.append(merged)\n",
    "\n",
    "        lists = new_lists\n",
    "\n",
    "    return lists[0]"
   ]
  },
  {
   "cell_type": "code",
   "execution_count": 7,
   "id": "d45e55d8",
   "metadata": {},
   "outputs": [
    {
     "name": "stdout",
     "output_type": "stream",
     "text": [
      "1 -> 1 -> 2 -> 3 -> 4 -> 4 -> 5 -> 6 -> None\n",
      "None\n",
      "[]\n"
     ]
    }
   ],
   "source": [
    "l1 = ListNode(1, ListNode(4, ListNode(5)))\n",
    "l2 = ListNode(1, ListNode(3, ListNode(4)))\n",
    "l3 = ListNode(2, ListNode(6))\n",
    "lists1 = [l1, l2, l3]\n",
    "result1 = mergeKLists(lists1)\n",
    "\n",
    "while result1:\n",
    "    print(result1.val, end=\" -> \")\n",
    "    result1 = result1.next\n",
    "print(\"None\")\n",
    "\n",
    "lists2 = []\n",
    "result2 = mergeKLists(lists2)\n",
    "print(result2)\n",
    "\n",
    "lists3 = [[]]\n",
    "result3 = mergeKLists(lists3)\n",
    "print(result3)"
   ]
  },
  {
   "cell_type": "markdown",
   "id": "428f7922",
   "metadata": {},
   "source": [
    "2. **Count of Smaller Numbers After Self**\n",
    "\n",
    "Given an integer array `nums`, return *an integer array* `counts` *where* `counts[i]` *is the number of smaller elements to the right of* `nums[i]`.\n",
    "\n",
    "\n",
    "        Input: nums = [5,2,6,1]\n",
    "        Output: [2,1,1,0]\n",
    "        Explanation:\n",
    "        To the right of 5 there are2 smaller elements (2 and 1).\n",
    "        To the right of 2 there is only1 smaller element (1).\n",
    "        To the right of 6 there is1 smaller element (1).\n",
    "        To the right of 1 there is0 smaller element.\n",
    "\n",
    "</aside>"
   ]
  },
  {
   "cell_type": "code",
   "execution_count": 8,
   "id": "84526d39",
   "metadata": {},
   "outputs": [],
   "source": [
    "def mergeAndCount(nums, left, mid, right, counts):\n",
    "    leftArr = nums[left:mid+1]\n",
    "    rightArr = nums[mid+1:right+1]\n",
    "\n",
    "    inversions = 0\n",
    "    i = j = 0\n",
    "    k = left\n",
    "\n",
    "    while i < len(leftArr) and j < len(rightArr):\n",
    "        if leftArr[i] <= rightArr[j]:\n",
    "            nums[k] = leftArr[i]\n",
    "            counts[k] += inversions\n",
    "            i += 1\n",
    "        else:\n",
    "            nums[k] = rightArr[j]\n",
    "            j += 1\n",
    "            inversions += 1\n",
    "        k += 1\n",
    "\n",
    "    while i < len(leftArr):\n",
    "        nums[k] = leftArr[i]\n",
    "        counts[k] += inversions\n",
    "        i += 1\n",
    "        k += 1\n",
    "\n",
    "    while j < len(rightArr):\n",
    "        nums[k] = rightArr[j]\n",
    "        j += 1\n",
    "        k += 1\n",
    "\n",
    "    return inversions\n",
    "\n",
    "def mergeSortAndCount(nums, left, right, counts):\n",
    "    inversions = 0\n",
    "\n",
    "    if left < right:\n",
    "        mid = (left + right) // 2\n",
    "\n",
    "        inversions += mergeSortAndCount(nums, left, mid, counts)\n",
    "        inversions += mergeSortAndCount(nums, mid + 1, right, counts)\n",
    "        inversions += mergeAndCount(nums, left, mid, right, counts)\n",
    "\n",
    "    return inversions\n",
    "\n",
    "def countSmaller(nums):\n",
    "    if not nums:\n",
    "        return []\n",
    "\n",
    "    n = len(nums)\n",
    "    counts = [0] * n\n",
    "\n",
    "    mergeSortAndCount(nums, 0, n - 1, counts)\n",
    "\n",
    "    return counts"
   ]
  },
  {
   "cell_type": "code",
   "execution_count": 9,
   "id": "41e2f06e",
   "metadata": {},
   "outputs": [
    {
     "name": "stdout",
     "output_type": "stream",
     "text": [
      "[0, 2, 1, 1]\n",
      "[0]\n",
      "[0, 0]\n"
     ]
    }
   ],
   "source": [
    "nums1 = [5, 2, 6, 1]\n",
    "result1 = countSmaller(nums1)\n",
    "\n",
    "print(result1)\n",
    "\n",
    "nums2 = [-1]\n",
    "result2 = countSmaller(nums2)\n",
    "\n",
    "print(result2)\n",
    "\n",
    "nums3 = [-1, -1]\n",
    "result3 = countSmaller(nums3)\n",
    "\n",
    "print(result3)"
   ]
  },
  {
   "cell_type": "markdown",
   "id": "d15bc301",
   "metadata": {},
   "source": [
    "3. **Sort an Array**\n",
    "\n",
    "Given an array of integers `nums`, sort the array in ascending order and return it.\n",
    "\n",
    "You must solve the problem **without using any built-in** functions in `O(nlog(n))` time complexity and with the smallest space complexity possible.\n",
    "\n",
    "        Input: nums = [5,2,3,1]\n",
    "        Output: [1,2,3,5]\n",
    "        Explanation: After sorting the array, the positions of some numbers are not changed (for example, 2 and 3), while the positions of other numbers are changed (for example, 1 and 5).\n",
    "\n",
    "</aside>"
   ]
  },
  {
   "cell_type": "code",
   "execution_count": 10,
   "id": "8cbc9096",
   "metadata": {},
   "outputs": [],
   "source": [
    "def partition(nums, low, high):\n",
    "    pivot = nums[high]\n",
    "    i = low - 1\n",
    "\n",
    "    for j in range(low, high):\n",
    "        if nums[j] <= pivot:\n",
    "            i += 1\n",
    "            nums[i], nums[j] = nums[j], nums[i]\n",
    "\n",
    "    nums[i+1], nums[high] = nums[high], nums[i+1]\n",
    "    return i+1\n",
    "\n",
    "\n",
    "def quickSort(nums, low, high):\n",
    "    if low < high:\n",
    "        pivotIndex = partition(nums, low, high)\n",
    "        quickSort(nums, low, pivotIndex-1)\n",
    "        quickSort(nums, pivotIndex+1, high)\n",
    "\n",
    "\n",
    "def sortArray(nums):\n",
    "    low = 0\n",
    "    high = len(nums) - 1\n",
    "    quickSort(nums, low, high)\n",
    "    return nums\n"
   ]
  },
  {
   "cell_type": "code",
   "execution_count": 11,
   "id": "6d9986ec",
   "metadata": {},
   "outputs": [
    {
     "name": "stdout",
     "output_type": "stream",
     "text": [
      "[1, 2, 3, 5]\n",
      "[0, 0, 1, 1, 2, 5]\n"
     ]
    }
   ],
   "source": [
    "nums1 = [5, 2, 3, 1]\n",
    "result1 = sortArray(nums1)\n",
    "\n",
    "print(result1)\n",
    "\n",
    "nums2 = [5, 1, 1, 2, 0, 0]\n",
    "result2 = sortArray(nums2)\n",
    "\n",
    "print(result2)"
   ]
  },
  {
   "cell_type": "markdown",
   "id": "3a3ec201",
   "metadata": {},
   "source": [
    "4. **Move all zeroes to end of array**\n",
    "\n",
    "Given an array of random numbers, Push all the zero’s of a given array to the end of the array. For example, if the given arrays is {1, 9, 8, 4, 0, 0, 2, 7, 0, 6, 0}, it should be changed to {1, 9, 8, 4, 2, 7, 6, 0, 0, 0, 0}. The order of all other elements should be same. Expected time complexity is O(n) and extra space is O(1).\n",
    "         \n",
    "      Input :  arr[] = {1, 2, 0, 4, 3, 0, 5, 0};\n",
    "      Output : arr[] = {1, 2, 4, 3, 5, 0, 0, 0};\n",
    "\n",
    "        Input : arr[]  = {1, 2, 0, 0, 0, 3, 6};\n",
    "        Output : arr[] = {1, 2, 3, 6, 0, 0, 0};\n",
    "    \n",
    "</aside>"
   ]
  },
  {
   "cell_type": "code",
   "execution_count": 12,
   "id": "4f236a45",
   "metadata": {},
   "outputs": [],
   "source": [
    "def moveZeroes(nums):\n",
    "    left = 0\n",
    "    right = 0\n",
    "\n",
    "    while right < len(nums):\n",
    "        if nums[right] != 0:\n",
    "            nums[left], nums[right] = nums[right], nums[left]\n",
    "            left += 1\n",
    "        right += 1\n",
    "\n",
    "    while left < len(nums):\n",
    "        nums[left] = 0\n",
    "        left += 1\n",
    "\n",
    "    return nums"
   ]
  },
  {
   "cell_type": "code",
   "execution_count": 13,
   "id": "60202c46",
   "metadata": {},
   "outputs": [
    {
     "name": "stdout",
     "output_type": "stream",
     "text": [
      "[1, 2, 4, 3, 5, 0, 0, 0]\n",
      "[1, 2, 3, 6, 0, 0, 0]\n"
     ]
    }
   ],
   "source": [
    "nums1 = [1, 2, 0, 4, 3, 0, 5, 0]\n",
    "result1 = moveZeroes(nums1)\n",
    "print(result1)\n",
    "\n",
    "nums2 = [1, 2, 0, 0, 0, 3, 6]\n",
    "result2 = moveZeroes(nums2)\n",
    "print(result2)"
   ]
  },
  {
   "cell_type": "markdown",
   "id": "9539e66b",
   "metadata": {},
   "source": [
    "5. **Rearrange array in alternating positive & negative items with O(1) extra space**\n",
    "\n",
    "Given an **array of positive** and **negative numbers**, arrange them in an **alternate** fashion such that every positive number is followed by a negative and vice-versa maintaining the **order of appearance**. The number of positive and negative numbers need not be equal. If there are more positive numbers they appear at the end of the array. If there are more negative numbers, they too appear at the end of the array.\n",
    "\n",
    "**Examples:**\n",
    "\n",
    "> Input:  arr[] = {1, 2, 3, -4, -1, 4}\n",
    "Output: arr[] = {-4, 1, -1, 2, 3, 4}\n",
    "\n",
    "Input:  arr[] = {-5, -2, 5, 2, 4, 7, 1, 8, 0, -8}\n",
    "Output: arr[] = {-5, 5, -2, 2, -8, 4, 7, 1, 8, 0}\n",
    ">\n",
    "\n",
    "</aside>"
   ]
  },
  {
   "cell_type": "code",
   "execution_count": 14,
   "id": "8edfaccd",
   "metadata": {},
   "outputs": [
    {
     "name": "stdout",
     "output_type": "stream",
     "text": [
      "[1, 1, 1, 1, 1, -4]\n",
      "[0, 8, 8, 8, 8, 8, 8, -2, -5, -8]\n"
     ]
    }
   ],
   "source": [
    "def rearrangeArray(nums):\n",
    "    left = 0\n",
    "    right = len(nums) - 1\n",
    "\n",
    "    while left < right:\n",
    "        if nums[left] > 0:\n",
    "            left += 1\n",
    "        elif nums[right] < 0:\n",
    "            right -= 1\n",
    "        else:\n",
    "            nums[left], nums[right] = nums[right], nums[left]\n",
    "            left += 1\n",
    "            right -= 1\n",
    "\n",
    "    left = 0\n",
    "    while left < len(nums) - 1:\n",
    "        if nums[left] > 0 and nums[left + 1] > 0:\n",
    "            shiftRight(nums, left + 1, right)\n",
    "        elif nums[left] < 0 and nums[left + 1] < 0:\n",
    "            shiftRight(nums, left + 1, right)\n",
    "        left += 1\n",
    "\n",
    "    return nums\n",
    "\n",
    "def shiftRight(nums, start, end):\n",
    "    for i in range(end, start - 1, -1):\n",
    "        nums[i] = nums[i - 1]\n",
    "\n",
    "nums1 = [1, 2, 3, -4, -1, 4]\n",
    "result1 = rearrangeArray(nums1)\n",
    "print(result1)\n",
    "\n",
    "nums2 = [-5, -2, 5, 2, 4, 7, 1, 8, 0, -8]\n",
    "result2 = rearrangeArray(nums2)\n",
    "print(result2)"
   ]
  },
  {
   "cell_type": "markdown",
   "id": "7347e27e",
   "metadata": {},
   "source": [
    "**6. Merge two sorted arrays**\n",
    "\n",
    "Given two sorted arrays, the task is to merge them in a sorted manner.\n",
    "\n",
    "**Examples:**\n",
    "\n",
    "> Input: arr1[] = { 1, 3, 4, 5}, arr2[] = {2, 4, 6, 8} \n",
    "Output: arr3[] = {1, 2, 3, 4, 4, 5, 6, 8}\n",
    "\n",
    "Input: arr1[] = { 5, 8, 9}, arr2[] = {4, 7, 8}\n",
    "Output: arr3[] = {4, 5, 7, 8, 8, 9}\n",
    "> \n",
    "</aside>"
   ]
  },
  {
   "cell_type": "code",
   "execution_count": 15,
   "id": "7b0f9ed6",
   "metadata": {},
   "outputs": [
    {
     "name": "stdout",
     "output_type": "stream",
     "text": [
      "[1, 2, 3, 4, 4, 5, 6, 8]\n",
      "[4, 5, 7, 8, 8, 9]\n"
     ]
    }
   ],
   "source": [
    "def mergeSortedArrays(arr1, arr2):\n",
    "    result = []\n",
    "    i = 0\n",
    "    j = 0\n",
    "    \n",
    "    while i < len(arr1) and j < len(arr2):\n",
    "        if arr1[i] <= arr2[j]:\n",
    "            result.append(arr1[i])\n",
    "            i += 1\n",
    "        else:\n",
    "            result.append(arr2[j])\n",
    "            j += 1\n",
    "    \n",
    "    while i < len(arr1):\n",
    "        result.append(arr1[i])\n",
    "        i += 1\n",
    "    \n",
    "    while j < len(arr2):\n",
    "        result.append(arr2[j])\n",
    "        j += 1\n",
    "    \n",
    "    return result\n",
    "\n",
    "arr1 = [1, 3, 4, 5]\n",
    "arr2 = [2, 4, 6, 8]\n",
    "result1 = mergeSortedArrays(arr1, arr2)\n",
    "print(result1)\n",
    "\n",
    "arr3 = [5, 8, 9]\n",
    "arr4 = [4, 7, 8]\n",
    "result2 = mergeSortedArrays(arr3, arr4)\n",
    "print(result2)"
   ]
  },
  {
   "cell_type": "markdown",
   "id": "c63ed5db",
   "metadata": {},
   "source": [
    "7. **Intersection of Two Arrays**\n",
    "\n",
    "Given two integer arrays `nums1` and `nums2`, return *an array of their intersection*. Each element in the result must be **unique** and you may return the result in **any order**.\n",
    "    \n",
    "    Input: nums1 = [1,2,2,1], nums2 = [2,2]\n",
    "    Output: [2]\n",
    " \n",
    "    \n",
    "</aside>"
   ]
  },
  {
   "cell_type": "code",
   "execution_count": 16,
   "id": "b0dd8679",
   "metadata": {},
   "outputs": [
    {
     "name": "stdout",
     "output_type": "stream",
     "text": [
      "[2]\n",
      "[9, 4]\n"
     ]
    }
   ],
   "source": [
    "def intersection(nums1, nums2):\n",
    "    set1 = set(nums1)\n",
    "    result = []\n",
    "    \n",
    "    for num in nums2:\n",
    "        if num in set1 and num not in result:\n",
    "            result.append(num)\n",
    "    \n",
    "    return result\n",
    "\n",
    "nums1 = [1, 2, 2, 1]\n",
    "nums2 = [2, 2]\n",
    "result1 = intersection(nums1, nums2)\n",
    "print(result1)\n",
    "\n",
    "nums3 = [4, 9, 5]\n",
    "nums4 = [9, 4, 9, 8, 4]\n",
    "result2 = intersection(nums3, nums4)\n",
    "print(result2)"
   ]
  },
  {
   "cell_type": "markdown",
   "id": "4c5f5cf6",
   "metadata": {},
   "source": [
    "8. **Intersection of Two Arrays II**\n",
    "\n",
    "Given two integer arrays `nums1` and `nums2`, return *an array of their intersection*. Each element in the result must appear as many times as it shows in both arrays and you may return the result in **any order**.\n",
    "         \n",
    "        Input: nums1 = [1,2,2,1], nums2 = [2,2]\n",
    "        Output: [2,2]\n",
    "\n",
    "</aside>"
   ]
  },
  {
   "cell_type": "code",
   "execution_count": 17,
   "id": "17c11fc5",
   "metadata": {},
   "outputs": [
    {
     "name": "stdout",
     "output_type": "stream",
     "text": [
      "[2, 2]\n",
      "[9, 4]\n"
     ]
    }
   ],
   "source": [
    "def intersect(nums1, nums2):\n",
    "    freq1 = {}\n",
    "    \n",
    "    for num in nums1:\n",
    "        if num in freq1:\n",
    "            freq1[num] += 1\n",
    "        else:\n",
    "            freq1[num] = 1\n",
    "    \n",
    "    result = []\n",
    "    \n",
    "    for num in nums2:\n",
    "        if num in freq1 and freq1[num] > 0:\n",
    "            result.append(num)\n",
    "            freq1[num] -= 1\n",
    "    \n",
    "    return result\n",
    "\n",
    "nums1 = [1, 2, 2, 1]\n",
    "nums2 = [2, 2]\n",
    "result1 = intersect(nums1, nums2)\n",
    "print(result1)\n",
    "\n",
    "nums3 = [4, 9, 5]\n",
    "nums4 = [9, 4, 9, 8, 4]\n",
    "result2 = intersect(nums3, nums4)\n",
    "print(result2)"
   ]
  },
  {
   "cell_type": "code",
   "execution_count": null,
   "id": "103f8cd9",
   "metadata": {},
   "outputs": [],
   "source": []
  }
 ],
 "metadata": {
  "kernelspec": {
   "display_name": "Python 3 (ipykernel)",
   "language": "python",
   "name": "python3"
  },
  "language_info": {
   "codemirror_mode": {
    "name": "ipython",
    "version": 3
   },
   "file_extension": ".py",
   "mimetype": "text/x-python",
   "name": "python",
   "nbconvert_exporter": "python",
   "pygments_lexer": "ipython3",
   "version": "3.9.13"
  }
 },
 "nbformat": 4,
 "nbformat_minor": 5
}
