{
 "cells": [
  {
   "cell_type": "markdown",
   "id": "faf5a569",
   "metadata": {},
   "source": [
    "# DSA_Assignment_07"
   ]
  },
  {
   "cell_type": "markdown",
   "id": "34fe2e3c",
   "metadata": {},
   "source": [
    "**Question 1**\n",
    "\n",
    "Given two strings s and t, *determine if they are isomorphic*.\n",
    "\n",
    "Two strings s and t are isomorphic if the characters in s can be replaced to get t.\n",
    "\n",
    "All occurrences of a character must be replaced with another character while preserving the order of characters. No two characters may map to the same character, but a character may map to itself.\n",
    "\n",
    "**Example 1:**\n",
    "\n",
    "**Input:** s = \"egg\", t = \"add\"\n",
    "\n",
    "**Output:** true"
   ]
  },
  {
   "cell_type": "code",
   "execution_count": 1,
   "id": "2a527a08",
   "metadata": {},
   "outputs": [],
   "source": [
    "from collections import Counter\n",
    "\n",
    "def isomorphic(str1,str2):\n",
    "    \n",
    "    if len(str1) != len(str2):\n",
    "        return False\n",
    "    \n",
    "    str1count = Counter(str1)\n",
    "    str2count = Counter(str2)\n",
    "    \n",
    "    for i in range(len(str1)):\n",
    "        if str1count[str1[i]] != str2count[str2[i]]:\n",
    "            return False\n",
    "        \n",
    "    return True"
   ]
  },
  {
   "cell_type": "code",
   "execution_count": 2,
   "id": "fc7b8376",
   "metadata": {},
   "outputs": [
    {
     "data": {
      "text/plain": [
       "True"
      ]
     },
     "execution_count": 2,
     "metadata": {},
     "output_type": "execute_result"
    }
   ],
   "source": [
    "isomorphic(\"egg\", \"add\")"
   ]
  },
  {
   "cell_type": "code",
   "execution_count": 4,
   "id": "d228dfad",
   "metadata": {},
   "outputs": [
    {
     "data": {
      "text/plain": [
       "True"
      ]
     },
     "execution_count": 4,
     "metadata": {},
     "output_type": "execute_result"
    }
   ],
   "source": [
    "isomorphic(\"rss\",\"egg\")"
   ]
  },
  {
   "cell_type": "code",
   "execution_count": 5,
   "id": "f5081c70",
   "metadata": {},
   "outputs": [
    {
     "data": {
      "text/plain": [
       "True"
      ]
     },
     "execution_count": 5,
     "metadata": {},
     "output_type": "execute_result"
    }
   ],
   "source": [
    "isomorphic(\"loss\",\"boss\")"
   ]
  },
  {
   "cell_type": "markdown",
   "id": "8c089cfa",
   "metadata": {},
   "source": [
    "**Question 2**\n",
    "\n",
    "Given a string num which represents an integer, return true *if* num *is a **strobogrammatic number***.\n",
    "\n",
    "A **strobogrammatic number** is a number that looks the same when rotated 180 degrees (looked at upside down).\n",
    "\n",
    "**Example 1:**\n",
    "\n",
    "**Input:** num = \"69\"\n",
    "\n",
    "**Output:**\n",
    "\n",
    "true\n"
   ]
  },
  {
   "cell_type": "code",
   "execution_count": 6,
   "id": "69ffc682",
   "metadata": {},
   "outputs": [],
   "source": [
    "def strobogrammatic(num):\n",
    "    strobodict = {\"0\":\"0\",\"1\":\"1\",\"6\":\"9\",\"8\":\"8\",\"9\":\"6\"}\n",
    "\n",
    "    if any(x for x in num  if x not in strobodict.keys()):\n",
    "        return False\n",
    "    \n",
    "    else:\n",
    "        tmp = [strobodict[i] for i in num]\n",
    "        s = ''.join(tmp[::-1])\n",
    "        \n",
    "        if num == s:\n",
    "            return True\n",
    "        else:\n",
    "            return False"
   ]
  },
  {
   "cell_type": "code",
   "execution_count": 8,
   "id": "9a642025",
   "metadata": {},
   "outputs": [
    {
     "data": {
      "text/plain": [
       "True"
      ]
     },
     "execution_count": 8,
     "metadata": {},
     "output_type": "execute_result"
    }
   ],
   "source": [
    "strobogrammatic(\"69\")"
   ]
  },
  {
   "cell_type": "code",
   "execution_count": 9,
   "id": "cbce00be",
   "metadata": {},
   "outputs": [
    {
     "data": {
      "text/plain": [
       "True"
      ]
     },
     "execution_count": 9,
     "metadata": {},
     "output_type": "execute_result"
    }
   ],
   "source": [
    "strobogrammatic(\"11\")"
   ]
  },
  {
   "cell_type": "code",
   "execution_count": 10,
   "id": "6dab7763",
   "metadata": {},
   "outputs": [
    {
     "data": {
      "text/plain": [
       "True"
      ]
     },
     "execution_count": 10,
     "metadata": {},
     "output_type": "execute_result"
    }
   ],
   "source": [
    "strobogrammatic(\"88\")"
   ]
  },
  {
   "cell_type": "markdown",
   "id": "8165db83",
   "metadata": {},
   "source": [
    "**Question 3**\n",
    "\n",
    "Given two non-negative integers, num1 and num2 represented as string, return *the sum of* num1 *and* num2 *as a string*.\n",
    "\n",
    "You must solve the problem without using any built-in library for handling large integers (such as BigInteger). You must also not convert the inputs to integers directly.\n",
    "\n",
    "**Example 1:**\n",
    "\n",
    "**Input:** num1 = \"11\", num2 = \"123\"\n",
    "\n",
    "**Output:**\n",
    "\n",
    "\"134\""
   ]
  },
  {
   "cell_type": "code",
   "execution_count": 14,
   "id": "7b6b8f4b",
   "metadata": {},
   "outputs": [
    {
     "data": {
      "text/plain": [
       "134"
      ]
     },
     "execution_count": 14,
     "metadata": {},
     "output_type": "execute_result"
    }
   ],
   "source": [
    "def convert(num1,num2):\n",
    "    n=len(num1)\n",
    "    m=len(num2)\n",
    "    k=0\n",
    "    p=0\n",
    "    for i in range(n):\n",
    "        k=k*10+(ord(num1[i])-48)\n",
    "    for j in range(m):\n",
    "        p=p*10+(ord(num2[j])-48)\n",
    "        \n",
    "    summ=p+k\n",
    "    return summ\n",
    "\n",
    "#output\n",
    "convert(\"123\",\"11\")"
   ]
  },
  {
   "cell_type": "markdown",
   "id": "e856992a",
   "metadata": {},
   "source": [
    "**Question 4**\n",
    "\n",
    "Given a string s, reverse the order of characters in each word within a sentence while still preserving whitespace and initial word order.\n",
    "\n",
    "**Example 1:**\n",
    "\n",
    "**Input:** s = \"Let's take LeetCode contest\"\n",
    "\n",
    "**Output:** \"s'teL ekat edoCteeL tsetnoc\""
   ]
  },
  {
   "cell_type": "code",
   "execution_count": 15,
   "id": "16a0c90d",
   "metadata": {},
   "outputs": [
    {
     "data": {
      "text/plain": [
       "\"s'teL od ti\""
      ]
     },
     "execution_count": 15,
     "metadata": {},
     "output_type": "execute_result"
    }
   ],
   "source": [
    "def enter_string(strg):\n",
    "    l=[]\n",
    "    \n",
    "    sp=strg.split(\" \")\n",
    "    for i in sp:\n",
    "        a=i[::-1]\n",
    "        l.append(a)\n",
    "    t=\" \".join(l)\n",
    "    return t\n",
    "    \n",
    "#output   \n",
    "enter_string(\"Let's do it\")"
   ]
  },
  {
   "cell_type": "code",
   "execution_count": 16,
   "id": "91ea31c8",
   "metadata": {},
   "outputs": [
    {
     "data": {
      "text/plain": [
       "\"s'teL ekat edoCteeL tsetnoc\""
      ]
     },
     "execution_count": 16,
     "metadata": {},
     "output_type": "execute_result"
    }
   ],
   "source": [
    "enter_string(\"Let's take LeetCode contest\")"
   ]
  },
  {
   "cell_type": "markdown",
   "id": "13adc54f",
   "metadata": {},
   "source": [
    "**Question 5**\n",
    "\n",
    "Given a string s and an integer k, reverse the first k characters for every 2k characters counting from the start of the string.\n",
    "\n",
    "If there are fewer than k characters left, reverse all of them. If there are less than 2k but greater than or equal to k characters, then reverse the first k characters and leave the other as original.\n",
    "\n",
    "**Example 1:**\n",
    "\n",
    "**Input:** s = \"abcdefg\", k = 2\n",
    "\n",
    "**Output:**\n",
    "\n",
    "\"bacdfeg\""
   ]
  },
  {
   "cell_type": "code",
   "execution_count": 1,
   "id": "abdd507b",
   "metadata": {},
   "outputs": [],
   "source": [
    "def reversek(s,k):\n",
    "    i = 0\n",
    "    \n",
    "    while i < len(s): \n",
    "        if (i+k) > len(s):\n",
    "            break\n",
    "        \n",
    "        ss = s[i:i+k]\n",
    "        s = s[:i]+ss[::-1]+s[i + k:]\n",
    "        i += 2 * k\n",
    "        \n",
    "    return s"
   ]
  },
  {
   "cell_type": "code",
   "execution_count": 2,
   "id": "d2119307",
   "metadata": {},
   "outputs": [
    {
     "data": {
      "text/plain": [
       "'bacdfeg'"
      ]
     },
     "execution_count": 2,
     "metadata": {},
     "output_type": "execute_result"
    }
   ],
   "source": [
    "reversek(\"abcdefg\", 2)"
   ]
  },
  {
   "cell_type": "code",
   "execution_count": 3,
   "id": "ba695016",
   "metadata": {},
   "outputs": [
    {
     "data": {
      "text/plain": [
       "'sahgdftl'"
      ]
     },
     "execution_count": 3,
     "metadata": {},
     "output_type": "execute_result"
    }
   ],
   "source": [
    "reversek(\"ashgfdtl\",2)"
   ]
  },
  {
   "cell_type": "markdown",
   "id": "d4301d4f",
   "metadata": {},
   "source": [
    "**Question 6**\n",
    "\n",
    "Given two strings s and goal, return true *if and only if* s *can become* goal *after some number of **shifts** on* s.\n",
    "\n",
    "A **shift** on s consists of moving the leftmost character of s to the rightmost position.\n",
    "\n",
    "- For example, if s = \"abcde\", then it will be \"bcdea\" after one shift.\n",
    "\n",
    "**Example 1:**\n",
    "\n",
    "**Input:** s = \"abcde\", goal = \"cdeab\"\n",
    "\n",
    "**Output:**\n",
    "\n",
    "true"
   ]
  },
  {
   "cell_type": "code",
   "execution_count": 4,
   "id": "319fd369",
   "metadata": {},
   "outputs": [],
   "source": [
    "def rotation(s,goal):\n",
    "    for i in range(1,len(s)+1):\n",
    "        lfirst = s[0:i]\n",
    "        lsecond = s[i:]\n",
    "\n",
    "        if (lsecond+lfirst) == goal:\n",
    "            return True\n",
    "        \n",
    "    return False"
   ]
  },
  {
   "cell_type": "code",
   "execution_count": 5,
   "id": "859f811e",
   "metadata": {},
   "outputs": [
    {
     "data": {
      "text/plain": [
       "True"
      ]
     },
     "execution_count": 5,
     "metadata": {},
     "output_type": "execute_result"
    }
   ],
   "source": [
    "rotation(\"abcde\", 'cdeab')"
   ]
  },
  {
   "cell_type": "markdown",
   "id": "f259a6f7",
   "metadata": {},
   "source": [
    "**Question 7**\n",
    "\n",
    "Given two strings s and t, return true *if they are equal when both are typed into empty text editors*. '#' means a backspace character.\n",
    "\n",
    "Note that after backspacing an empty text, the text will continue empty.\n",
    "\n",
    "**Example 1:**\n",
    "\n",
    "**Input:** s = \"ab#c\", t = \"ad#c\"\n",
    "\n",
    "**Output:** true\n",
    "\n",
    "**Explanation:**\n",
    "\n",
    "Both s and t become \"ac\""
   ]
  },
  {
   "cell_type": "code",
   "execution_count": 6,
   "id": "175d1247",
   "metadata": {},
   "outputs": [
    {
     "data": {
      "text/plain": [
       "True"
      ]
     },
     "execution_count": 6,
     "metadata": {},
     "output_type": "execute_result"
    }
   ],
   "source": [
    "def backspace_compare(s, t):\n",
    "    def process_string(string):\n",
    "        stack = []\n",
    "        for char in string:\n",
    "            if char != '#':\n",
    "                stack.append(char)\n",
    "            elif stack:\n",
    "                stack.pop()\n",
    "        return ''.join(stack)\n",
    "    \n",
    "    return process_string(s) == process_string(t)\n",
    "\n",
    "backspace_compare(\"ab#c\", \"ad#c\")"
   ]
  },
  {
   "cell_type": "markdown",
   "id": "7a81ab2e",
   "metadata": {},
   "source": [
    "**Question 8**\n",
    "\n",
    "You are given an array coordinates, coordinates[i] = [x, y], where [x, y] represents the coordinate of a point. Check if these points make a straight line in the XY plane.\n",
    "\n",
    "**Example 1:**\n",
    "**Input:** coordinates = [[1,2],[2,3],[3,4],[4,5],[5,6],[6,7]]\n",
    "\n",
    "**Output:** true"
   ]
  },
  {
   "cell_type": "code",
   "execution_count": 7,
   "id": "a492cade",
   "metadata": {},
   "outputs": [],
   "source": [
    "def straightline(coordinates):\n",
    "    (x1, y1), (x2, y2) = coordinates[0], coordinates[1]\n",
    "\n",
    "    for x3, y3 in coordinates[2:]:\n",
    "        if (y2 - y1) * (x3 - x1) != (y3 - y1) * (x2 - x1):\n",
    "            return False\n",
    "        \n",
    "    return True"
   ]
  },
  {
   "cell_type": "code",
   "execution_count": 8,
   "id": "6c692a16",
   "metadata": {},
   "outputs": [
    {
     "data": {
      "text/plain": [
       "True"
      ]
     },
     "execution_count": 8,
     "metadata": {},
     "output_type": "execute_result"
    }
   ],
   "source": [
    "straightline([[1,2], [2,3], [3,4], [4,5], [5,6], [6,7]])"
   ]
  },
  {
   "cell_type": "code",
   "execution_count": null,
   "id": "a5c26325",
   "metadata": {},
   "outputs": [],
   "source": []
  }
 ],
 "metadata": {
  "kernelspec": {
   "display_name": "Python 3 (ipykernel)",
   "language": "python",
   "name": "python3"
  },
  "language_info": {
   "codemirror_mode": {
    "name": "ipython",
    "version": 3
   },
   "file_extension": ".py",
   "mimetype": "text/x-python",
   "name": "python",
   "nbconvert_exporter": "python",
   "pygments_lexer": "ipython3",
   "version": "3.9.13"
  }
 },
 "nbformat": 4,
 "nbformat_minor": 5
}
