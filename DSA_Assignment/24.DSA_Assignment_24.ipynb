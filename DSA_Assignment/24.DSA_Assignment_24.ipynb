{
 "cells": [
  {
   "cell_type": "markdown",
   "id": "e5e33dbb",
   "metadata": {},
   "source": [
    "# DSA_Assignment_24"
   ]
  },
  {
   "cell_type": "markdown",
   "id": "74161322",
   "metadata": {},
   "source": [
    "Q1. Roman to Integer"
   ]
  },
  {
   "cell_type": "code",
   "execution_count": 1,
   "id": "60f80c2c",
   "metadata": {},
   "outputs": [
    {
     "data": {
      "text/plain": [
       "22"
      ]
     },
     "execution_count": 1,
     "metadata": {},
     "output_type": "execute_result"
    }
   ],
   "source": [
    "def romantointeger(roman):\n",
    "    l1=['I','V','X','L','C','D','M']\n",
    "    dict={'I':1,'V': 5,'X': 10,'L': 50,'C': 100,'D': 500,'M': 1000}\n",
    "    l2=list(roman)\n",
    "    n=len(l1)\n",
    "    a=0\n",
    "    if n>=1 and n<=15:\n",
    "        for i in range(len(l2)):\n",
    "            if l2[i] in l1:\n",
    "                s=dict[l2[i]]\n",
    "                a=a+s\n",
    "    else:\n",
    "        print('not proper format')\n",
    "        \n",
    "    return a\n",
    "\n",
    "romantointeger('XXII')"
   ]
  },
  {
   "cell_type": "code",
   "execution_count": 2,
   "id": "eddb06c1",
   "metadata": {},
   "outputs": [
    {
     "data": {
      "text/plain": [
       "58"
      ]
     },
     "execution_count": 2,
     "metadata": {},
     "output_type": "execute_result"
    }
   ],
   "source": [
    "romantointeger('LVIII')"
   ]
  },
  {
   "cell_type": "code",
   "execution_count": 3,
   "id": "9d90b713",
   "metadata": {},
   "outputs": [
    {
     "data": {
      "text/plain": [
       "27"
      ]
     },
     "execution_count": 3,
     "metadata": {},
     "output_type": "execute_result"
    }
   ],
   "source": [
    "romantointeger('XXVII')"
   ]
  },
  {
   "cell_type": "markdown",
   "id": "0a98c769",
   "metadata": {},
   "source": [
    "2. **Longest Substring Without Repeating Characters**\n",
    "\n",
    "Given a string `s`, find the length of the **longest substring** without repeating characters.\n"
   ]
  },
  {
   "cell_type": "code",
   "execution_count": 6,
   "id": "2563fae5",
   "metadata": {},
   "outputs": [
    {
     "name": "stdout",
     "output_type": "stream",
     "text": [
      "String: abcabcbb\n",
      "Length of Longest Substring: 3\n"
     ]
    }
   ],
   "source": [
    "def longest_substring(s):\n",
    "    char_dict = {}\n",
    "    max_length = 0\n",
    "    start = 0\n",
    "\n",
    "    for end in range(len(s)):\n",
    "        if s[end] in char_dict:\n",
    "            start = max(start, char_dict[s[end]] + 1)\n",
    "        char_dict[s[end]] = end\n",
    "        max_length = max(max_length, end - start + 1)\n",
    "    return max_length\n",
    "\n",
    "s = \"abcabcbb\"\n",
    "length = longest_substring(s)\n",
    "print(\"String:\", s)\n",
    "print(\"Length of Longest Substring:\", length)"
   ]
  },
  {
   "cell_type": "code",
   "execution_count": 7,
   "id": "598246a4",
   "metadata": {},
   "outputs": [
    {
     "data": {
      "text/plain": [
       "4"
      ]
     },
     "execution_count": 7,
     "metadata": {},
     "output_type": "execute_result"
    }
   ],
   "source": [
    "longest_substring('ssghtss')"
   ]
  },
  {
   "cell_type": "code",
   "execution_count": 8,
   "id": "9d362240",
   "metadata": {},
   "outputs": [
    {
     "data": {
      "text/plain": [
       "1"
      ]
     },
     "execution_count": 8,
     "metadata": {},
     "output_type": "execute_result"
    }
   ],
   "source": [
    "longest_substring('bbbbb')"
   ]
  },
  {
   "cell_type": "code",
   "execution_count": 9,
   "id": "a143550a",
   "metadata": {},
   "outputs": [
    {
     "data": {
      "text/plain": [
       "3"
      ]
     },
     "execution_count": 9,
     "metadata": {},
     "output_type": "execute_result"
    }
   ],
   "source": [
    "longest_substring('pwwkew')"
   ]
  },
  {
   "cell_type": "markdown",
   "id": "f2d5eaad",
   "metadata": {},
   "source": [
    "3. **Majority Element**\n",
    "\n",
    "Given an array `nums` of size `n`, return *the majority element*.\n",
    "\n",
    "The majority element is the element that appears more than `⌊n / 2⌋` times. You may assume that the majority element always exists in the array."
   ]
  },
  {
   "cell_type": "code",
   "execution_count": 11,
   "id": "0c03bb9e",
   "metadata": {},
   "outputs": [
    {
     "data": {
      "text/plain": [
       "3"
      ]
     },
     "execution_count": 11,
     "metadata": {},
     "output_type": "execute_result"
    }
   ],
   "source": [
    "def occurances(lst):\n",
    "    n=len(lst)\n",
    "    dict={}\n",
    "    \n",
    "    for i in lst:\n",
    "        if i in dict:\n",
    "            dict[i]+=1\n",
    "        else:\n",
    "            dict[i]=1\n",
    "    mn=max(dict.values())\n",
    "    key = [k for k, v in dict.items() if v==mn][0]\n",
    "    return key\n",
    "\n",
    "occurances([1,2,2,3,3,3,4,8,8])"
   ]
  },
  {
   "cell_type": "code",
   "execution_count": 17,
   "id": "1ce1a46d",
   "metadata": {},
   "outputs": [
    {
     "data": {
      "text/plain": [
       "2"
      ]
     },
     "execution_count": 17,
     "metadata": {},
     "output_type": "execute_result"
    }
   ],
   "source": [
    "occurances([2, 2, 1, 1, 1, 2, 2])"
   ]
  },
  {
   "cell_type": "code",
   "execution_count": 14,
   "id": "e6b7dae1",
   "metadata": {},
   "outputs": [
    {
     "data": {
      "text/plain": [
       "3"
      ]
     },
     "execution_count": 14,
     "metadata": {},
     "output_type": "execute_result"
    }
   ],
   "source": [
    "occurances([3,2,3])"
   ]
  },
  {
   "cell_type": "markdown",
   "id": "0aff6c89",
   "metadata": {},
   "source": [
    "4. **Group Anagram**\n",
    "\n",
    "Given an array of strings `strs`, group **the anagrams** together. You can return the answer in **any order**.\n",
    "\n",
    "An **Anagram** is a word or phrase formed by rearranging the letters of a different word or phrase, typically using all the original letters exactly once."
   ]
  },
  {
   "cell_type": "code",
   "execution_count": 18,
   "id": "87bb71f8",
   "metadata": {},
   "outputs": [
    {
     "data": {
      "text/plain": [
       "[['abc'], ['ght', 'htg', 'gth'], ['def']]"
      ]
     },
     "execution_count": 18,
     "metadata": {},
     "output_type": "execute_result"
    }
   ],
   "source": [
    "def anagram(lst):\n",
    "    \n",
    "    group1={}\n",
    "\n",
    "    for j in lst:\n",
    "        sorted_strng=''.join(sorted(j))\n",
    "        \n",
    "        if sorted_strng in group1:\n",
    "            group1[sorted_strng].append(j)\n",
    "        else:\n",
    "            group1[sorted_strng]=[j]\n",
    "            \n",
    "    return list(group1.values())\n",
    "    \n",
    "    \n",
    "anagram(['abc','ght','htg', 'gth','def'])"
   ]
  },
  {
   "cell_type": "code",
   "execution_count": 19,
   "id": "646f0ea0",
   "metadata": {},
   "outputs": [
    {
     "data": {
      "text/plain": [
       "[['eat', 'tea', 'ate'], ['tan', 'nat'], ['bat']]"
      ]
     },
     "execution_count": 19,
     "metadata": {},
     "output_type": "execute_result"
    }
   ],
   "source": [
    "anagram([\"eat\",\"tea\",\"tan\",\"ate\",\"nat\",\"bat\"])"
   ]
  },
  {
   "cell_type": "code",
   "execution_count": 20,
   "id": "f49b3e55",
   "metadata": {},
   "outputs": [
    {
     "data": {
      "text/plain": [
       "[['']]"
      ]
     },
     "execution_count": 20,
     "metadata": {},
     "output_type": "execute_result"
    }
   ],
   "source": [
    "anagram([\"\"])"
   ]
  },
  {
   "cell_type": "code",
   "execution_count": 21,
   "id": "fe3cd9fe",
   "metadata": {},
   "outputs": [
    {
     "data": {
      "text/plain": [
       "[['a']]"
      ]
     },
     "execution_count": 21,
     "metadata": {},
     "output_type": "execute_result"
    }
   ],
   "source": [
    "anagram([\"a\"])"
   ]
  },
  {
   "cell_type": "markdown",
   "id": "d2f0b74c",
   "metadata": {},
   "source": [
    "5. **Ugly Numbers**\n",
    "\n",
    "An **ugly number** is a positive integer whose prime factors are limited to `2`, `3`, and `5`.\n",
    "\n",
    "Given an integer `n`, return *the* `nth` ***ugly number***.\n"
   ]
  },
  {
   "cell_type": "code",
   "execution_count": 22,
   "id": "744e9933",
   "metadata": {},
   "outputs": [
    {
     "name": "stdout",
     "output_type": "stream",
     "text": [
      "n: 10\n",
      "Nth Ugly Number: 12\n"
     ]
    }
   ],
   "source": [
    "def nth_ugly_number(n):\n",
    "    ugly_numbers = [1]\n",
    "    p2 = p3 = p5 = 0\n",
    "\n",
    "    for _ in range(1, n):\n",
    "        next_ugly = min(ugly_numbers[p2] * 2, ugly_numbers[p3] * 3, ugly_numbers[p5] * 5)\n",
    "        ugly_numbers.append(next_ugly)\n",
    "\n",
    "        if next_ugly == ugly_numbers[p2] * 2:\n",
    "            p2 += 1\n",
    "        if next_ugly == ugly_numbers[p3] * 3:\n",
    "            p3 += 1\n",
    "        if next_ugly == ugly_numbers[p5] * 5:\n",
    "            p5 += 1\n",
    "\n",
    "    return ugly_numbers[n - 1]\n",
    "\n",
    "\n",
    "n = 10\n",
    "ugly_number = nth_ugly_number(n)\n",
    "print(\"n:\", n)\n",
    "print(\"Nth Ugly Number:\", ugly_number)"
   ]
  },
  {
   "cell_type": "code",
   "execution_count": 23,
   "id": "c57afe37",
   "metadata": {},
   "outputs": [
    {
     "name": "stdout",
     "output_type": "stream",
     "text": [
      "n: 1\n",
      "Nth Ugly Number: 1\n"
     ]
    }
   ],
   "source": [
    "n = 1\n",
    "ugly_number = nth_ugly_number(n)\n",
    "print(\"n:\", n)\n",
    "print(\"Nth Ugly Number:\", ugly_number)"
   ]
  },
  {
   "cell_type": "markdown",
   "id": "ac7b713a",
   "metadata": {},
   "source": [
    "6. **Top K Frequent Words**\n",
    "\n",
    "Given an array of strings `words` and an integer `k`, return *the* `k` *most frequent strings*.\n",
    "\n",
    "Return the answer **sorted** by **the frequency** from highest to lowest. Sort the words with the same frequency by their **lexicographical order**."
   ]
  },
  {
   "cell_type": "code",
   "execution_count": 25,
   "id": "ff5767a2",
   "metadata": {},
   "outputs": [
    {
     "name": "stdout",
     "output_type": "stream",
     "text": [
      "{'i': 2, 'love': 2, 'leetcode': 1, 'coding': 1}\n"
     ]
    },
    {
     "data": {
      "text/plain": [
       "['i', 'love']"
      ]
     },
     "execution_count": 25,
     "metadata": {},
     "output_type": "execute_result"
    }
   ],
   "source": [
    "def topfrequentwords(string,k):\n",
    "    lst1=[x.lower() for x in string]\n",
    "    words={}\n",
    "    for i in lst1:\n",
    "        if i in words:\n",
    "            words[i]+=1\n",
    "        else:\n",
    "            words[i]=1\n",
    "            \n",
    "    sorted_dict=dict(sorted(words.items(), reverse=True,key=lambda x:x[1]))\n",
    "    print(sorted_dict)\n",
    "    key=[k for k, v in sorted_dict.items()][:k]\n",
    "    \n",
    "    return key\n",
    "\n",
    "\n",
    "topfrequentwords([\"i\",\"love\",\"leetcode\",\"i\",\"love\",\"coding\"],2)        "
   ]
  },
  {
   "cell_type": "code",
   "execution_count": 26,
   "id": "3112daa4",
   "metadata": {},
   "outputs": [
    {
     "name": "stdout",
     "output_type": "stream",
     "text": [
      "{'the': 4, 'is': 3, 'sunny': 2, 'day': 1}\n"
     ]
    },
    {
     "data": {
      "text/plain": [
       "['the', 'is', 'sunny', 'day']"
      ]
     },
     "execution_count": 26,
     "metadata": {},
     "output_type": "execute_result"
    }
   ],
   "source": [
    "topfrequentwords([\"the\",\"day\",\"is\",\"sunny\",\"the\",\"the\",\"the\",\"sunny\",\"is\",\"is\"],4)        "
   ]
  },
  {
   "cell_type": "markdown",
   "id": "2f29e376",
   "metadata": {},
   "source": [
    "7. **Sliding Window Maximum**\n",
    "\n",
    "You are given an array of integers `nums`, there is a sliding window of size `k` which is moving from the very left of the array to the very right. You can only see the `k` numbers in the window. Each time the sliding window moves right by one position.\n",
    "\n",
    "Return *the max sliding window*."
   ]
  },
  {
   "cell_type": "code",
   "execution_count": 31,
   "id": "970d5a2d",
   "metadata": {},
   "outputs": [
    {
     "name": "stdout",
     "output_type": "stream",
     "text": [
      "Input: nums = [1, 3, -1, -3, 5, 3, 6, 7] k = 3\n",
      "Max Sliding Window: [3, 3, 5, 5, 6, 7]\n"
     ]
    }
   ],
   "source": [
    "from collections import deque\n",
    "\n",
    "def max_sliding_window(nums, k):\n",
    "    result = []\n",
    "    window = deque()\n",
    "\n",
    "    for i, num in enumerate(nums):\n",
    "        if window and window[0] <= i - k:\n",
    "            window.popleft()\n",
    "\n",
    "        while window and nums[window[-1]] < num:\n",
    "            window.pop()\n",
    "        window.append(i)\n",
    "\n",
    "        if i >= k - 1:\n",
    "            result.append(nums[window[0]])\n",
    "\n",
    "    return result\n",
    "\n",
    "\n",
    "nums = [1, 3, -1, -3, 5, 3, 6, 7]\n",
    "k = 3\n",
    "max_window = max_sliding_window(nums, k)\n",
    "print(\"Input: nums =\", nums, \"k =\", k)\n",
    "print(\"Max Sliding Window:\", max_window)"
   ]
  },
  {
   "cell_type": "markdown",
   "id": "67d84683",
   "metadata": {},
   "source": [
    "8. **Find K Closest Elements**\n",
    "\n",
    "Given a **sorted** integer array `arr`, two integers `k` and `x`, return the `k` closest integers to `x` in the array. The result should also be sorted in ascending order.\n"
   ]
  },
  {
   "cell_type": "code",
   "execution_count": 32,
   "id": "c1eb8050",
   "metadata": {},
   "outputs": [
    {
     "name": "stdout",
     "output_type": "stream",
     "text": [
      "Input: arr = [1, 2, 3, 4, 5] k = 4 x = 3\n",
      "Closest Elements: [1, 2, 3, 4]\n"
     ]
    }
   ],
   "source": [
    "def find_closest_elements(arr, k, x):\n",
    "    left = 0\n",
    "    right = len(arr) - k\n",
    "\n",
    "    while left < right:\n",
    "        mid = (left + right) // 2\n",
    "        if x - arr[mid] > arr[mid + k] - x:\n",
    "            left = mid + 1\n",
    "        else:\n",
    "            right = mid\n",
    "\n",
    "    return arr[left:left + k]\n",
    "\n",
    "arr = [1, 2, 3, 4, 5]\n",
    "k = 4\n",
    "x = 3\n",
    "closest_elements = find_closest_elements(arr, k, x)\n",
    "print(\"Input: arr =\", arr, \"k =\", k, \"x =\", x)\n",
    "print(\"Closest Elements:\", closest_elements)"
   ]
  },
  {
   "cell_type": "code",
   "execution_count": 33,
   "id": "3ee1fe9c",
   "metadata": {},
   "outputs": [
    {
     "name": "stdout",
     "output_type": "stream",
     "text": [
      "Input: arr = [1, 2, 3, 4, 5] k = 4 x = -1\n",
      "Closest Elements: [1, 2, 3, 4]\n"
     ]
    }
   ],
   "source": [
    "arr = [1, 2, 3, 4, 5]\n",
    "k = 4\n",
    "x = -1\n",
    "closest_elements = find_closest_elements(arr, k, x)\n",
    "print(\"Input: arr =\", arr, \"k =\", k, \"x =\", x)\n",
    "print(\"Closest Elements:\", closest_elements)"
   ]
  },
  {
   "cell_type": "code",
   "execution_count": 35,
   "id": "ee15a35d",
   "metadata": {},
   "outputs": [
    {
     "name": "stdout",
     "output_type": "stream",
     "text": [
      "Input: arr = [1, 2, 3, 4, 5] k = 3 x = 3\n",
      "Closest Elements: [2, 3, 4]\n"
     ]
    }
   ],
   "source": [
    "arr = [1, 2, 3, 4, 5]\n",
    "k = 3\n",
    "x = 3\n",
    "closest_elements = find_closest_elements(arr, k, x)\n",
    "print(\"Input: arr =\", arr, \"k =\", k, \"x =\", x)\n",
    "print(\"Closest Elements:\", closest_elements)"
   ]
  },
  {
   "cell_type": "code",
   "execution_count": null,
   "id": "3275e141",
   "metadata": {},
   "outputs": [],
   "source": []
  }
 ],
 "metadata": {
  "kernelspec": {
   "display_name": "Python 3 (ipykernel)",
   "language": "python",
   "name": "python3"
  },
  "language_info": {
   "codemirror_mode": {
    "name": "ipython",
    "version": 3
   },
   "file_extension": ".py",
   "mimetype": "text/x-python",
   "name": "python",
   "nbconvert_exporter": "python",
   "pygments_lexer": "ipython3",
   "version": "3.9.13"
  }
 },
 "nbformat": 4,
 "nbformat_minor": 5
}
