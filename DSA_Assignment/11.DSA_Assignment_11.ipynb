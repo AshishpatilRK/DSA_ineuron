{
 "cells": [
  {
   "cell_type": "markdown",
   "id": "d02e4165",
   "metadata": {},
   "source": [
    "# DSA_Assignment_11"
   ]
  },
  {
   "cell_type": "markdown",
   "id": "63e8ec70",
   "metadata": {},
   "source": [
    "**Question 1**\n",
    "\n",
    "Given a non-negative integer `x`, return *the square root of* `x` *rounded down to the nearest integer*. The returned integer should be **non-negative** as well.\n",
    "\n",
    "You **must not use** any built-in exponent function or operator.\n",
    "\n",
    "- For example, do not use `pow(x, 0.5)` in c++ or `x ** 0.5` in python.\n",
    "Example 1:\n",
    "Input: x = 4\n",
    "Output: 2\n",
    "Explanation: The square root of 4 is 2, so we return 2.\n",
    "\n",
    "Example 2:\n",
    "Input: x = 8\n",
    "Output: 2\n",
    "Explanation: The square root of 8 is 2.82842..., and since we round it down to the nearest integer, 2 is returned."
   ]
  },
  {
   "cell_type": "code",
   "execution_count": 2,
   "id": "542c03b7",
   "metadata": {},
   "outputs": [],
   "source": [
    "def mySqrt(x):\n",
    "    if x < 2:\n",
    "        return x\n",
    "    left, right = 2, x // 2\n",
    "    while left <= right:\n",
    "        mid = (left + right) // 2\n",
    "        num = mid * mid\n",
    "        if num == x:\n",
    "            return mid\n",
    "        elif num < x:\n",
    "            left = mid + 1\n",
    "        else:\n",
    "            right = mid - 1\n",
    "    return right"
   ]
  },
  {
   "cell_type": "code",
   "execution_count": 3,
   "id": "951b16fb",
   "metadata": {},
   "outputs": [
    {
     "data": {
      "text/plain": [
       "2"
      ]
     },
     "execution_count": 3,
     "metadata": {},
     "output_type": "execute_result"
    }
   ],
   "source": [
    "mySqrt(x=4)"
   ]
  },
  {
   "cell_type": "markdown",
   "id": "47ec6848",
   "metadata": {},
   "source": [
    "mySqrt(x=8)"
   ]
  },
  {
   "cell_type": "markdown",
   "id": "83fa975b",
   "metadata": {},
   "source": [
    "**Question 2**\n",
    "\n",
    "A peak element is an element that is strictly greater than its neighbors.\n",
    "\n",
    "Given a **0-indexed** integer array `nums`, find a peak element, and return its index. If the array contains multiple peaks, return the index to **any of the peaks**.\n",
    "\n",
    "You may imagine that `nums[-1] = nums[n] = -∞`. In other words, an element is always considered to be strictly greater than a neighbor that is outside the array.\n",
    "\n",
    "You must write an algorithm that runs in `O(log n)` time.\n",
    "\n",
    "Example 1:\n",
    "    \n",
    "Input: nums = [1,2,3,1]\n",
    "Output: 2\n",
    "Explanation: 3 is a peak element and your function should return the index number 2."
   ]
  },
  {
   "cell_type": "code",
   "execution_count": 11,
   "id": "51646abe",
   "metadata": {},
   "outputs": [],
   "source": [
    "def peak(nums):\n",
    "    left, right = 0, len(nums) - 1\n",
    "    while left < right:\n",
    "        mid = (left + right) // 2\n",
    "        if nums[mid] > nums[mid + 1]:\n",
    "            right = mid\n",
    "        else:\n",
    "            left = mid + 1\n",
    "    return left"
   ]
  },
  {
   "cell_type": "code",
   "execution_count": 12,
   "id": "a18b6fe9",
   "metadata": {},
   "outputs": [
    {
     "data": {
      "text/plain": [
       "2"
      ]
     },
     "execution_count": 12,
     "metadata": {},
     "output_type": "execute_result"
    }
   ],
   "source": [
    "peak([1,2,3,1])"
   ]
  },
  {
   "cell_type": "code",
   "execution_count": 13,
   "id": "e0e18374",
   "metadata": {},
   "outputs": [
    {
     "data": {
      "text/plain": [
       "5"
      ]
     },
     "execution_count": 13,
     "metadata": {},
     "output_type": "execute_result"
    }
   ],
   "source": [
    "peak([1,2,1,3,5,6,4])"
   ]
  },
  {
   "cell_type": "markdown",
   "id": "8da6edd1",
   "metadata": {},
   "source": [
    "**Question 3**\n",
    "\n",
    "****\n",
    "\n",
    "Given an array `nums` containing `n` distinct numbers in the range `[0, n]`, return *the only number in the range that is missing from the array.*\n",
    "\n",
    "    Input: nums = [3,0,1]\n",
    "    Output: 2\n",
    "    Explanation: n = 3 since there are 3 numbers, so all numbers are in the range [0,3]. 2 is the missing number in the range since it does not appear in nums.\n"
   ]
  },
  {
   "cell_type": "code",
   "execution_count": 19,
   "id": "c51fc82e",
   "metadata": {},
   "outputs": [],
   "source": [
    "def missing_number(nums):\n",
    "    n = len(nums)\n",
    "    expected_sum = n * (n + 1) // 2\n",
    "    actual_sum = sum(nums)\n",
    "    missing_number = expected_sum - actual_sum\n",
    "    return missing_number"
   ]
  },
  {
   "cell_type": "code",
   "execution_count": 21,
   "id": "f66324f5",
   "metadata": {},
   "outputs": [
    {
     "data": {
      "text/plain": [
       "2"
      ]
     },
     "execution_count": 21,
     "metadata": {},
     "output_type": "execute_result"
    }
   ],
   "source": [
    "missing_number([3,0,1])"
   ]
  },
  {
   "cell_type": "code",
   "execution_count": 22,
   "id": "f20cc8fc",
   "metadata": {},
   "outputs": [
    {
     "data": {
      "text/plain": [
       "2"
      ]
     },
     "execution_count": 22,
     "metadata": {},
     "output_type": "execute_result"
    }
   ],
   "source": [
    "missing_number([0,1])"
   ]
  },
  {
   "cell_type": "code",
   "execution_count": 23,
   "id": "d4135975",
   "metadata": {},
   "outputs": [
    {
     "data": {
      "text/plain": [
       "8"
      ]
     },
     "execution_count": 23,
     "metadata": {},
     "output_type": "execute_result"
    }
   ],
   "source": [
    "missing_number([9,6,4,2,3,5,7,0,1])"
   ]
  },
  {
   "cell_type": "markdown",
   "id": "827baadc",
   "metadata": {},
   "source": [
    "**Question 4**\n",
    "\n",
    "Given an array of integers `nums` containing `n + 1` integers where each integer is in the range `[1, n]` inclusive.\n",
    "\n",
    "There is only **one repeated number** in `nums`, return *this repeated number*.\n"
   ]
  },
  {
   "cell_type": "code",
   "execution_count": 24,
   "id": "4d801486",
   "metadata": {},
   "outputs": [],
   "source": [
    "def repeated(nums):\n",
    "    nums.sort()\n",
    "    left = 0\n",
    "    right = len(nums)-1\n",
    "\n",
    "    while left < right:\n",
    "        mid = (left + right)//2\n",
    "\n",
    "        if nums[mid] < (mid+1):\n",
    "            right = mid\n",
    "        else:\n",
    "            left = mid + 1\n",
    "            \n",
    "    return nums[left]"
   ]
  },
  {
   "cell_type": "code",
   "execution_count": 25,
   "id": "ce769c0a",
   "metadata": {},
   "outputs": [
    {
     "data": {
      "text/plain": [
       "2"
      ]
     },
     "execution_count": 25,
     "metadata": {},
     "output_type": "execute_result"
    }
   ],
   "source": [
    "repeated([1,3,4,2,2])"
   ]
  },
  {
   "cell_type": "code",
   "execution_count": 26,
   "id": "d775f1de",
   "metadata": {},
   "outputs": [
    {
     "data": {
      "text/plain": [
       "3"
      ]
     },
     "execution_count": 26,
     "metadata": {},
     "output_type": "execute_result"
    }
   ],
   "source": [
    "\n",
    "repeated([3, 1, 3, 4, 2])"
   ]
  },
  {
   "cell_type": "markdown",
   "id": "e88cbbaa",
   "metadata": {},
   "source": [
    "**Question 5**\n",
    "\n",
    "Given two integer arrays `nums1` and `nums2`, return *an array of their intersection*. Each element in the result must be **unique** and you may return the result in **any order**.\n"
   ]
  },
  {
   "cell_type": "code",
   "execution_count": 27,
   "id": "cad6912a",
   "metadata": {},
   "outputs": [],
   "source": [
    "def intersection(nums1, nums2):\n",
    "    \n",
    "    nums1set = set(nums1)\n",
    "    result = set()\n",
    "    \n",
    "    for num in nums2:\n",
    "        if num in nums1set:\n",
    "            result.add(num)\n",
    "            \n",
    "    return list(result)"
   ]
  },
  {
   "cell_type": "code",
   "execution_count": 28,
   "id": "1eae5553",
   "metadata": {},
   "outputs": [
    {
     "data": {
      "text/plain": [
       "[2]"
      ]
     },
     "execution_count": 28,
     "metadata": {},
     "output_type": "execute_result"
    }
   ],
   "source": [
    "intersection([1, 2, 2, 1], [2, 2])"
   ]
  },
  {
   "cell_type": "code",
   "execution_count": 29,
   "id": "bc154cfc",
   "metadata": {},
   "outputs": [
    {
     "data": {
      "text/plain": [
       "[9, 4]"
      ]
     },
     "execution_count": 29,
     "metadata": {},
     "output_type": "execute_result"
    }
   ],
   "source": [
    "intersection([4, 9, 5], [9, 4, 9, 8, 4])"
   ]
  },
  {
   "cell_type": "code",
   "execution_count": null,
   "id": "657f9a5f",
   "metadata": {},
   "outputs": [],
   "source": []
  },
  {
   "cell_type": "markdown",
   "id": "929b353a",
   "metadata": {},
   "source": [
    "**Question 6**\n",
    "\n",
    "Suppose an array of length `n` sorted in ascending order is **rotated** between `1` and `n` times. For example, the array `nums = [0,1,2,4,5,6,7]` might become:\n",
    "\n",
    "- `[4,5,6,7,0,1,2]` if it was rotated `4` times.\n",
    "- `[0,1,2,4,5,6,7]` if it was rotated `7` times.\n",
    "\n",
    "Notice that **rotating** an array `[a[0], a[1], a[2], ..., a[n-1]]` 1 time results in the array `[a[n-1], a[0], a[1], a[2], ..., a[n-2]]`.\n",
    "\n",
    "Given the sorted rotated array `nums` of **unique** elements, return *the minimum element of this array*.\n"
   ]
  },
  {
   "cell_type": "code",
   "execution_count": 30,
   "id": "46eb20e4",
   "metadata": {},
   "outputs": [],
   "source": [
    "def get_Min(nums):\n",
    "    left = 0\n",
    "    right = len(nums) - 1\n",
    "\n",
    "    while left < right:\n",
    "        mid = (left + right) // 2\n",
    "\n",
    "        if nums[mid] > nums[right]:\n",
    "            left = mid + 1\n",
    "        else:\n",
    "            right = mid\n",
    "\n",
    "    return nums[left]"
   ]
  },
  {
   "cell_type": "code",
   "execution_count": 31,
   "id": "119e8cac",
   "metadata": {},
   "outputs": [
    {
     "data": {
      "text/plain": [
       "1"
      ]
     },
     "execution_count": 31,
     "metadata": {},
     "output_type": "execute_result"
    }
   ],
   "source": [
    "get_Min([3, 4, 5, 1, 2])"
   ]
  },
  {
   "cell_type": "code",
   "execution_count": 32,
   "id": "ba442fc7",
   "metadata": {},
   "outputs": [
    {
     "data": {
      "text/plain": [
       "0"
      ]
     },
     "execution_count": 32,
     "metadata": {},
     "output_type": "execute_result"
    }
   ],
   "source": [
    "get_Min([4, 5, 6, 7, 0, 1, 2])"
   ]
  },
  {
   "cell_type": "code",
   "execution_count": 33,
   "id": "28c19b0c",
   "metadata": {},
   "outputs": [
    {
     "data": {
      "text/plain": [
       "11"
      ]
     },
     "execution_count": 33,
     "metadata": {},
     "output_type": "execute_result"
    }
   ],
   "source": [
    "get_Min([11, 13, 15, 17])"
   ]
  },
  {
   "cell_type": "markdown",
   "id": "f609b7f5",
   "metadata": {},
   "source": [
    "**Question 7**\n",
    "\n",
    "Given an array of integers `nums` sorted in non-decreasing order, find the starting and ending position of a given `target` value.\n",
    "\n",
    "If `target` is not found in the array, return `[-1, -1]`.\n"
   ]
  },
  {
   "cell_type": "code",
   "execution_count": 34,
   "id": "b4fbaf5b",
   "metadata": {},
   "outputs": [],
   "source": [
    "def position(nums,target):\n",
    "    l, r = 0, len(nums)-1\n",
    "\n",
    "    while l <= r and len(nums) != 0:\n",
    "        mid = l + (r - l)//2\n",
    "\n",
    "        if nums[mid] == target and nums[mid+1] == target:\n",
    "            return [mid,mid+1]\n",
    "        \n",
    "        elif nums[mid] == target and nums[mid-1] == target:\n",
    "            return [mid-1,mid]\n",
    "        \n",
    "        elif nums[mid] < target:\n",
    "            l = mid+1\n",
    "\n",
    "        else:\n",
    "            r = mid - 1\n",
    "            \n",
    "    return [-1,-1]"
   ]
  },
  {
   "cell_type": "code",
   "execution_count": 35,
   "id": "2c3c803b",
   "metadata": {},
   "outputs": [
    {
     "data": {
      "text/plain": [
       "[3, 4]"
      ]
     },
     "execution_count": 35,
     "metadata": {},
     "output_type": "execute_result"
    }
   ],
   "source": [
    "position([5,7,7,8,8,10], 8)"
   ]
  },
  {
   "cell_type": "code",
   "execution_count": 36,
   "id": "86fecd17",
   "metadata": {},
   "outputs": [
    {
     "data": {
      "text/plain": [
       "[-1, -1]"
      ]
     },
     "execution_count": 36,
     "metadata": {},
     "output_type": "execute_result"
    }
   ],
   "source": [
    "position([5,7,7,8,8,10], 6)"
   ]
  },
  {
   "cell_type": "code",
   "execution_count": 37,
   "id": "e049495a",
   "metadata": {},
   "outputs": [
    {
     "data": {
      "text/plain": [
       "[-1, -1]"
      ]
     },
     "execution_count": 37,
     "metadata": {},
     "output_type": "execute_result"
    }
   ],
   "source": [
    "position([], 6)"
   ]
  },
  {
   "cell_type": "markdown",
   "id": "0c92e4b0",
   "metadata": {},
   "source": [
    "**Question 8**\n",
    "\n",
    "Given two integer arrays `nums1` and `nums2`, return *an array of their intersection*. Each element in the result must appear as many times as it shows in both arrays and you may return the result in **any order**.\n"
   ]
  },
  {
   "cell_type": "code",
   "execution_count": 38,
   "id": "9dc06627",
   "metadata": {},
   "outputs": [],
   "source": [
    "def intersect(nums1, nums2):  \n",
    "    result = []\n",
    "    count = {}\n",
    "    \n",
    "    for num in nums1:\n",
    "        if num in count:\n",
    "            count[num] += 1\n",
    "        \n",
    "        else:\n",
    "            count[num] = 1\n",
    "            \n",
    "    for num in nums2:\n",
    "        if num in count and count[num] > 0:\n",
    "            result.append(num)\n",
    "            count[num] -= 1\n",
    "            \n",
    "    return result"
   ]
  },
  {
   "cell_type": "code",
   "execution_count": 42,
   "id": "28d0b0b0",
   "metadata": {},
   "outputs": [
    {
     "data": {
      "text/plain": [
       "[2, 2]"
      ]
     },
     "execution_count": 42,
     "metadata": {},
     "output_type": "execute_result"
    }
   ],
   "source": [
    "intersect([1,2,2,1], [2,2])"
   ]
  },
  {
   "cell_type": "code",
   "execution_count": 40,
   "id": "a14966d5",
   "metadata": {},
   "outputs": [
    {
     "data": {
      "text/plain": [
       "[4, 9]"
      ]
     },
     "execution_count": 40,
     "metadata": {},
     "output_type": "execute_result"
    }
   ],
   "source": [
    "intersect([9,4,9,8,4], [4,9,5])"
   ]
  },
  {
   "cell_type": "code",
   "execution_count": null,
   "id": "5ba5a2ee",
   "metadata": {},
   "outputs": [],
   "source": []
  }
 ],
 "metadata": {
  "kernelspec": {
   "display_name": "Python 3 (ipykernel)",
   "language": "python",
   "name": "python3"
  },
  "language_info": {
   "codemirror_mode": {
    "name": "ipython",
    "version": 3
   },
   "file_extension": ".py",
   "mimetype": "text/x-python",
   "name": "python",
   "nbconvert_exporter": "python",
   "pygments_lexer": "ipython3",
   "version": "3.9.13"
  }
 },
 "nbformat": 4,
 "nbformat_minor": 5
}
