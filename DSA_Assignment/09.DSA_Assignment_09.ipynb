{
 "cells": [
  {
   "cell_type": "markdown",
   "id": "92bd26aa",
   "metadata": {},
   "source": [
    "# DSA_Assignment_09"
   ]
  },
  {
   "cell_type": "markdown",
   "id": "471ae4e3",
   "metadata": {},
   "source": [
    "**Question 1**\n",
    "\n",
    "Given an integer `n`, return *`true` if it is a power of two. Otherwise, return `false`*.\n",
    "\n",
    "An integer `n` is a power of two, if there exists an integer `x` such that `n == 2x`.\n",
    "\n",
    "**Example 1:**\n",
    "Input: n = 1 \n",
    "\n",
    "Output: true\n",
    "\n",
    "**Example 2:**\n",
    "Input: n = 16 \n",
    "\n",
    "Output: true\n",
    "\n",
    "**Example 3:**\n",
    "Input: n = 3 \n",
    "\n",
    "Output: false\n"
   ]
  },
  {
   "cell_type": "code",
   "execution_count": 5,
   "id": "01ae1f5f",
   "metadata": {},
   "outputs": [],
   "source": [
    "def isPowerOfTwo(n: int) -> bool:\n",
    "    if n == 1:\n",
    "        return True\n",
    "    if n < 1 or n % 2 == 1:\n",
    "        return False\n",
    "    return isPowerOfTwo(n // 2)"
   ]
  },
  {
   "cell_type": "code",
   "execution_count": 6,
   "id": "b3835702",
   "metadata": {},
   "outputs": [
    {
     "data": {
      "text/plain": [
       "True"
      ]
     },
     "execution_count": 6,
     "metadata": {},
     "output_type": "execute_result"
    }
   ],
   "source": [
    "isPowerOfTwo(n=16)"
   ]
  },
  {
   "cell_type": "code",
   "execution_count": 7,
   "id": "a107e8ea",
   "metadata": {},
   "outputs": [
    {
     "data": {
      "text/plain": [
       "True"
      ]
     },
     "execution_count": 7,
     "metadata": {},
     "output_type": "execute_result"
    }
   ],
   "source": [
    "isPowerOfTwo(n=1)"
   ]
  },
  {
   "cell_type": "code",
   "execution_count": 8,
   "id": "eeaa44d1",
   "metadata": {},
   "outputs": [
    {
     "data": {
      "text/plain": [
       "False"
      ]
     },
     "execution_count": 8,
     "metadata": {},
     "output_type": "execute_result"
    }
   ],
   "source": [
    "isPowerOfTwo(n=3)"
   ]
  },
  {
   "cell_type": "markdown",
   "id": "f70b8bf8",
   "metadata": {},
   "source": [
    "**Question 2**\n",
    "\n",
    "Given a number n, find the sum of the first natural numbers.\n",
    "\n",
    "**Example 1:**\n",
    "\n",
    "Input: n = 3 \n",
    "\n",
    "Output: 6\n",
    "\n",
    "**Example 2:**\n",
    "\n",
    "Input  : 5 \n",
    "\n",
    "Output : 15"
   ]
  },
  {
   "cell_type": "code",
   "execution_count": 9,
   "id": "06752af1",
   "metadata": {},
   "outputs": [],
   "source": [
    "def sumOfFirstNaturalNumbers(n):\n",
    "    if n == 1:\n",
    "        return 1\n",
    "    return n + sumOfFirstNaturalNumbers(n - 1)"
   ]
  },
  {
   "cell_type": "code",
   "execution_count": 10,
   "id": "62a6fe1f",
   "metadata": {},
   "outputs": [
    {
     "data": {
      "text/plain": [
       "6"
      ]
     },
     "execution_count": 10,
     "metadata": {},
     "output_type": "execute_result"
    }
   ],
   "source": [
    "sumOfFirstNaturalNumbers(3)"
   ]
  },
  {
   "cell_type": "code",
   "execution_count": 11,
   "id": "ccfc6bcc",
   "metadata": {},
   "outputs": [
    {
     "data": {
      "text/plain": [
       "15"
      ]
     },
     "execution_count": 11,
     "metadata": {},
     "output_type": "execute_result"
    }
   ],
   "source": [
    "sumOfFirstNaturalNumbers(5)"
   ]
  },
  {
   "cell_type": "markdown",
   "id": "c87f463f",
   "metadata": {},
   "source": [
    "**Question 3**\n",
    "\n",
    "****Given a positive integer, N. Find the factorial of N. \n",
    "\n",
    "**Example 1:**\n",
    "\n",
    "Input: N = 5 \n",
    "\n",
    "Output: 120\n",
    "\n",
    "**Example 2:**\n",
    "\n",
    "Input: N = 4\n",
    "\n",
    "Output: 24\n"
   ]
  },
  {
   "cell_type": "code",
   "execution_count": 12,
   "id": "ce976486",
   "metadata": {},
   "outputs": [],
   "source": [
    "def factorial(N):\n",
    "    if N == 0:\n",
    "        return 1\n",
    "    \n",
    "    elif N == 1:\n",
    "        return N\n",
    "    \n",
    "    else:\n",
    "        return N*factorial(N-1)"
   ]
  },
  {
   "cell_type": "code",
   "execution_count": 13,
   "id": "d5d6aef9",
   "metadata": {},
   "outputs": [
    {
     "data": {
      "text/plain": [
       "120"
      ]
     },
     "execution_count": 13,
     "metadata": {},
     "output_type": "execute_result"
    }
   ],
   "source": [
    "factorial(5)"
   ]
  },
  {
   "cell_type": "code",
   "execution_count": 14,
   "id": "5732bf69",
   "metadata": {},
   "outputs": [
    {
     "data": {
      "text/plain": [
       "24"
      ]
     },
     "execution_count": 14,
     "metadata": {},
     "output_type": "execute_result"
    }
   ],
   "source": [
    "factorial(4)"
   ]
  },
  {
   "cell_type": "markdown",
   "id": "572752b4",
   "metadata": {},
   "source": [
    "**Question 4**\n",
    "\n",
    "Given a number N and a power P, the task is to find the exponent of this number raised to the given power, i.e. N^P.\n",
    "\n",
    "**Example 1 :** \n",
    "\n",
    "Input: N = 5, P = 2\n",
    "\n",
    "Output: 25\n",
    "\n",
    "**Example 2 :**\n",
    "Input: N = 2, P = 5\n",
    "\n",
    "Output: 32\n"
   ]
  },
  {
   "cell_type": "code",
   "execution_count": 17,
   "id": "5ad8661d",
   "metadata": {},
   "outputs": [],
   "source": [
    "def exponent(N, P):\n",
    "    if P == 0:\n",
    "        return 1\n",
    "    if P % 2 == 0:\n",
    "        y = exponent(N, P // 2)\n",
    "        return y * y\n",
    "    else:\n",
    "        return N * exponent(N, P - 1)"
   ]
  },
  {
   "cell_type": "code",
   "execution_count": 18,
   "id": "850c4be5",
   "metadata": {},
   "outputs": [
    {
     "data": {
      "text/plain": [
       "32"
      ]
     },
     "execution_count": 18,
     "metadata": {},
     "output_type": "execute_result"
    }
   ],
   "source": [
    "exponent(2,5)"
   ]
  },
  {
   "cell_type": "markdown",
   "id": "b84e93df",
   "metadata": {},
   "source": [
    " **Question 5**\n",
    "\n",
    "Given an array of integers **arr**, the task is to find maximum element of that array using recursion.\n",
    "\n",
    "**Example 1:**\n",
    "\n",
    "Input: arr = {1, 4, 3, -5, -4, 8, 6};\n",
    "Output: 8\n",
    "\n",
    "**Example 2:**\n",
    "\n",
    "Input: arr = {1, 4, 45, 6, 10, -8};\n",
    "Output: 45\n"
   ]
  },
  {
   "cell_type": "code",
   "execution_count": 19,
   "id": "4206dadf",
   "metadata": {},
   "outputs": [],
   "source": [
    "def find_max(arr):\n",
    "    if len(arr) == 1:\n",
    "        return arr[0]\n",
    "    else:\n",
    "        return max(arr[0], find_max(arr[1:]))"
   ]
  },
  {
   "cell_type": "code",
   "execution_count": 20,
   "id": "9fd92b69",
   "metadata": {},
   "outputs": [
    {
     "data": {
      "text/plain": [
       "8"
      ]
     },
     "execution_count": 20,
     "metadata": {},
     "output_type": "execute_result"
    }
   ],
   "source": [
    "find_max([1, 4, 3, -5, -4, 8, 6])"
   ]
  },
  {
   "cell_type": "code",
   "execution_count": 21,
   "id": "89bf7115",
   "metadata": {},
   "outputs": [
    {
     "data": {
      "text/plain": [
       "45"
      ]
     },
     "execution_count": 21,
     "metadata": {},
     "output_type": "execute_result"
    }
   ],
   "source": [
    "find_max([1, 4, 45, 6, 10, -8])"
   ]
  },
  {
   "cell_type": "markdown",
   "id": "8672239a",
   "metadata": {},
   "source": [
    "**Question 6**\n",
    "\n",
    "Given first term (a), common difference (d) and a integer N of the Arithmetic Progression series, the task is to find Nth term of the series.\n",
    "\n",
    "**Example 1:**\n",
    "\n",
    "Input : a = 2 d = 1 N = 5\n",
    "Output : 6\n",
    "The 5th term of the series is : 6\n",
    "\n",
    "**Example 2:**\n",
    "\n",
    "Input : a = 5 d = 2 N = 10\n",
    "Output : 23\n",
    "The 10th term of the series is : 23\n"
   ]
  },
  {
   "cell_type": "code",
   "execution_count": 22,
   "id": "aa8a6ef7",
   "metadata": {},
   "outputs": [],
   "source": [
    "def ap(a, d, N):\n",
    "    return a + (N-1)*d"
   ]
  },
  {
   "cell_type": "code",
   "execution_count": 23,
   "id": "ddfcdfaf",
   "metadata": {},
   "outputs": [
    {
     "data": {
      "text/plain": [
       "6"
      ]
     },
     "execution_count": 23,
     "metadata": {},
     "output_type": "execute_result"
    }
   ],
   "source": [
    "ap(2,1,5)"
   ]
  },
  {
   "cell_type": "code",
   "execution_count": 25,
   "id": "0e76b407",
   "metadata": {},
   "outputs": [
    {
     "data": {
      "text/plain": [
       "23"
      ]
     },
     "execution_count": 25,
     "metadata": {},
     "output_type": "execute_result"
    }
   ],
   "source": [
    "ap(5,2,10)"
   ]
  },
  {
   "cell_type": "markdown",
   "id": "87210d68",
   "metadata": {},
   "source": [
    "**Question 7**\n",
    "\n",
    "Given a string S, the task is to write a program to print all permutations of a given string.\n",
    "\n",
    "**Example 1:**\n",
    "\n",
    "***Input:***\n",
    "\n",
    "*S = “ABC”*\n",
    "\n",
    "***Output:***\n",
    "\n",
    "*“ABC”, “ACB”, “BAC”, “BCA”, “CBA”, “CAB”*\n",
    "\n",
    "**Example 2:**\n",
    "\n",
    "***Input:***\n",
    "\n",
    "*S = “XY”*\n",
    "\n",
    "***Output:***\n",
    "\n",
    "*“XY”, “YX”*\n"
   ]
  },
  {
   "cell_type": "code",
   "execution_count": 26,
   "id": "cfce8caf",
   "metadata": {},
   "outputs": [],
   "source": [
    "def permutations(string, i=0):\n",
    "\n",
    "    if i == len(string):   \t \n",
    "        print(\"\".join(string))\n",
    "\n",
    "    for j in range(i, len(string)):\n",
    "        words = [c for c in string]\n",
    "        words[i], words[j] = words[j], words[i]\n",
    "        permutations (words, i + 1)"
   ]
  },
  {
   "cell_type": "code",
   "execution_count": 27,
   "id": "14f4f987",
   "metadata": {},
   "outputs": [
    {
     "name": "stdout",
     "output_type": "stream",
     "text": [
      "ABC\n",
      "ACB\n",
      "BAC\n",
      "BCA\n",
      "CBA\n",
      "CAB\n"
     ]
    }
   ],
   "source": [
    "permutations(\"ABC\")\n"
   ]
  },
  {
   "cell_type": "code",
   "execution_count": 28,
   "id": "b4e85513",
   "metadata": {},
   "outputs": [
    {
     "name": "stdout",
     "output_type": "stream",
     "text": [
      "XY\n",
      "YX\n"
     ]
    }
   ],
   "source": [
    "permutations(\"XY\")\n"
   ]
  },
  {
   "cell_type": "markdown",
   "id": "cda4173d",
   "metadata": {},
   "source": [
    "**Question 8**\n",
    "\n",
    "Given an array, find a product of all array elements.\n",
    "\n",
    "**Example 1:**<br>\n",
    "\n",
    "Input  : arr[] = {1, 2, 3, 4, 5}<br>\n",
    "Output : 120<br>\n",
    "**Example 2:**<br>\n",
    "\n",
    "Input  : arr[] = {1, 6, 3}<br>\n",
    "Output : 18"
   ]
  },
  {
   "cell_type": "code",
   "execution_count": 30,
   "id": "91d6d87e",
   "metadata": {},
   "outputs": [],
   "source": [
    "def prodofarr(seq):\n",
    "    if not seq:\n",
    "        return 1\n",
    "    \n",
    "    return seq[0] * prodofarr(seq[1:])"
   ]
  },
  {
   "cell_type": "code",
   "execution_count": 31,
   "id": "6fb6e402",
   "metadata": {},
   "outputs": [
    {
     "data": {
      "text/plain": [
       "120"
      ]
     },
     "execution_count": 31,
     "metadata": {},
     "output_type": "execute_result"
    }
   ],
   "source": [
    "prodofarr([1,2,3,4,5])"
   ]
  },
  {
   "cell_type": "code",
   "execution_count": 32,
   "id": "28f213f2",
   "metadata": {},
   "outputs": [
    {
     "data": {
      "text/plain": [
       "18"
      ]
     },
     "execution_count": 32,
     "metadata": {},
     "output_type": "execute_result"
    }
   ],
   "source": [
    "prodofarr([1, 6, 3])"
   ]
  },
  {
   "cell_type": "code",
   "execution_count": null,
   "id": "e2e90755",
   "metadata": {},
   "outputs": [],
   "source": []
  }
 ],
 "metadata": {
  "kernelspec": {
   "display_name": "Python 3 (ipykernel)",
   "language": "python",
   "name": "python3"
  },
  "language_info": {
   "codemirror_mode": {
    "name": "ipython",
    "version": 3
   },
   "file_extension": ".py",
   "mimetype": "text/x-python",
   "name": "python",
   "nbconvert_exporter": "python",
   "pygments_lexer": "ipython3",
   "version": "3.9.13"
  }
 },
 "nbformat": 4,
 "nbformat_minor": 5
}
