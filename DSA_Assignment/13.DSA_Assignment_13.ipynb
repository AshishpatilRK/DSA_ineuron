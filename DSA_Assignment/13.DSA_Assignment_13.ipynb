{
 "cells": [
  {
   "cell_type": "markdown",
   "id": "86b06bbb",
   "metadata": {},
   "source": [
    "# DSA_Assignment_13"
   ]
  },
  {
   "cell_type": "markdown",
   "id": "3ae5fdba",
   "metadata": {},
   "source": [
    "**Question 1**\n",
    "\n",
    "Given two linked list of the same size, the task is to create a new linked list using those linked lists. The condition is that the greater node among both linked list will be added to the new linked list.\n"
   ]
  },
  {
   "cell_type": "code",
   "execution_count": 1,
   "id": "73a13269",
   "metadata": {},
   "outputs": [
    {
     "name": "stdout",
     "output_type": "stream",
     "text": [
      "5 7 4 8 "
     ]
    }
   ],
   "source": [
    "class Node:\n",
    "    def __init__(self, data=None):\n",
    "        self.data = data\n",
    "        self.next = None\n",
    "\n",
    "\n",
    "def createNewList(list1, list2):\n",
    "    if list1 is None:\n",
    "        return list2\n",
    "\n",
    "    if list2 is None:\n",
    "        return list1\n",
    "\n",
    "    result = None\n",
    "    current1 = list1\n",
    "    current2 = list2\n",
    "\n",
    "    while current1 and current2:\n",
    "        if current1.data >= current2.data:\n",
    "            new_node = Node(current1.data)\n",
    "            new_node.next = result\n",
    "            result = new_node\n",
    "        else:\n",
    "            new_node = Node(current2.data)\n",
    "            new_node.next = result\n",
    "            result = new_node\n",
    "\n",
    "        current1 = current1.next\n",
    "        current2 = current2.next\n",
    "\n",
    "    prev = None\n",
    "    current = result\n",
    "    while current:\n",
    "        next_node = current.next\n",
    "        current.next = prev\n",
    "        prev = current\n",
    "        current = next_node\n",
    "    result = prev\n",
    "\n",
    "    return result\n",
    "\n",
    "list1 = Node(5)\n",
    "list1.next = Node(2)\n",
    "list1.next.next = Node(3)\n",
    "list1.next.next.next = Node(8)\n",
    "\n",
    "list2 = Node(1)\n",
    "list2.next = Node(7)\n",
    "list2.next.next = Node(4)\n",
    "list2.next.next.next = Node(5)\n",
    "\n",
    "result = createNewList(list1, list2)\n",
    "\n",
    "current = result\n",
    "while current:\n",
    "    print(current.data, end=\" \")\n",
    "    current = current.next"
   ]
  },
  {
   "cell_type": "markdown",
   "id": "561d42fc",
   "metadata": {},
   "source": [
    "**Question 2**\n",
    "\n",
    "Write a function that takes a list sorted in non-decreasing order and deletes any duplicate nodes from the list. The list should only be traversed once.\n",
    "\n",
    "For example if the linked list is 11->11->11->21->43->43->60 then removeDuplicates() should convert the list to 11->21->43->60.\n"
   ]
  },
  {
   "cell_type": "code",
   "execution_count": 2,
   "id": "a0bb1b0c",
   "metadata": {},
   "outputs": [
    {
     "name": "stdout",
     "output_type": "stream",
     "text": [
      "Original Linked List: 11->11->11->21->43->43->60->None\n",
      "Modified Linked List: 11->21->43->60->None\n"
     ]
    }
   ],
   "source": [
    "class Node:\n",
    "    def __init__(self, value):\n",
    "        self.data = value\n",
    "        self.next = None\n",
    "\n",
    "def removeDuplicates(head):\n",
    "    if head is None or head.next is None:\n",
    "        return head\n",
    "\n",
    "    current = head\n",
    "\n",
    "    while current is not None and current.next is not None:\n",
    "        if current.data == current.next.data:\n",
    "            current.next = current.next.next\n",
    "        else:\n",
    "            current = current.next\n",
    "\n",
    "    return head\n",
    "\n",
    "head = Node(11)\n",
    "head.next = Node(11)\n",
    "head.next.next = Node(11)\n",
    "head.next.next.next = Node(21)\n",
    "head.next.next.next.next = Node(43)\n",
    "head.next.next.next.next.next = Node(43)\n",
    "head.next.next.next.next.next.next = Node(60)\n",
    "\n",
    "current = head\n",
    "print(\"Original Linked List: \", end=\"\")\n",
    "while current is not None:\n",
    "    print(current.data, end=\"->\")\n",
    "    current = current.next\n",
    "print(\"None\")\n",
    "\n",
    "head = removeDuplicates(head)\n",
    "\n",
    "current = head\n",
    "print(\"Modified Linked List: \", end=\"\")\n",
    "while current is not None:\n",
    "    print(current.data, end=\"->\")\n",
    "    current = current.next\n",
    "print(\"None\")"
   ]
  },
  {
   "cell_type": "markdown",
   "id": "9c7d44e1",
   "metadata": {},
   "source": [
    "**Question 3**\n",
    "\n",
    "Given a linked list of size **N**. The task is to reverse every **k** nodes (where k is an input to the function) in the linked list. If the number of nodes is not a multiple of *k* then left-out nodes, in the end, should be considered as a group and must be reversed (See Example 2 for clarification).\n"
   ]
  },
  {
   "cell_type": "code",
   "execution_count": 3,
   "id": "d045b90f",
   "metadata": {},
   "outputs": [
    {
     "name": "stdout",
     "output_type": "stream",
     "text": [
      "Linked list before reversing: \n",
      "1 -> 2 -> 2 -> 4 -> 5 -> 6 -> 7 -> 8 -> \n",
      "Linked list after reversing: \n",
      "4 -> 2 -> 2 -> 1 -> 8 -> 7 -> 6 -> 5 -> \n"
     ]
    }
   ],
   "source": [
    "class Node:\n",
    "    def __init__(self, data):\n",
    "        self.data = data\n",
    "        self.next = None\n",
    "\n",
    "def reverse(head, k):\n",
    "    if head is None:\n",
    "        return None\n",
    "    \n",
    "    current = head\n",
    "    next = None\n",
    "    prev = None\n",
    "    count = 0\n",
    "\n",
    "    while current is not None and count < k:\n",
    "        next = current.next\n",
    "        current.next = prev\n",
    "        prev = current\n",
    "        current = next\n",
    "        count += 1\n",
    "\n",
    "    if next is not None:\n",
    "        head.next = reverse(next, k)\n",
    "\n",
    "    return prev\n",
    "\n",
    "def insert(root, item):\n",
    "    temp = Node(item)\n",
    "    temp.next = None\n",
    "\n",
    "    if root is None:\n",
    "        root = temp\n",
    "\n",
    "    else:\n",
    "        ptr = root\n",
    "        while ptr.next is not None:\n",
    "            ptr = ptr.next\n",
    "\n",
    "        ptr.next = temp\n",
    "\n",
    "    return root\n",
    "\n",
    "def display(root):\n",
    "    while root is not None:\n",
    "        print(root.data, end=\" -> \")\n",
    "        root = root.next\n",
    "\n",
    "    print()\n",
    "\n",
    "head = None\n",
    "\n",
    "head = insert(head, 1)\n",
    "head = insert(head, 2)\n",
    "head = insert(head, 2)\n",
    "head = insert(head, 4)\n",
    "head = insert(head, 5)\n",
    "head = insert(head, 6)\n",
    "head = insert(head, 7)\n",
    "head = insert(head, 8)\n",
    "\n",
    "print(\"Linked list before reversing: \")\n",
    "display(head)\n",
    "\n",
    "k = 4 \n",
    "head = reverse(head, k)\n",
    "\n",
    "print(\"Linked list after reversing: \")\n",
    "display(head)"
   ]
  },
  {
   "cell_type": "markdown",
   "id": "a8b5660e",
   "metadata": {},
   "source": [
    "**Question 4**\n",
    "\n",
    "Given a linked list, write a function to reverse every alternate k nodes (where k is an input to the function) in an efficient way. Give the complexity of your algorithm.\n"
   ]
  },
  {
   "cell_type": "code",
   "execution_count": 4,
   "id": "1e17443c",
   "metadata": {},
   "outputs": [
    {
     "name": "stdout",
     "output_type": "stream",
     "text": [
      "Linked list before reversing: \n",
      "1 -> 2 -> 3 -> 4 -> 5 -> 6 -> 7 -> 8 -> 9 -> \n",
      "Linked list after reversing: \n",
      "3 -> 2 -> 1 -> 4 -> 5 -> 6 -> 9 -> 8 -> 7 -> \n"
     ]
    }
   ],
   "source": [
    "class Node:\n",
    "    def __init__(self, data):\n",
    "        self.data = data\n",
    "        self.next = None\n",
    "\n",
    "def kAltReverse(head, k):\n",
    "    current = head\n",
    "    next = None\n",
    "    prev = None\n",
    "    count = 0\n",
    " \n",
    "    while current is not None and count < k:\n",
    "        next = current.next\n",
    "        current.next = prev\n",
    "        prev = current\n",
    "        current = next\n",
    "        count += 1\n",
    " \n",
    "    if head is not None:\n",
    "        head.next = current\n",
    " \n",
    "    count = 0\n",
    "    while count < k - 1 and current is not None:\n",
    "        current = current.next\n",
    "        count += 1\n",
    "\n",
    "    if current is not None:\n",
    "        current.next = kAltReverse(current.next, k)\n",
    "\n",
    "    return prev\n",
    "\n",
    "def insert(root, item):\n",
    "    temp = Node(item)\n",
    "    temp.next = None\n",
    "\n",
    "    if root is None:\n",
    "        root = temp\n",
    "    else:\n",
    "        ptr = root\n",
    "        while ptr.next is not None:\n",
    "            ptr = ptr.next\n",
    "\n",
    "        ptr.next = temp\n",
    "\n",
    "    return root\n",
    "\n",
    "def display(root):\n",
    "    while root is not None:\n",
    "        print(root.data, end=\" -> \")\n",
    "        root = root.next\n",
    "\n",
    "    print()\n",
    "\n",
    "head = None\n",
    "\n",
    "head = insert(head, 1)\n",
    "head = insert(head, 2)\n",
    "head = insert(head, 3)\n",
    "head = insert(head, 4)\n",
    "head = insert(head, 5)\n",
    "head = insert(head, 6)\n",
    "head = insert(head, 7)\n",
    "head = insert(head, 8)\n",
    "head = insert(head, 9)\n",
    "\n",
    "print(\"Linked list before reversing: \")\n",
    "display(head)\n",
    "\n",
    "k = 3 \n",
    "head = kAltReverse(head, k)\n",
    "\n",
    "print(\"Linked list after reversing: \")\n",
    "display(head)"
   ]
  },
  {
   "cell_type": "markdown",
   "id": "cdd6fe76",
   "metadata": {},
   "source": [
    "**Question 5**\n",
    "\n",
    "Given a linked list and a key to be deleted. Delete last occurrence of key from linked. The list may have duplicates.\n"
   ]
  },
  {
   "cell_type": "code",
   "execution_count": 5,
   "id": "f21f52e4",
   "metadata": {},
   "outputs": [],
   "source": [
    "class Node:\n",
    "    def __init__(self,data):\n",
    "        self.data = data\n",
    "        self.next = None\n",
    "\n",
    "class Linkedlist:\n",
    "    def __init__(self):\n",
    "        self.head = None\n",
    "        \n",
    "    def push(self, data):\n",
    "        new_node = Node(data)\n",
    "        new_node.next = self.head\n",
    "        self.head = new_node\n",
    "    \n",
    "    def __str__(self):\n",
    "        linkedListStr = \"\"\n",
    "        temp = self.head\n",
    "\n",
    "        while temp:\n",
    "            linkedListStr += str(temp.data) + \" -> \"\n",
    "            temp = temp.next\n",
    "\n",
    "        return linkedListStr + \"NULL\"\n",
    "    \n",
    "def delete_last_occurance(head,target):\n",
    "    temp = head.head\n",
    "    ptr = None\n",
    "    \n",
    "    while temp!= None:\n",
    "        if temp.data == target:\n",
    "            ptr = temp\n",
    "\n",
    "        temp = temp.next\n",
    "        \n",
    "    if (ptr != None and ptr.next == None):\n",
    "        temp = head\n",
    "        while (temp.next != ptr):\n",
    "            temp = temp.next\n",
    "\n",
    "        temp.next = None\n",
    "    \n",
    "    if (ptr != None and ptr.next != None): \n",
    "        ptr.data = ptr.next.data\n",
    "        temp = ptr.next\n",
    "        ptr.next = ptr.next.next\n",
    "        \n",
    "    return head"
   ]
  },
  {
   "cell_type": "code",
   "execution_count": 6,
   "id": "d29c3716",
   "metadata": {},
   "outputs": [
    {
     "name": "stdout",
     "output_type": "stream",
     "text": [
      "Given Linked List\n",
      "1 -> 2 -> 3 -> 5 -> 2 -> 10 -> NULL\n"
     ]
    }
   ],
   "source": [
    "linkedList = Linkedlist()\n",
    "linkedList.push(10)\n",
    "linkedList.push(2)\n",
    "linkedList.push(5)\n",
    "linkedList.push(3)\n",
    "linkedList.push(2)\n",
    "linkedList.push(1)\n",
    "print(\"Given Linked List\")\n",
    "print(linkedList)"
   ]
  },
  {
   "cell_type": "code",
   "execution_count": 7,
   "id": "f502622f",
   "metadata": {},
   "outputs": [
    {
     "name": "stdout",
     "output_type": "stream",
     "text": [
      "1 -> 2 -> 3 -> 5 -> 10 -> NULL\n"
     ]
    }
   ],
   "source": [
    "target = 2\n",
    "delete_last_occurance(linkedList, target)\n",
    "print(linkedList)"
   ]
  },
  {
   "cell_type": "markdown",
   "id": "63f38990",
   "metadata": {},
   "source": [
    "**Question 6**\n",
    "\n",
    "Given two sorted linked lists consisting of **N** and **M** nodes respectively. The task is to merge both of the lists (in place) and return the head of the merged list.\n",
    "\n"
   ]
  },
  {
   "cell_type": "code",
   "execution_count": 8,
   "id": "8f015f6b",
   "metadata": {},
   "outputs": [],
   "source": [
    "class Node:\n",
    "    def __init__(self,data):\n",
    "        self.data = data\n",
    "        self.next = None\n",
    "\n",
    "class Linkedlist:\n",
    "    def __init__(self):\n",
    "        self.head = None\n",
    "        \n",
    "    def push(self, data):\n",
    "        new_node = Node(data)\n",
    "        new_node.next = self.head\n",
    "        self.head = new_node\n",
    "    \n",
    "    def __str__(self):\n",
    "        linkedListStr = \"\"\n",
    "        temp = self.head\n",
    "        while temp:\n",
    "            linkedListStr += str(temp.data) + \" -> \"\n",
    "            temp = temp.next\n",
    "\n",
    "        return linkedListStr + \"NULL\"\n",
    "    \n",
    "def merge_lists(first, second):\n",
    "    if not first:\n",
    "        return second\n",
    "    if not second:\n",
    "        return first\n",
    "        \n",
    "    if first.data < second.data:\n",
    "        first.next = merge_lists(first.next,second)\n",
    "        return first\n",
    "    \n",
    "    else:\n",
    "        second.next = merge_lists(first,second.next)\n",
    "        return second\n",
    "    \n",
    "def print_list(head):\n",
    "    current = head\n",
    "    while current:\n",
    "        print(current.data, end=\" -> \")\n",
    "        current = current.next"
   ]
  },
  {
   "cell_type": "code",
   "execution_count": 9,
   "id": "34f74344",
   "metadata": {},
   "outputs": [
    {
     "name": "stdout",
     "output_type": "stream",
     "text": [
      "2 -> 3 -> 5 -> 10 -> 15 -> 20 -> "
     ]
    }
   ],
   "source": [
    "first_head = Node(5)\n",
    "first_head.next = Node(10)\n",
    "first_head.next.next = Node(15)\n",
    "\n",
    "second_head = Node(2)\n",
    "second_head.next = Node(3)\n",
    "second_head.next.next = Node(20)\n",
    "\n",
    "first_head = merge_lists(first_head, second_head)\n",
    "print_list(first_head)"
   ]
  },
  {
   "cell_type": "markdown",
   "id": "b72402c3",
   "metadata": {},
   "source": [
    "**Question 7**\n",
    "\n",
    "Given a **Doubly Linked List**, the task is to reverse the given Doubly Linked List.\n"
   ]
  },
  {
   "cell_type": "code",
   "execution_count": 10,
   "id": "50aabd7f",
   "metadata": {},
   "outputs": [],
   "source": [
    "class Node:\n",
    "    def __init__(self, data):\n",
    "        self.data = data\n",
    "        self.next = None\n",
    "        self.prev = None\n",
    " \n",
    "class DoublyLinkedList:\n",
    "    def __init__(self):\n",
    "        self.head = None\n",
    " \n",
    "    def reverse(self):\n",
    "        temp = None\n",
    "        current = self.head\n",
    "\n",
    "        while current is not None:\n",
    "            temp = current.prev\n",
    "            current.prev = current.next\n",
    "            current.next = temp\n",
    "            current = current.prev\n",
    " \n",
    "        if temp is not None:\n",
    "            self.head = temp.prev\n",
    " \n",
    "    def push(self, new_data):\n",
    "        new_node = Node(new_data)\n",
    "        new_node.next = self.head\n",
    "\n",
    "        if self.head is not None:\n",
    "            self.head.prev = new_node\n",
    " \n",
    "        self.head = new_node\n",
    " \n",
    "    def printList(self, node):\n",
    "        while(node is not None):\n",
    "            print(node.data, end=' ')\n",
    "            node = node.next"
   ]
  },
  {
   "cell_type": "code",
   "execution_count": 11,
   "id": "1be0f2e9",
   "metadata": {},
   "outputs": [
    {
     "name": "stdout",
     "output_type": "stream",
     "text": [
      "\n",
      "Original Linked List\n",
      "10 8 4 2 \n",
      "Reversed Linked List\n",
      "2 4 8 10 "
     ]
    }
   ],
   "source": [
    "dll = DoublyLinkedList()\n",
    "dll.push(2)\n",
    "dll.push(4)\n",
    "dll.push(8)\n",
    "dll.push(10)\n",
    " \n",
    "print(\"\\nOriginal Linked List\")\n",
    "dll.printList(dll.head)\n",
    "dll.reverse()\n",
    "print(\"\\nReversed Linked List\")\n",
    "dll.printList(dll.head)"
   ]
  },
  {
   "cell_type": "markdown",
   "id": "7f6a4efa",
   "metadata": {},
   "source": [
    "**Question 8**\n",
    "\n",
    "Given a doubly linked list and a position. The task is to delete a node from given position in a doubly linked list.\n"
   ]
  },
  {
   "cell_type": "code",
   "execution_count": 12,
   "id": "0296822f",
   "metadata": {
    "scrolled": true
   },
   "outputs": [
    {
     "name": "stdout",
     "output_type": "stream",
     "text": [
      "Original linked list:\n",
      "1 3 4 \n",
      "Updated linked list:\n",
      "1 3 \n"
     ]
    }
   ],
   "source": [
    "class Node:\n",
    "    def __init__(self, data=None):\n",
    "        self.data = data\n",
    "        self.prev = None\n",
    "        self.next = None\n",
    "\n",
    "\n",
    "def deleteNode(head, position):\n",
    "    if head is None:\n",
    "        return head\n",
    "\n",
    "    if position == 1:\n",
    "        new_head = head.next\n",
    "        if new_head:\n",
    "            new_head.prev = None\n",
    "        return new_head\n",
    "\n",
    "    current = head\n",
    "    count = 1\n",
    "\n",
    "    while current and count < position:\n",
    "        current = current.next\n",
    "        count += 1\n",
    "\n",
    "    if not current:\n",
    "        return head\n",
    "\n",
    "    current.prev.next = current.next\n",
    "\n",
    "    if current.next:\n",
    "        current.next.prev = current.prev\n",
    "\n",
    "    return head\n",
    "\n",
    "\n",
    "def printLinkedList(head):\n",
    "    current = head\n",
    "    while current:\n",
    "        print(current.data, end=\" \")\n",
    "        current = current.next\n",
    "    print()\n",
    "\n",
    "head = Node(1)\n",
    "head.next = Node(3)\n",
    "head.next.prev = head\n",
    "head.next.next = Node(4)\n",
    "head.next.next.prev = head.next\n",
    "\n",
    "print(\"Original linked list:\")\n",
    "printLinkedList(head)\n",
    "\n",
    "position = 3\n",
    "\n",
    "updated_list = deleteNode(head, position)\n",
    "\n",
    "print(\"Updated linked list:\")\n",
    "printLinkedList(updated_list)"
   ]
  },
  {
   "cell_type": "code",
   "execution_count": null,
   "id": "48248581",
   "metadata": {},
   "outputs": [],
   "source": []
  }
 ],
 "metadata": {
  "kernelspec": {
   "display_name": "Python 3 (ipykernel)",
   "language": "python",
   "name": "python3"
  },
  "language_info": {
   "codemirror_mode": {
    "name": "ipython",
    "version": 3
   },
   "file_extension": ".py",
   "mimetype": "text/x-python",
   "name": "python",
   "nbconvert_exporter": "python",
   "pygments_lexer": "ipython3",
   "version": "3.9.13"
  }
 },
 "nbformat": 4,
 "nbformat_minor": 5
}
