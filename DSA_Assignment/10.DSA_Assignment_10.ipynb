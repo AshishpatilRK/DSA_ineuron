{
 "cells": [
  {
   "cell_type": "markdown",
   "id": "19be51d3",
   "metadata": {},
   "source": [
    "# DSA_Assignment_10"
   ]
  },
  {
   "cell_type": "markdown",
   "id": "69ddf539",
   "metadata": {},
   "source": [
    "**Question 1**\n",
    "\n",
    "Given an integer `n`, return *`true` if it is a power of three. Otherwise, return `false`*.\n",
    "\n",
    "An integer `n` is a power of three, if there exists an integer `x` such that `n == 3x`.\n",
    "\n",
    "Example 1:\n",
    "Input: n = 27\n",
    "Output: true\n",
    "Explanation: 27 = 33\n",
    "\n",
    "Example 2:\n",
    "Input: n = 0\n",
    "Output: false\n",
    "Explanation: There is no x where 3x = 0.\n",
    "\n",
    "Example 3:\n",
    "Input: n = -1\n",
    "Output: false\n",
    "Explanation: There is no x where 3x = (-1)."
   ]
  },
  {
   "cell_type": "code",
   "execution_count": 2,
   "id": "f6af643c",
   "metadata": {},
   "outputs": [],
   "source": [
    "def isPowerOfThree(n: int) -> bool:\n",
    "    if n == 1:\n",
    "        return True\n",
    "    if n < 1 or n % 3 != 0:\n",
    "        return False\n",
    "    return isPowerOfThree(n // 3)"
   ]
  },
  {
   "cell_type": "code",
   "execution_count": 3,
   "id": "19f228a7",
   "metadata": {},
   "outputs": [
    {
     "data": {
      "text/plain": [
       "True"
      ]
     },
     "execution_count": 3,
     "metadata": {},
     "output_type": "execute_result"
    }
   ],
   "source": [
    "isPowerOfThree(n=27)"
   ]
  },
  {
   "cell_type": "code",
   "execution_count": 4,
   "id": "2c842e47",
   "metadata": {},
   "outputs": [
    {
     "data": {
      "text/plain": [
       "False"
      ]
     },
     "execution_count": 4,
     "metadata": {},
     "output_type": "execute_result"
    }
   ],
   "source": [
    "isPowerOfThree(n=0)"
   ]
  },
  {
   "cell_type": "code",
   "execution_count": 5,
   "id": "734d545d",
   "metadata": {},
   "outputs": [
    {
     "data": {
      "text/plain": [
       "False"
      ]
     },
     "execution_count": 5,
     "metadata": {},
     "output_type": "execute_result"
    }
   ],
   "source": [
    "isPowerOfThree(n=-1)"
   ]
  },
  {
   "cell_type": "markdown",
   "id": "ea19a8e7",
   "metadata": {},
   "source": [
    "**Question 2**\n",
    "\n",
    "You have a list `arr` of all integers in the range `[1, n]` sorted in a strictly increasing order. Apply the following algorithm on `arr`:\n",
    "\n",
    "- Starting from left to right, remove the first number and every other number afterward until you reach the end of the list.\n",
    "- Repeat the previous step again, but this time from right to left, remove the rightmost number and every other number from the remaining numbers.\n",
    "- Keep repeating the steps again, alternating left to right and right to left, until a single number remains.\n",
    "\n",
    "Given the integer `n`, return *the last number that remains in* `arr`.\n",
    "\n",
    "**Example 1:**\n",
    "Input: n = 9\n",
    "Output: 6\n",
    "Explanation:\n",
    "arr = [1, 2,3, 4,5, 6,7, 8,9]\n",
    "arr = [2,4, 6,8]\n",
    "arr = [2, 6]\n",
    "arr = [6]\n",
    "</aside>"
   ]
  },
  {
   "cell_type": "code",
   "execution_count": 8,
   "id": "a89930c2",
   "metadata": {},
   "outputs": [],
   "source": [
    "def lastRemaining(n):\n",
    "    if n == 1:\n",
    "        return 1\n",
    "    return 2 * (n // 2 + 1 - lastRemaining(n // 2))"
   ]
  },
  {
   "cell_type": "code",
   "execution_count": 9,
   "id": "2840ffaa",
   "metadata": {},
   "outputs": [
    {
     "data": {
      "text/plain": [
       "6"
      ]
     },
     "execution_count": 9,
     "metadata": {},
     "output_type": "execute_result"
    }
   ],
   "source": [
    "lastRemaining(9)"
   ]
  },
  {
   "cell_type": "markdown",
   "id": "72c460d9",
   "metadata": {},
   "source": [
    "**Question 3**\n",
    "\n",
    "****Given a set represented as a string, write a recursive code to print all subsets of it. The subsets can be printed in any order.\n",
    "\n",
    "**Example 1:**\n",
    "\n",
    "Input :  set = “abc”\n",
    "\n",
    "Output : { “”, “a”, “b”, “c”, “ab”, “ac”, “bc”, “abc”}\n",
    "\n",
    "**Example 2:**\n",
    "\n",
    "Input : set = “abcd”\n",
    "\n",
    "Output : { “”, “a” ,”ab” ,”abc” ,”abcd”, “abd” ,”ac” ,”acd”, “ad” ,”b”, “bc” ,”bcd” ,”bd” ,”c” ,”cd” ,”d” }"
   ]
  },
  {
   "cell_type": "code",
   "execution_count": 10,
   "id": "8b29dd80",
   "metadata": {},
   "outputs": [],
   "source": [
    "def subsets(string, index, current):\n",
    "    \n",
    "    if index == len(string):\n",
    "        print(current)\n",
    "        return\n",
    "    \n",
    "    subsets(string, index + 1, current + string[index])\n",
    "    subsets(string, index + 1, current)"
   ]
  },
  {
   "cell_type": "code",
   "execution_count": 11,
   "id": "f2521680",
   "metadata": {},
   "outputs": [
    {
     "name": "stdout",
     "output_type": "stream",
     "text": [
      "abc\n",
      "ab\n",
      "ac\n",
      "a\n",
      "bc\n",
      "b\n",
      "c\n",
      "\n"
     ]
    }
   ],
   "source": [
    "subsets(\"abc\", 0, \"\")"
   ]
  },
  {
   "cell_type": "code",
   "execution_count": 12,
   "id": "e719a72e",
   "metadata": {},
   "outputs": [
    {
     "name": "stdout",
     "output_type": "stream",
     "text": [
      "abcd\n",
      "abc\n",
      "abd\n",
      "ab\n",
      "acd\n",
      "ac\n",
      "ad\n",
      "a\n",
      "bcd\n",
      "bc\n",
      "bd\n",
      "b\n",
      "cd\n",
      "c\n",
      "d\n",
      "\n"
     ]
    }
   ],
   "source": [
    "subsets(\"abcd\", 0, \"\")"
   ]
  },
  {
   "cell_type": "markdown",
   "id": "17b838cd",
   "metadata": {},
   "source": [
    "**Question 4**\n",
    "\n",
    "Given a string calculate length of the string using recursion.\n",
    "\n",
    "**Examples:**\n",
    "Input : str = \"abcd\"\n",
    "Output :4\n",
    "\n",
    "Input : str = \"GEEKSFORGEEKS\"\n",
    "Output :13"
   ]
  },
  {
   "cell_type": "code",
   "execution_count": 13,
   "id": "733d62b0",
   "metadata": {},
   "outputs": [],
   "source": [
    "def length(string):\n",
    "    \n",
    "    if string == \"\":\n",
    "        return 0\n",
    "    else:\n",
    "        return 1 + length(string[1:])"
   ]
  },
  {
   "cell_type": "code",
   "execution_count": 14,
   "id": "015908d3",
   "metadata": {},
   "outputs": [
    {
     "data": {
      "text/plain": [
       "4"
      ]
     },
     "execution_count": 14,
     "metadata": {},
     "output_type": "execute_result"
    }
   ],
   "source": [
    "length(\"abcd\")"
   ]
  },
  {
   "cell_type": "code",
   "execution_count": 15,
   "id": "3d60784d",
   "metadata": {},
   "outputs": [
    {
     "data": {
      "text/plain": [
       "13"
      ]
     },
     "execution_count": 15,
     "metadata": {},
     "output_type": "execute_result"
    }
   ],
   "source": [
    "length(\"GEEKSFORGEEKS\")"
   ]
  },
  {
   "cell_type": "markdown",
   "id": "a1f244ec",
   "metadata": {},
   "source": [
    "**Question 5**\n",
    "\n",
    "We are given a string S, we need to find count of all contiguous substrings starting and ending with same character.\n"
   ]
  },
  {
   "cell_type": "code",
   "execution_count": 17,
   "id": "2eccce7c",
   "metadata": {},
   "outputs": [
    {
     "name": "stdout",
     "output_type": "stream",
     "text": [
      "7\n"
     ]
    }
   ],
   "source": [
    "def countSubstrs(str, i, j, n):\n",
    "    if (n == 1):\n",
    "        return 1\n",
    "    if (n <= 0):\n",
    "        return 0\n",
    " \n",
    "    res = (countSubstrs(str, i + 1, j, n - 1)+ countSubstrs(str, i, j - 1, n - 1)- countSubstrs(str, i + 1, j - 1, n - 2))    \n",
    " \n",
    "    if (str[i] == str[j]):\n",
    "        res += 1\n",
    " \n",
    "    return res\n",
    " \n",
    "str = \"abcab\"\n",
    "n = len(str)\n",
    "print(countSubstrs(str, 0, n - 1, n))"
   ]
  },
  {
   "cell_type": "code",
   "execution_count": 18,
   "id": "31aaf205",
   "metadata": {},
   "outputs": [
    {
     "name": "stdout",
     "output_type": "stream",
     "text": [
      "4\n"
     ]
    }
   ],
   "source": [
    "str = \"aba\"\n",
    "n = len(str)\n",
    "print(countSubstrs(str, 0, n - 1, n))"
   ]
  },
  {
   "cell_type": "markdown",
   "id": "25d72de1",
   "metadata": {},
   "source": [
    "\n",
    "💡 **Question 6**\n",
    "\n",
    "The [tower of Hanoi](https://en.wikipedia.org/wiki/Tower_of_Hanoi) is a famous puzzle where we have three rods and **N** disks. The objective of the puzzle is to move the entire stack to another rod. You are given the number of discs **N**. Initially, these discs are in the rod 1. You need to print all the steps of discs movement so that all the discs reach the 3rd rod. Also, you need to find the total moves.**Note:** The discs are arranged such that the **top disc is numbered 1** and the **bottom-most disc is numbered N**. Also, all the discs have **different sizes** and a bigger disc **cannot** be put on the top of a smaller disc. Refer the provided link to get a better clarity about the puzzle.\n",
    "\n"
   ]
  },
  {
   "cell_type": "code",
   "execution_count": 19,
   "id": "98e3c8b5",
   "metadata": {},
   "outputs": [],
   "source": [
    "def towerofhanoi(n, source, destination, intermediate):\n",
    "    \n",
    "    if n == 1:\n",
    "        print(f\"Move disk 1 from pole {source} to pole {destination}\")\n",
    "        return\n",
    "    \n",
    "    towerofhanoi(n-1, source, intermediate, destination)\n",
    "    print(f\"Move disk {n} from pole {source} to pole {destination}\")\n",
    "    towerofhanoi(n-1, intermediate, destination, source)"
   ]
  },
  {
   "cell_type": "code",
   "execution_count": 20,
   "id": "8d36adc4",
   "metadata": {},
   "outputs": [
    {
     "name": "stdout",
     "output_type": "stream",
     "text": [
      "Move disk 1 from pole 1 to pole 2\n",
      "Move disk 2 from pole 1 to pole 3\n",
      "Move disk 1 from pole 2 to pole 3\n"
     ]
    }
   ],
   "source": [
    "towerofhanoi(2, 1, 3, 2)"
   ]
  },
  {
   "cell_type": "code",
   "execution_count": 21,
   "id": "77e75647",
   "metadata": {},
   "outputs": [
    {
     "name": "stdout",
     "output_type": "stream",
     "text": [
      "Move disk 1 from pole 1 to pole 3\n",
      "Move disk 2 from pole 1 to pole 2\n",
      "Move disk 1 from pole 3 to pole 2\n",
      "Move disk 3 from pole 1 to pole 3\n",
      "Move disk 1 from pole 2 to pole 1\n",
      "Move disk 2 from pole 2 to pole 3\n",
      "Move disk 1 from pole 1 to pole 3\n"
     ]
    }
   ],
   "source": [
    "towerofhanoi(3, 1, 3, 2)"
   ]
  },
  {
   "cell_type": "markdown",
   "id": "3f30e58f",
   "metadata": {},
   "source": [
    "**Question 7**\n",
    "\n",
    "Given a string **str**, the task is to print all the permutations of **str**. A **permutation** is an arrangement of all or part of a set of objects, with regard to the order of the arrangement. For instance, the words ‘bat’ and ‘tab’ represents two distinct permutation (or arrangements) of a similar three letter word.\n",
    "\n",
    "**Examples:**\n",
    "\n",
    "> Input: str = “cd”\n",
    "> \n",
    "> \n",
    "> **Output:** cd dc\n",
    "> \n",
    "> **Input:** str = “abb”\n",
    "> \n",
    "> **Output:** abb abb bab bba bab bba\n"
   ]
  },
  {
   "cell_type": "code",
   "execution_count": 22,
   "id": "8a4bda55",
   "metadata": {},
   "outputs": [],
   "source": [
    "def permute(string, index, current):\n",
    "    \n",
    "    if index == len(string):\n",
    "        print(current)\n",
    "        return\n",
    "    \n",
    "    for i in range(index, len(string)):\n",
    "        string[index], string[i] = string[i], string[index]\n",
    "        permute(string, index + 1, current + string[index])\n",
    "        string[index], string[i] = string[i], string[index]"
   ]
  },
  {
   "cell_type": "code",
   "execution_count": 23,
   "id": "f5d66c0b",
   "metadata": {},
   "outputs": [
    {
     "name": "stdout",
     "output_type": "stream",
     "text": [
      "cd\n",
      "dc\n"
     ]
    }
   ],
   "source": [
    "permute(list(\"cd\"), 0, \"\")"
   ]
  },
  {
   "cell_type": "code",
   "execution_count": 24,
   "id": "49a2cba1",
   "metadata": {},
   "outputs": [
    {
     "name": "stdout",
     "output_type": "stream",
     "text": [
      "abb\n",
      "abb\n",
      "bab\n",
      "bba\n",
      "bba\n",
      "bab\n"
     ]
    }
   ],
   "source": [
    "permute(list(\"abb\"), 0, \"\")"
   ]
  },
  {
   "cell_type": "markdown",
   "id": "233212d0",
   "metadata": {},
   "source": [
    "**Question 8**\n",
    "\n",
    "Given a string, count total number of consonants in it. A consonant is an English alphabet character that is not vowel (a, e, i, o and u). Examples of constants are b, c, d, f, and g.\n",
    "\n",
    "**Examples :**\n",
    "Input : abc de\n",
    "Output : 3\n",
    "There are three consonants b, c and d.\n",
    "\n",
    "Input : geeksforgeeks portal\n",
    "Output : 12"
   ]
  },
  {
   "cell_type": "code",
   "execution_count": 28,
   "id": "8a988d4e",
   "metadata": {},
   "outputs": [],
   "source": [
    "def count_consonants(s):\n",
    "    vowels = ['a', 'e', 'i', 'o', 'u']\n",
    "    count = 0\n",
    "\n",
    "    def helper(s):\n",
    "        nonlocal count\n",
    "        if len(s) == 0:\n",
    "            return\n",
    "        elif s[0].lower() not in vowels and s[0].isalpha():\n",
    "            count += 1\n",
    "        helper(s[1:])\n",
    "\n",
    "    helper(s)\n",
    "    return count"
   ]
  },
  {
   "cell_type": "code",
   "execution_count": 29,
   "id": "a8f556bc",
   "metadata": {},
   "outputs": [
    {
     "data": {
      "text/plain": [
       "12"
      ]
     },
     "execution_count": 29,
     "metadata": {},
     "output_type": "execute_result"
    }
   ],
   "source": [
    "count_consonants('geeksforgeeks portal')"
   ]
  },
  {
   "cell_type": "code",
   "execution_count": 30,
   "id": "40e94270",
   "metadata": {},
   "outputs": [
    {
     "data": {
      "text/plain": [
       "3"
      ]
     },
     "execution_count": 30,
     "metadata": {},
     "output_type": "execute_result"
    }
   ],
   "source": [
    "count_consonants('abcd')"
   ]
  },
  {
   "cell_type": "code",
   "execution_count": null,
   "id": "8d192882",
   "metadata": {},
   "outputs": [],
   "source": []
  }
 ],
 "metadata": {
  "kernelspec": {
   "display_name": "Python 3 (ipykernel)",
   "language": "python",
   "name": "python3"
  },
  "language_info": {
   "codemirror_mode": {
    "name": "ipython",
    "version": 3
   },
   "file_extension": ".py",
   "mimetype": "text/x-python",
   "name": "python",
   "nbconvert_exporter": "python",
   "pygments_lexer": "ipython3",
   "version": "3.9.13"
  }
 },
 "nbformat": 4,
 "nbformat_minor": 5
}
