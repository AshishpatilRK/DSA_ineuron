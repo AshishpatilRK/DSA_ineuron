{
 "cells": [
  {
   "cell_type": "markdown",
   "id": "a2e3f818",
   "metadata": {},
   "source": [
    "# Question -2"
   ]
  },
  {
   "cell_type": "markdown",
   "id": "0f1b4f2a",
   "metadata": {},
   "source": [
    "Implement a queue using a list in Python. Include the necessary methods such as enqueue, dequeue."
   ]
  },
  {
   "cell_type": "code",
   "execution_count": 8,
   "id": "3176a1ba",
   "metadata": {},
   "outputs": [
    {
     "name": "stdout",
     "output_type": "stream",
     "text": [
      "Queue\n",
      "['a', 'b', 'c']\n",
      "Dequeue\n",
      "c\n",
      "b\n",
      "a\n",
      "Queue after removing elements\n",
      "[]\n"
     ]
    }
   ],
   "source": [
    "queue = []   # empty queue\n",
    "\n",
    "queue.append('a')                       # Adding elements to the queue\n",
    "queue.append('b')\n",
    "queue.append('c')\n",
    "  \n",
    "print(\"Queue\")\n",
    "print(queue)\n",
    "  \n",
    "print(\"Dequeue\")   # Removing elements from the queue\n",
    "print(queue.pop())\n",
    "print(queue.pop())\n",
    "print(queue.pop())\n",
    "  \n",
    "print(\"Queue after removing elements\")\n",
    "print(queue)"
   ]
  },
  {
   "cell_type": "code",
   "execution_count": 9,
   "id": "38333609",
   "metadata": {},
   "outputs": [
    {
     "name": "stdout",
     "output_type": "stream",
     "text": [
      "Size Before Insertion: 0\n",
      "After Insertion: 4\n",
      "Queue is Full or Not: True\n",
      "Size of Queue: 4\n",
      "Removing Elements:\n",
      "A\n",
      "AA\n",
      "AAA\n",
      "Empty or Not?? False\n",
      "AAAA\n",
      "Empty or Not?? True\n",
      "Size of Queue: 0\n"
     ]
    }
   ],
   "source": [
    "from queue import Queue           # Queue using importing Queue module\n",
    "\n",
    "q=Queue(maxsize=4)          # taking queue of max size \n",
    "print(\"Size Before Insertion:\",q.qsize())   # printing size of the queue\n",
    " \n",
    "q.put('A')   # insertion of elements\n",
    "q.put('AA')\n",
    "q.put('AAA')\n",
    "q.put('AAAA')\n",
    "\n",
    "print(\"After Insertion:\",q.qsize())     # printing size of the queue after insertion\n",
    "print(\"Queue is Full or Not:\",q.full())  # check queue is full or not\n",
    "print(\"Size of Queue:\",q.qsize())         # checking size\n",
    "\n",
    "print(\"Removing Elements:\")\n",
    "print(q.get())\n",
    "print(q.get())\n",
    "print(q.get())\n",
    "\n",
    "print(\"Empty or Not??\",q.empty())   #check queue is empty or not\n",
    "print(q.get())\n",
    "print(\"Empty or Not??\",q.empty()) #check queue is empty or not\n",
    "print(\"Size of Queue:\",q.qsize())   # checking size"
   ]
  },
  {
   "cell_type": "code",
   "execution_count": 10,
   "id": "4477964a",
   "metadata": {},
   "outputs": [
    {
     "name": "stdout",
     "output_type": "stream",
     "text": [
      "Queue: deque([10, 100, 1000, 10000])\n",
      "10\n",
      "100\n",
      "Queue Removing elements: deque([1000, 10000])\n"
     ]
    }
   ],
   "source": [
    "from collections import deque   # Queue using importing deque module\n",
    "\n",
    "q=deque()     # taking deque\n",
    "q.append(10)\n",
    "q.append(100)\n",
    "q.append(1000)\n",
    "q.append(10000)\n",
    "\n",
    "print(\"Queue:\",q)\n",
    "print(q.popleft())   # Removing elements\n",
    "print(q.popleft())\n",
    "print(\"Queue Removing elements:\",q)"
   ]
  },
  {
   "cell_type": "code",
   "execution_count": null,
   "id": "8fe3ab73",
   "metadata": {},
   "outputs": [],
   "source": []
  }
 ],
 "metadata": {
  "kernelspec": {
   "display_name": "Python 3 (ipykernel)",
   "language": "python",
   "name": "python3"
  },
  "language_info": {
   "codemirror_mode": {
    "name": "ipython",
    "version": 3
   },
   "file_extension": ".py",
   "mimetype": "text/x-python",
   "name": "python",
   "nbconvert_exporter": "python",
   "pygments_lexer": "ipython3",
   "version": "3.9.13"
  }
 },
 "nbformat": 4,
 "nbformat_minor": 5
}
