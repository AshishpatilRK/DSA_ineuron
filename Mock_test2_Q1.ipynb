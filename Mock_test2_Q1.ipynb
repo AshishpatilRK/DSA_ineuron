{
 "cells": [
  {
   "cell_type": "markdown",
   "id": "4596e858",
   "metadata": {},
   "source": [
    "Given a non-negative integer x, return the square root of x rounded down to the nearest integer. The returned integer should be non-negative as well. You must not use any built-in exponent function or operator. \n",
    "\n",
    " Example 1:\n",
    "Input: x = 4 Output: 2 Explanation: The square root of 4 is 2, so we return 2.\n",
    "Example 2:\n",
    "\n",
    "Input: x = 8 Output: 2 Explanation: The square root of 8 is 2.82842..., and since we round it down to the nearest integer, 2 is returned.\n",
    "Constraints:\n",
    "\n",
    "0 <= x <= 2^31 - 1\n",
    "\n",
    "Note: Create a GitHub file for the solution and add the file link the the answer section below."
   ]
  },
  {
   "cell_type": "code",
   "execution_count": 3,
   "id": "5cd2792a",
   "metadata": {},
   "outputs": [
    {
     "data": {
      "text/plain": [
       "4"
      ]
     },
     "execution_count": 3,
     "metadata": {},
     "output_type": "execute_result"
    }
   ],
   "source": [
    "def sqrt(x):\n",
    "        if x < 2:\n",
    "            return x\n",
    "        start = 0   # taking start varibale as 0\n",
    "        end = x/2  # taking  end varibale as x/2\n",
    "        while (start <= end):  # while loop run until start <= end\n",
    "            mid = int((start + end) / 2)   # get mid value\n",
    "            square = mid * mid  # square of mid value\n",
    "            if square == x:   # this condition \n",
    "                return mid   # retur  mid value \n",
    "            if square > x:   # if square greater than x \n",
    "                end = mid - 1   # get this \n",
    "            else:                   # otherwise\n",
    "                start = mid + 1     # start value increases\n",
    "        return end             # return end\n",
    "sqrt(18)"
   ]
  },
  {
   "cell_type": "code",
   "execution_count": null,
   "id": "5bfdc642",
   "metadata": {},
   "outputs": [],
   "source": []
  }
 ],
 "metadata": {
  "kernelspec": {
   "display_name": "Python 3 (ipykernel)",
   "language": "python",
   "name": "python3"
  },
  "language_info": {
   "codemirror_mode": {
    "name": "ipython",
    "version": 3
   },
   "file_extension": ".py",
   "mimetype": "text/x-python",
   "name": "python",
   "nbconvert_exporter": "python",
   "pygments_lexer": "ipython3",
   "version": "3.9.13"
  }
 },
 "nbformat": 4,
 "nbformat_minor": 5
}
